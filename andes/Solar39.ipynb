{
  "cells": [
    {
      "cell_type": "markdown",
      "metadata": {
        "id": "_F-RAHl4z1FG"
      },
      "source": [
        "# ANDES Demonstration of `DGPRCTExt` on IEEE 14-Bus System\n",
        "\n",
        "Prepared by Jinning Wang. Last revised 12 September 2021.\n",
        "\n",
        "## Background\n",
        "\n",
        "Voltage signal is set manually to demonstrate `DGPRCTExt`.\n",
        "\n",
        "In the modified IEEE 14-bus system, 10 `PVD1` are conencted to `Bus4`, and 1 `DGPRCTExt` is added aiming at `PVD1_2`.\n",
        "\n",
        "## Conclusion\n",
        "\n",
        "`DGPRCTExt` can be used to implement protection on `DG` models, where the voltage signal can be manipulated manually. This feature allows co-simulation where you can input the external voltage signal into ADNES by `set` function."
      ]
    },
    {
      "cell_type": "code",
      "source": [
        "!python3 -m pip install andes\n",
        "!python -m pip install kvxopt\n",
        "# !pip install -r requirements.txt\n",
        "!pip install -U PyYAML"
      ],
      "metadata": {
        "colab": {
          "base_uri": "https://localhost:8080/"
        },
        "id": "O_xdLFFi1UqQ",
        "outputId": "88d27417-424a-420f-f6e9-bdbdd391a19b"
      },
      "execution_count": null,
      "outputs": [
        {
          "output_type": "stream",
          "name": "stdout",
          "text": [
            "Collecting andes\n",
            "  Downloading andes-1.6.2.tar.gz (7.5 MB)\n",
            "\u001b[K     |████████████████████████████████| 7.5 MB 6.5 MB/s \n",
            "\u001b[?25hCollecting kvxopt>=1.3.0.0\n",
            "  Downloading kvxopt-1.3.0.0-cp37-cp37m-manylinux_2_17_x86_64.manylinux2014_x86_64.whl (12.2 MB)\n",
            "\u001b[K     |████████████████████████████████| 12.2 MB 35.1 MB/s \n",
            "\u001b[?25hRequirement already satisfied: numpy in /usr/local/lib/python3.7/dist-packages (from andes) (1.21.5)\n",
            "Requirement already satisfied: scipy in /usr/local/lib/python3.7/dist-packages (from andes) (1.4.1)\n",
            "Requirement already satisfied: sympy!=1.10.0,<=1.10.1,>=1.6 in /usr/local/lib/python3.7/dist-packages (from andes) (1.7.1)\n",
            "Requirement already satisfied: pandas in /usr/local/lib/python3.7/dist-packages (from andes) (1.3.5)\n",
            "Requirement already satisfied: matplotlib in /usr/local/lib/python3.7/dist-packages (from andes) (3.2.2)\n",
            "Requirement already satisfied: openpyxl in /usr/local/lib/python3.7/dist-packages (from andes) (3.0.9)\n",
            "Collecting xlsxwriter\n",
            "  Downloading XlsxWriter-3.0.3-py3-none-any.whl (149 kB)\n",
            "\u001b[K     |████████████████████████████████| 149 kB 46.0 MB/s \n",
            "\u001b[?25hRequirement already satisfied: dill in /usr/local/lib/python3.7/dist-packages (from andes) (0.3.4)\n",
            "Collecting pathos\n",
            "  Downloading pathos-0.2.8-py2.py3-none-any.whl (81 kB)\n",
            "\u001b[K     |████████████████████████████████| 81 kB 8.1 MB/s \n",
            "\u001b[?25hRequirement already satisfied: tqdm in /usr/local/lib/python3.7/dist-packages (from andes) (4.63.0)\n",
            "Requirement already satisfied: pyyaml in /usr/local/lib/python3.7/dist-packages (from andes) (3.13)\n",
            "Collecting coloredlogs\n",
            "  Downloading coloredlogs-15.0.1-py2.py3-none-any.whl (46 kB)\n",
            "\u001b[K     |████████████████████████████████| 46 kB 3.1 MB/s \n",
            "\u001b[?25hRequirement already satisfied: chardet in /usr/local/lib/python3.7/dist-packages (from andes) (3.0.4)\n",
            "Requirement already satisfied: numba in /usr/local/lib/python3.7/dist-packages (from andes) (0.51.2)\n",
            "Requirement already satisfied: psutil in /usr/local/lib/python3.7/dist-packages (from andes) (5.4.8)\n",
            "Requirement already satisfied: mpmath>=0.19 in /usr/local/lib/python3.7/dist-packages (from sympy!=1.10.0,<=1.10.1,>=1.6->andes) (1.2.1)\n",
            "Collecting humanfriendly>=9.1\n",
            "  Downloading humanfriendly-10.0-py2.py3-none-any.whl (86 kB)\n",
            "\u001b[K     |████████████████████████████████| 86 kB 3.2 MB/s \n",
            "\u001b[?25hRequirement already satisfied: python-dateutil>=2.1 in /usr/local/lib/python3.7/dist-packages (from matplotlib->andes) (2.8.2)\n",
            "Requirement already satisfied: pyparsing!=2.0.4,!=2.1.2,!=2.1.6,>=2.0.1 in /usr/local/lib/python3.7/dist-packages (from matplotlib->andes) (3.0.7)\n",
            "Requirement already satisfied: cycler>=0.10 in /usr/local/lib/python3.7/dist-packages (from matplotlib->andes) (0.11.0)\n",
            "Requirement already satisfied: kiwisolver>=1.0.1 in /usr/local/lib/python3.7/dist-packages (from matplotlib->andes) (1.4.0)\n",
            "Requirement already satisfied: typing-extensions in /usr/local/lib/python3.7/dist-packages (from kiwisolver>=1.0.1->matplotlib->andes) (3.10.0.2)\n",
            "Requirement already satisfied: six>=1.5 in /usr/local/lib/python3.7/dist-packages (from python-dateutil>=2.1->matplotlib->andes) (1.15.0)\n",
            "Requirement already satisfied: llvmlite<0.35,>=0.34.0.dev0 in /usr/local/lib/python3.7/dist-packages (from numba->andes) (0.34.0)\n",
            "Requirement already satisfied: setuptools in /usr/local/lib/python3.7/dist-packages (from numba->andes) (57.4.0)\n",
            "Requirement already satisfied: et-xmlfile in /usr/local/lib/python3.7/dist-packages (from openpyxl->andes) (1.1.0)\n",
            "Requirement already satisfied: pytz>=2017.3 in /usr/local/lib/python3.7/dist-packages (from pandas->andes) (2018.9)\n",
            "Requirement already satisfied: multiprocess>=0.70.12 in /usr/local/lib/python3.7/dist-packages (from pathos->andes) (0.70.12.2)\n",
            "Collecting pox>=0.3.0\n",
            "  Downloading pox-0.3.0-py2.py3-none-any.whl (30 kB)\n",
            "Collecting ppft>=1.6.6.4\n",
            "  Downloading ppft-1.6.6.4-py3-none-any.whl (65 kB)\n",
            "\u001b[K     |████████████████████████████████| 65 kB 3.0 MB/s \n",
            "\u001b[?25hBuilding wheels for collected packages: andes\n",
            "  Building wheel for andes (setup.py) ... \u001b[?25l\u001b[?25hdone\n",
            "  Created wheel for andes: filename=andes-1.6.2-py3-none-any.whl size=2927376 sha256=401b4759c266ec24346ceabb78d26c88165a86b1ba2bdb56d9e9f7984daf5ffd\n",
            "  Stored in directory: /root/.cache/pip/wheels/0f/6d/d5/2233a6bf9ce0c3e8ac4e5cc667fc032145fa8540cd1b0723a6\n",
            "Successfully built andes\n",
            "Installing collected packages: ppft, pox, humanfriendly, xlsxwriter, pathos, kvxopt, coloredlogs, andes\n",
            "Successfully installed andes-1.6.2 coloredlogs-15.0.1 humanfriendly-10.0 kvxopt-1.3.0.0 pathos-0.2.8 pox-0.3.0 ppft-1.6.6.4 xlsxwriter-3.0.3\n",
            "Requirement already satisfied: kvxopt in /usr/local/lib/python3.7/dist-packages (1.3.0.0)\n",
            "Requirement already satisfied: PyYAML in /usr/local/lib/python3.7/dist-packages (3.13)\n",
            "Collecting PyYAML\n",
            "  Downloading PyYAML-6.0-cp37-cp37m-manylinux_2_5_x86_64.manylinux1_x86_64.manylinux_2_12_x86_64.manylinux2010_x86_64.whl (596 kB)\n",
            "\u001b[K     |████████████████████████████████| 596 kB 9.4 MB/s \n",
            "\u001b[?25hInstalling collected packages: PyYAML\n",
            "  Attempting uninstall: PyYAML\n",
            "    Found existing installation: PyYAML 3.13\n",
            "    Uninstalling PyYAML-3.13:\n",
            "      Successfully uninstalled PyYAML-3.13\n",
            "Successfully installed PyYAML-6.0\n"
          ]
        }
      ]
    },
    {
      "cell_type": "code",
      "execution_count": null,
      "metadata": {
        "execution": {
          "iopub.execute_input": "2021-09-26T22:41:51.006310Z",
          "iopub.status.busy": "2021-09-26T22:41:51.005959Z",
          "iopub.status.idle": "2021-09-26T22:41:51.749328Z",
          "shell.execute_reply": "2021-09-26T22:41:51.749576Z"
        },
        "id": "ZxsbMtcBz1FK"
      },
      "outputs": [],
      "source": [
        "import andes\n",
        "from andes.utils.paths import get_case\n",
        "import numpy as np\n",
        "import matplotlib.pyplot as plt\n",
        "andes.config_logger(stream_level=30)"
      ]
    },
    {
      "cell_type": "code",
      "source": [
        "from google.colab import drive\n",
        "drive.mount('/content/drive')"
      ],
      "metadata": {
        "colab": {
          "base_uri": "https://localhost:8080/"
        },
        "id": "BSENNaZ-sZsv",
        "outputId": "32c0c0da-a0a7-4d23-e235-5b8c30e00e5e"
      },
      "execution_count": null,
      "outputs": [
        {
          "output_type": "stream",
          "name": "stdout",
          "text": [
            "Mounted at /content/drive\n"
          ]
        }
      ]
    },
    {
      "cell_type": "code",
      "source": [
        "RecoverFlag = 0"
      ],
      "metadata": {
        "id": "63YNTZV5AEie"
      },
      "execution_count": null,
      "outputs": []
    },
    {
      "cell_type": "markdown",
      "source": [
        "# W.O control"
      ],
      "metadata": {
        "id": "GMSrOpY0AE3M"
      }
    },
    {
      "cell_type": "code",
      "source": [],
      "metadata": {
        "id": "IyNf7dOr0w-F"
      },
      "execution_count": null,
      "outputs": []
    },
    {
      "cell_type": "markdown",
      "source": [
        "## init"
      ],
      "metadata": {
        "id": "bYmtY-4-0xU5"
      }
    },
    {
      "cell_type": "code",
      "source": [
        "!andes misc -C"
      ],
      "metadata": {
        "colab": {
          "base_uri": "https://localhost:8080/"
        },
        "outputId": "767805e8-3dd4-44da-c8e4-a81e2b360d18",
        "id": "PVeU6HOO0xU6"
      },
      "execution_count": null,
      "outputs": [
        {
          "output_type": "stream",
          "name": "stdout",
          "text": [
            "\"/content/ieee39_wenqiv2_out.txt\" removed.\n",
            "\"/content/ieee39_wenqiv2_out.lst\" removed.\n",
            "\"/content/ieee39_wenqiv2_out.npz\" removed.\n"
          ]
        }
      ]
    },
    {
      "cell_type": "code",
      "execution_count": null,
      "metadata": {
        "execution": {
          "iopub.execute_input": "2021-09-26T22:41:51.752282Z",
          "iopub.status.busy": "2021-09-26T22:41:51.752044Z",
          "iopub.status.idle": "2021-09-26T22:41:52.430456Z",
          "shell.execute_reply": "2021-09-26T22:41:52.430863Z"
        },
        "id": "8xhzGXti0xU7"
      },
      "outputs": [],
      "source": [
        "ss = andes.load(get_case('ieee39_test.xlsx'),\n",
        "                setup=False,\n",
        "                no_output=False)"
      ]
    },
    {
      "cell_type": "code",
      "source": [
        "Pm=np.array([ -0.19983394, -0.25653884, -0.25191885, -0.10242008, -0.34510365,\\\n",
        "         0.23206371,  0.4404325 ,  0.5896664 ,  0.26257738, -0.36892462])\n",
        "dim_PQ = 19\n",
        "dim_PV = 13\n",
        "dim_bus = 39\n",
        "adjust_ratio = 1\n",
        "ss.PV.p0.v[0:9] = np.array(ss.PV.p0.v[0:9])*adjust_ratio + Pm[0:9]\n",
        "ss.Slack.p0.v[0] = np.array(ss.Slack.p0.v[0])*adjust_ratio + Pm[-1]\n",
        "\n"
      ],
      "metadata": {
        "id": "Z0UjAcj50xU7"
      },
      "execution_count": null,
      "outputs": []
    },
    {
      "cell_type": "code",
      "source": [
        "fault_time = 1\n",
        "ss.setup()"
      ],
      "metadata": {
        "colab": {
          "base_uri": "https://localhost:8080/"
        },
        "outputId": "d39e9629-199b-4d24-a78e-7d3e2d9129b4",
        "id": "YLGvxHla0xU7"
      },
      "execution_count": null,
      "outputs": [
        {
          "output_type": "execute_result",
          "data": {
            "text/plain": [
              "True"
            ]
          },
          "metadata": {},
          "execution_count": 305
        }
      ]
    },
    {
      "cell_type": "code",
      "execution_count": null,
      "metadata": {
        "execution": {
          "iopub.execute_input": "2021-09-26T22:41:52.487817Z",
          "iopub.status.busy": "2021-09-26T22:41:52.487337Z",
          "iopub.status.idle": "2021-09-26T22:41:52.500963Z",
          "shell.execute_reply": "2021-09-26T22:41:52.500615Z"
        },
        "scrolled": true,
        "colab": {
          "base_uri": "https://localhost:8080/"
        },
        "outputId": "5ff889f6-74a0-4ca2-f836-58e464eefa1b",
        "id": "AY1RK1XV0xU7"
      },
      "outputs": [
        {
          "output_type": "execute_result",
          "data": {
            "text/plain": [
              "True"
            ]
          },
          "metadata": {},
          "execution_count": 306
        }
      ],
      "source": [
        "# use constant power model for PQ\n",
        "ss.PQ.config.p2p = 1\n",
        "ss.PQ.config.q2q = 1\n",
        "ss.PQ.config.p2z = 0\n",
        "ss.PQ.config.q2z = 0\n",
        "\n",
        "# turn off under-voltage PQ-to-Z conversion\n",
        "ss.PQ.pq2z = 0\n",
        "\n",
        "ss.PFlow.run()"
      ]
    },
    {
      "cell_type": "code",
      "source": [
        "ratiogen =0.7\n",
        "num_PVD = 10\n",
        "ss.PVD1.gammap.v[0:num_PVD] = np.ones(num_PVD )*(1-ratiogen)\n",
        "ss.PVD1.gammaq.v[0:num_PVD] = np.ones(num_PVD )*(1-ratiogen)\n",
        "ss.GENROU.gammap.v[0:num_PVD] = np.ones(num_PVD )*ratiogen\n",
        "ss.GENROU.gammaq.v[0:num_PVD] = np.ones(num_PVD )*ratiogen"
      ],
      "metadata": {
        "id": "04L1yZ940xU7"
      },
      "execution_count": null,
      "outputs": []
    },
    {
      "cell_type": "code",
      "source": [
        "ss.PVD1.Ipcmd.lim.allow_adjust = True\n",
        "ss.PVD1.Iqcmd.lim.allow_adjust = True\n",
        "ss.PVD1.ialim.v[0:10] = ss.PVD1.ialim.v[0:10]*300\n"
      ],
      "metadata": {
        "id": "L4dfNk_c0xU8"
      },
      "execution_count": null,
      "outputs": []
    },
    {
      "cell_type": "code",
      "execution_count": null,
      "metadata": {
        "execution": {
          "iopub.execute_input": "2021-09-26T22:41:52.504016Z",
          "iopub.status.busy": "2021-09-26T22:41:52.503717Z",
          "iopub.status.idle": "2021-09-26T22:41:53.062182Z",
          "shell.execute_reply": "2021-09-26T22:41:53.062663Z"
        },
        "colab": {
          "base_uri": "https://localhost:8080/"
        },
        "outputId": "0b562e61-4cfd-499c-eef4-f73e0c114782",
        "id": "o-kXMhq_0xU8"
      },
      "outputs": [
        {
          "output_type": "stream",
          "name": "stderr",
          "text": [
            "GENROU (xl <= xd2) out of typical upper limit.\n",
            "\n",
            "   idx    | values | limit\n",
            "----------+--------+------\n",
            " GENROU_5 | 0.054  | 0.039\n",
            " GENROU_9 | 0.030  | 0.021\n",
            "\n",
            "\n",
            "Suspect initialization issue! Simulation may crash!\n",
            "\n",
            "   Name     | Var. Value | Eqn. Mismatch\n",
            "------------+------------+--------------\n",
            " v Bus 30.0 | 1.048      | -0.003       \n",
            " v Bus 31.0 | 1.040      | -0.003       \n",
            " v Bus 32.0 | 0.983      | -0.003       \n",
            " v Bus 33.0 | 0.997      | -0.003       \n",
            " v Bus 34.0 | 1.012      | -0.003       \n",
            " v Bus 35.0 | 1.049      | -0.003       \n",
            " v Bus 36.0 | 1.063      | -0.003       \n",
            " v Bus 37.0 | 1.028      | -0.003       \n",
            " v Bus 38.0 | 1.026      | -0.003       \n",
            " v Bus 39.0 | 1.030      | -0.003       \n",
            "\n",
            "\n",
            "Initialization failed!!\n",
            "If you are developing a new model, check the initialization with\n",
            "   andes -v 10 run -r tds --init /content/drive/MyDrive/Colab Notebooks/andes/examples0313/cases0313/ieee39_wenqiv2.xlsx\n",
            "Otherwise, check the variables that are initialized out of limits.\n"
          ]
        },
        {
          "output_type": "stream",
          "name": "stdout",
          "text": [
            " 32%|#############7                             | 32/100 [00:00<00:00, 95.01%/s]\n"
          ]
        },
        {
          "output_type": "execute_result",
          "data": {
            "text/plain": [
              "True"
            ]
          },
          "metadata": {},
          "execution_count": 312
        }
      ],
      "source": [
        "ss.TDS.config.tf = fault_time\n",
        "ss.TDS.run()"
      ]
    },
    {
      "cell_type": "code",
      "source": [
        "ss.TDS.plt.plot(ss.GENROU.omega,\n",
        "                ycalc=lambda x:60*x,\n",
        "                title='Generator Speed $\\omega$')"
      ],
      "metadata": {
        "colab": {
          "base_uri": "https://localhost:8080/"
        },
        "outputId": "76af1fb4-ec01-43a9-f8e9-eccd56dea1b7",
        "id": "fahFdPdR0xU9"
      },
      "execution_count": null,
      "outputs": [
        {
          "output_type": "display_data",
          "data": {
            "text/plain": [
              "<Figure size 600x400 with 1 Axes>"
            ],
            "image/png": "[encoded data removed]"
          },
          "metadata": {
            "needs_background": "light"
          }
        },
        {
          "output_type": "execute_result",
          "data": {
            "text/plain": [
              "(<Figure size 600x400 with 1 Axes>,\n",
              " <matplotlib.axes._subplots.AxesSubplot at 0x7feab7353b50>)"
            ]
          },
          "metadata": {},
          "execution_count": 313
        }
      ]
    },
    {
      "cell_type": "markdown",
      "source": [
        "## step load change"
      ],
      "metadata": {
        "id": "P49rwbTwIvIM"
      }
    },
    {
      "cell_type": "code",
      "source": [
        "print(ss.GENROU.tm0.v)\n",
        "print(ss.GENROU.p0.v)\n"
      ],
      "metadata": {
        "colab": {
          "base_uri": "https://localhost:8080/"
        },
        "id": "UxHpFrNTKF6T",
        "outputId": "9a91ff16-8a26-413c-930b-0e3b593e0e77"
      },
      "execution_count": null,
      "outputs": [
        {
          "output_type": "stream",
          "name": "stdout",
          "text": [
            "[1.61144648 3.95486241 4.38266088 4.35681178 3.31598831 4.86732746\n",
            " 4.23289961 4.20602153 6.00460929 0.09476272]\n",
            "[1.61011624 3.83093281 4.3736568  4.35230594 3.31442744 4.7124446\n",
            " 4.22830275 4.19276648 5.99380417 0.09435625]\n"
          ]
        }
      ]
    },
    {
      "cell_type": "code",
      "source": [
        "ss.GENROU.tm0.v[7]= ss.GENROU.tm0.v[7] - 2"
      ],
      "metadata": {
        "id": "EQTnwpaMHjB_"
      },
      "execution_count": null,
      "outputs": []
    },
    {
      "cell_type": "code",
      "source": [
        "\n",
        "\n",
        "ss.TDS.config.tf = fault_time+10\n",
        "ss.TDS.run()"
      ],
      "metadata": {
        "colab": {
          "base_uri": "https://localhost:8080/"
        },
        "id": "GzwQNM_SIWKH",
        "outputId": "e4ac46ab-3d9a-463a-f008-36f54f7866bb"
      },
      "execution_count": null,
      "outputs": [
        {
          "output_type": "stream",
          "name": "stdout",
          "text": [
            "100%|########################################| 100.0/100 [00:05<00:00, 17.90%/s]\n"
          ]
        },
        {
          "output_type": "execute_result",
          "data": {
            "text/plain": [
              "True"
            ]
          },
          "metadata": {},
          "execution_count": 322
        }
      ]
    },
    {
      "cell_type": "code",
      "source": [
        "ListTime = ss.dae.ts.t\n",
        "ListFreq = ss.dae.ts.y[:,ss.BusFreq.f.a]*60 #Hz\n",
        "ListOmega= ss.dae.ts.x[:,ss.GENROU.omega.a]*60 #Hz\n",
        "plt_idx = np.arange(0,10)\n",
        "TimeStep_start = 0\n",
        "TimeStep = np.size(ListTime)\n",
        "#  1100\n",
        "fig = plt.figure(figsize=(9, 3), dpi=100)\n",
        "\n",
        "plt.subplot(1,2,1)\n",
        "\n",
        "plt.plot(ListTime[TimeStep_start:TimeStep]-ListTime[TimeStep_start ], ListOmega[TimeStep_start:TimeStep, plt_idx], label='RotorFreq')\n",
        "plt.xlabel('t(s)')\n",
        "plt.ylabel('P(p.u.)')\n",
        "plt.title('omega')\n",
        "# plt.legend()\n",
        "\n",
        "plt.subplot(1,2,2)\n",
        "# TimeStep_start = 560\n",
        "# TimeStep = 800\n",
        "plt.plot(ListTime[TimeStep_start:TimeStep]-ListTime[TimeStep_start ], ListFreq[TimeStep_start:TimeStep, plt_idx], label='BusFreq')\n",
        "plt.xlabel('t(s)')\n",
        "plt.ylabel('P(p.u.)')\n",
        "plt.title('freq')\n",
        "\n",
        "# plt.legend()\n",
        "fig.tight_layout()"
      ],
      "metadata": {
        "colab": {
          "base_uri": "https://localhost:8080/",
          "height": 301
        },
        "id": "ukdKdf2MH0ke",
        "outputId": "98ef912d-29fb-43bb-a2c9-0e8afa38bd66"
      },
      "execution_count": null,
      "outputs": [
        {
          "output_type": "display_data",
          "data": {
            "text/plain": [
              "<Figure size 900x300 with 2 Axes>"
            ],
            "image/png": "[encoded data removed]"
          },
          "metadata": {
            "needs_background": "light"
          }
        }
      ]
    },
    {
      "cell_type": "markdown",
      "source": [
        "# With Linear Control"
      ],
      "metadata": {
        "id": "wjakb5Ef4RAm"
      }
    },
    {
      "cell_type": "code",
      "source": [],
      "metadata": {
        "id": "v6DSg7V1hqjY"
      },
      "execution_count": null,
      "outputs": []
    },
    {
      "cell_type": "code",
      "source": [
        "\n",
        "!pip install mat4py\n",
        "import collections\n",
        "import matplotlib.pyplot as plt\n",
        "from mpl_toolkits.mplot3d import Axes3D\n",
        "import numpy as np\n",
        "import gym\n",
        "import tensorflow as tf\n",
        "import os\n",
        "import random\n",
        "from tensorflow.keras import models, layers, optimizers\n",
        "from tensorflow.keras.layers import RNN\n",
        "import tensorflow.keras.backend as K\n",
        "import sys\n",
        "from gym import spaces\n",
        "from gym.utils import seeding\n",
        "import copy\n",
        "from mat4py import loadmat\n",
        "from tensorflow.keras import layers\n",
        "from tensorflow import keras"
      ],
      "metadata": {
        "colab": {
          "base_uri": "https://localhost:8080/"
        },
        "id": "_vjT-SaWdSvn",
        "outputId": "956586d8-6249-4126-eaf8-709915e99073"
      },
      "execution_count": null,
      "outputs": [
        {
          "output_type": "stream",
          "name": "stdout",
          "text": [
            "Requirement already satisfied: mat4py in /usr/local/lib/python3.7/dist-packages (0.5.0)\n"
          ]
        }
      ]
    },
    {
      "cell_type": "code",
      "source": [
        "max_action=np.array([[0.19606592, 0.2190382 , 0.22375287, 0.0975513 , 0.29071101,\n",
        "        0.22091283, 0.38759459, 0.56512538, 0.24151538, 0.29821917]],dtype=np.float32)*1.\n",
        "linear_coff=np.array([[ 2.2347659,   2.720281 ,   2.4595585,  43.59709  ,   5.7675405,\n",
        "          2.3880444, 156.02136  ,  12.0558605,   2.8042254,  25.922562  ]], dtype=np.float32)*1\n",
        "max_action = max_action.reshape(-1)\n",
        "linear_coff = linear_coff.reshape(-1)"
      ],
      "metadata": {
        "id": "gzcw_Iumddc_"
      },
      "execution_count": null,
      "outputs": []
    },
    {
      "cell_type": "code",
      "source": [
        "def Action_linear(pref0_init, linear_coff, idexs, max_action):\n",
        "    action_nonconstrain =  - (ss.PVD1.fHz.v[idexs]-60)*linear_coff[idexs]\n",
        "\n",
        "    action=max_action[idexs]-tf.nn.relu(max_action[idexs]-action_nonconstrain)+tf.nn.relu(-max_action[idexs]-action_nonconstrain)\n",
        "    return pref0_init[idexs]+action"
      ],
      "metadata": {
        "id": "RzR0f-bsdiMd"
      },
      "execution_count": null,
      "outputs": []
    },
    {
      "cell_type": "code",
      "source": [],
      "metadata": {
        "id": "r5UkN0hSBIDU"
      },
      "execution_count": null,
      "outputs": []
    },
    {
      "cell_type": "markdown",
      "source": [
        "## init"
      ],
      "metadata": {
        "id": "KxCuvjn6h3yY"
      }
    },
    {
      "cell_type": "code",
      "source": [
        "!andes misc -C"
      ],
      "metadata": {
        "colab": {
          "base_uri": "https://localhost:8080/"
        },
        "outputId": "835a56b4-c8c4-4bf3-b2b7-5c4616a3db8a",
        "id": "W3FWguFOh3yZ"
      },
      "execution_count": null,
      "outputs": [
        {
          "output_type": "stream",
          "name": "stdout",
          "text": [
            "\"/content/ieee39_wenqiv2_out.txt\" removed.\n",
            "\"/content/ieee39_wenqiv2_out.lst\" removed.\n",
            "\"/content/ieee39_wenqiv2_out.npz\" removed.\n"
          ]
        }
      ]
    },
    {
      "cell_type": "code",
      "execution_count": null,
      "metadata": {
        "execution": {
          "iopub.execute_input": "2021-09-26T22:41:51.752282Z",
          "iopub.status.busy": "2021-09-26T22:41:51.752044Z",
          "iopub.status.idle": "2021-09-26T22:41:52.430456Z",
          "shell.execute_reply": "2021-09-26T22:41:52.430863Z"
        },
        "id": "YXQdOjjUh3yZ"
      },
      "outputs": [],
      "source": [
        "ss = andes.load(get_case('ieee39_test.xlsx'),\n",
        "                setup=False,\n",
        "                no_output=False)"
      ]
    },
    {
      "cell_type": "code",
      "source": [
        "Pm=np.array([ -0.19983394, -0.25653884, -0.25191885, -0.10242008, -0.34510365,\\\n",
        "         0.23206371,  0.4404325 ,  0.5896664 ,  0.26257738, -0.36892462])\n",
        "dim_PQ = 19\n",
        "dim_PV = 13\n",
        "dim_bus = 39\n",
        "adjust_ratio = 1\n",
        "ss.PV.p0.v[0:9] = np.array(ss.PV.p0.v[0:9])*adjust_ratio + Pm[0:9]\n",
        "ss.Slack.p0.v[0] = np.array(ss.Slack.p0.v[0])*adjust_ratio + Pm[-1]\n",
        "\n"
      ],
      "metadata": {
        "id": "X2ByXe0Dh3yZ"
      },
      "execution_count": null,
      "outputs": []
    },
    {
      "cell_type": "code",
      "source": [
        "ss.BusFreq.Tf.v[0:10] = 0.05*np.ones(10)\n",
        "ss.BusFreq.Tw.v[0:10] = 0.03*np.ones(10)\n"
      ],
      "metadata": {
        "id": "Y6vMkgF3KmkY"
      },
      "execution_count": null,
      "outputs": []
    },
    {
      "cell_type": "code",
      "source": [
        "fault_time = 1\n",
        "\n",
        "ss.setup()"
      ],
      "metadata": {
        "colab": {
          "base_uri": "https://localhost:8080/"
        },
        "outputId": "1e1c423a-f515-4889-ad5c-527be8b644d1",
        "id": "s_8Scf0Qh3yZ"
      },
      "execution_count": null,
      "outputs": [
        {
          "output_type": "execute_result",
          "data": {
            "text/plain": [
              "True"
            ]
          },
          "metadata": {},
          "execution_count": 502
        }
      ]
    },
    {
      "cell_type": "code",
      "execution_count": null,
      "metadata": {
        "execution": {
          "iopub.execute_input": "2021-09-26T22:41:52.487817Z",
          "iopub.status.busy": "2021-09-26T22:41:52.487337Z",
          "iopub.status.idle": "2021-09-26T22:41:52.500963Z",
          "shell.execute_reply": "2021-09-26T22:41:52.500615Z"
        },
        "scrolled": true,
        "colab": {
          "base_uri": "https://localhost:8080/"
        },
        "outputId": "6cf554d2-d9b2-4fd3-c955-9299246af8d4",
        "id": "hxqr6Izih3yZ"
      },
      "outputs": [
        {
          "output_type": "execute_result",
          "data": {
            "text/plain": [
              "True"
            ]
          },
          "metadata": {},
          "execution_count": 503
        }
      ],
      "source": [
        "# use constant power model for PQ\n",
        "ss.PQ.config.p2p = 1\n",
        "ss.PQ.config.q2q = 1\n",
        "ss.PQ.config.p2z = 0\n",
        "ss.PQ.config.q2z = 0\n",
        "\n",
        "# turn off under-voltage PQ-to-Z conversion\n",
        "ss.PQ.pq2z = 0\n",
        "\n",
        "ss.PFlow.run()"
      ]
    },
    {
      "cell_type": "code",
      "source": [
        "ratiogen =0.7\n",
        "num_PVD = 10\n",
        "ss.PVD1.gammap.v[0:num_PVD] = np.ones(num_PVD )*(1-ratiogen)\n",
        "ss.PVD1.gammaq.v[0:num_PVD] = np.ones(num_PVD )*(1-ratiogen)\n",
        "ss.GENROU.gammap.v[0:num_PVD] = np.ones(num_PVD )*ratiogen\n",
        "ss.GENROU.gammaq.v[0:num_PVD] = np.ones(num_PVD )*ratiogen"
      ],
      "metadata": {
        "id": "8gRwRXhnh3ya"
      },
      "execution_count": null,
      "outputs": []
    },
    {
      "cell_type": "code",
      "source": [
        "ss.PVD1.Ipcmd.lim.allow_adjust = True\n",
        "ss.PVD1.Iqcmd.lim.allow_adjust = True\n",
        "ss.PVD1.ialim.v[0:10] = ss.PVD1.ialim.v[0:10]*300\n"
      ],
      "metadata": {
        "id": "FMNJ0_HRh3ya"
      },
      "execution_count": null,
      "outputs": []
    },
    {
      "cell_type": "code",
      "execution_count": null,
      "metadata": {
        "execution": {
          "iopub.execute_input": "2021-09-26T22:41:52.504016Z",
          "iopub.status.busy": "2021-09-26T22:41:52.503717Z",
          "iopub.status.idle": "2021-09-26T22:41:53.062182Z",
          "shell.execute_reply": "2021-09-26T22:41:53.062663Z"
        },
        "colab": {
          "base_uri": "https://localhost:8080/"
        },
        "outputId": "9da7a754-7d7e-4f76-d41e-3e1ced661aa9",
        "id": "YxXiSCD9h3ya"
      },
      "outputs": [
        {
          "output_type": "stream",
          "name": "stderr",
          "text": [
            "GENROU (xl <= xd2) out of typical upper limit.\n",
            "\n",
            "   idx    | values | limit\n",
            "----------+--------+------\n",
            " GENROU_5 | 0.054  | 0.039\n",
            " GENROU_9 | 0.030  | 0.021\n",
            "\n",
            "\n",
            "Suspect initialization issue! Simulation may crash!\n",
            "\n",
            "   Name     | Var. Value | Eqn. Mismatch\n",
            "------------+------------+--------------\n",
            " v Bus 30.0 | 1.048      | -0.003       \n",
            " v Bus 31.0 | 1.040      | -0.003       \n",
            " v Bus 32.0 | 0.983      | -0.003       \n",
            " v Bus 33.0 | 0.997      | -0.003       \n",
            " v Bus 34.0 | 1.012      | -0.003       \n",
            " v Bus 35.0 | 1.049      | -0.003       \n",
            " v Bus 36.0 | 1.063      | -0.003       \n",
            " v Bus 37.0 | 1.028      | -0.003       \n",
            " v Bus 38.0 | 1.026      | -0.003       \n",
            " v Bus 39.0 | 1.030      | -0.003       \n",
            "\n",
            "\n",
            "Initialization failed!!\n",
            "If you are developing a new model, check the initialization with\n",
            "   andes -v 10 run -r tds --init /content/drive/MyDrive/Colab Notebooks/andes/examples0313/cases0313/ieee39_wenqiv2.xlsx\n",
            "Otherwise, check the variables that are initialized out of limits.\n"
          ]
        },
        {
          "output_type": "stream",
          "name": "stdout",
          "text": [
            " 32%|#############7                             | 32/100 [00:00<00:01, 51.13%/s]\n"
          ]
        },
        {
          "output_type": "execute_result",
          "data": {
            "text/plain": [
              "True"
            ]
          },
          "metadata": {},
          "execution_count": 509
        }
      ],
      "source": [
        "ss.TDS.config.tf = fault_time\n",
        "ss.TDS.run()"
      ]
    },
    {
      "cell_type": "code",
      "source": [
        "ss.TDS.plt.plot(ss.GENROU.omega,\n",
        "                ycalc=lambda x:60*x,\n",
        "                title='Generator Speed $\\omega$')"
      ],
      "metadata": {
        "colab": {
          "base_uri": "https://localhost:8080/"
        },
        "outputId": "906498d8-b942-4e2d-d34d-1f26eb6b53d9",
        "id": "HFY4y18Ph3ya"
      },
      "execution_count": null,
      "outputs": [
        {
          "output_type": "display_data",
          "data": {
            "text/plain": [
              "<Figure size 600x400 with 1 Axes>"
            ],
            "image/png": "[encoded data removed]"
          },
          "metadata": {
            "needs_background": "light"
          }
        },
        {
          "output_type": "execute_result",
          "data": {
            "text/plain": [
              "(<Figure size 600x400 with 1 Axes>,\n",
              " <matplotlib.axes._subplots.AxesSubplot at 0x7feab344da10>)"
            ]
          },
          "metadata": {},
          "execution_count": 510
        }
      ]
    },
    {
      "cell_type": "markdown",
      "source": [
        "## Apply the control"
      ],
      "metadata": {
        "id": "KkOoRGnXbToY"
      }
    },
    {
      "cell_type": "code",
      "source": [
        "\n",
        "PQStepIdx = 16\n",
        "PQInit = np.array(ss.PQ.Ppf.v[PQStepIdx]).copy()\n",
        "PQ_after = 6\n",
        "\n",
        "ss.PQ.Ppf.v[PQStepIdx] = PQ_after\n",
        "\n"
      ],
      "metadata": {
        "id": "DyjtmX0ZJide"
      },
      "execution_count": null,
      "outputs": []
    },
    {
      "cell_type": "code",
      "source": [
        "pref0_init = ss.PVD1.pref0.v.copy()"
      ],
      "metadata": {
        "id": "51w_3qEcb633"
      },
      "execution_count": null,
      "outputs": []
    },
    {
      "cell_type": "code",
      "source": [
        "step_t = 0.02\n",
        "tstart =fault_time\n",
        "TimeLength = tstart+10\n",
        "idexs = np.arange(0,10)\n",
        "for t in np.arange(tstart, TimeLength, step_t):\n",
        "    ss.PVD1.pref0.v[idexs] = Action_linear(pref0_init, linear_coff, idexs, max_action)\n",
        "    print(ss.PVD1.pref0.v[idexs] )\n",
        "    ss.TDS.config.tf = t\n",
        "    ss.TDS.run(tstep = 0.01)\n",
        "    # ss.TDS.run(tstep = 0.01, max_iter = 50)"
      ],
      "metadata": {
        "colab": {
          "base_uri": "https://localhost:8080/"
        },
        "id": "MI_gck27b1pc",
        "outputId": "71af5b55-1c30-4d32-ec85-36037a86b155"
      },
      "execution_count": null,
      "outputs": [
        {
          "output_type": "stream",
          "name": "stdout",
          "text": [
            "[0.69002279 1.64156482 1.87416455 1.86001772 1.41971277 2.01924032\n",
            " 1.78570825 1.7966394  2.56878915 0.03941641]\n",
            "100%|#####################################| 100.0/100 [00:00<00:00, 43617.97%/s]\n",
            "[0.69002279 1.64156482 1.87416455 1.86001772 1.41971277 2.01924032\n",
            " 1.78570825 1.7966394  2.56878915 0.03941641]\n",
            "100%|#######################################| 100.0/100 [00:00<00:00, 434.55%/s]\n",
            "[0.71832057 1.66252303 1.8940662  1.96282528 1.46929586 2.04219784\n",
            " 2.19972433 2.04902666 2.8102886  0.10331197]\n",
            "100%|#######################################| 100.0/100 [00:00<00:00, 997.19%/s]\n",
            "[0.7292464  1.67031421 1.90092067 1.96282528 1.48453074 2.04755489\n",
            " 2.19972433 2.1017275  2.8102886  0.12873819]\n",
            "100%|#######################################| 100.0/100 [00:00<00:00, 581.03%/s]\n",
            "[0.74029158 1.67850817 1.90759818 1.96282528 1.49785524 2.05185462\n",
            " 2.19972433 2.12012952 2.8102886  0.15544797]\n",
            "100%|######################################| 100.0/100 [00:00<00:00, 1064.25%/s]\n",
            "[0.75987945 1.6945675  1.92187453 1.96282528 1.53322312 2.06610516\n",
            " 2.19972433 2.21920715 2.8102886  0.21371331]\n",
            "100%|######################################| 100.0/100 [00:00<00:00, 1038.96%/s]\n",
            "[0.78039697 1.71265061 1.93869105 1.96282528 1.57300607 2.08239818\n",
            " 2.19972433 2.31282529 2.8102886  0.28843586]\n",
            "100%|#######################################| 100.0/100 [00:00<00:00, 813.86%/s]\n",
            "[0.79691936 1.72963851 1.95518762 1.96282528 1.61020401 2.09828496\n",
            " 2.19972433 2.36202533 2.8102886  0.33865757]\n",
            "100%|######################################| 100.0/100 [00:00<00:00, 1289.66%/s]\n",
            "[0.80788914 1.74487196 1.97059436 1.96282528 1.6456186  2.11404445\n",
            " 2.19972433 2.36202533 2.8102886  0.33865757]\n",
            "100%|######################################| 100.0/100 [00:00<00:00, 1702.19%/s]\n",
            "[0.81264701 1.75770645 1.98402663 1.96282528 1.67807495 2.12940369\n",
            " 2.19972433 2.36202533 2.8102886  0.33865757]\n",
            "100%|######################################| 100.0/100 [00:00<00:00, 1741.08%/s]\n",
            "[0.81102348 1.76725213 1.99429924 1.96282528 1.70469096 2.14324964\n",
            " 2.19972433 2.36202533 2.8102886  0.33865757]\n",
            "100%|######################################| 100.0/100 [00:00<00:00, 1534.68%/s]\n",
            "[0.80391502 1.77299244 2.00055785 1.96282528 1.71117992 2.15417631\n",
            " 2.19972433 2.36202533 2.75400073 0.33865757]\n",
            "100%|######################################| 100.0/100 [00:00<00:00, 1638.60%/s]\n",
            "[0.79351313 1.7751788  2.00272987 1.96282528 1.71117992 2.16105495\n",
            " 2.19972433 2.34192736 2.67249203 0.33865757]\n",
            "100%|######################################| 100.0/100 [00:00<00:00, 1950.50%/s]\n",
            "[0.78244998 1.77440443 2.00120312 1.96282528 1.71117992 2.16297286\n",
            " 2.19972433 2.2981809  2.60468092 0.33865757]\n",
            "100%|######################################| 100.0/100 [00:00<00:00, 1398.59%/s]\n",
            "[0.77305463 1.77134262 1.99660648 1.96282528 1.71117992 2.15930331\n",
            " 2.19972433 2.26332658 2.55685488 0.33865757]\n",
            "100%|######################################| 100.0/100 [00:00<00:00, 1662.34%/s]\n",
            "[0.76700196 1.76684086 1.98990633 1.96282528 1.71117992 2.15016264\n",
            " 2.19972433 2.23808561 2.53254493 0.33865757]\n",
            "100%|######################################| 100.0/100 [00:00<00:00, 1136.94%/s]\n",
            "[0.76532779 1.76196169 1.98241472 1.96282528 1.6868767  2.13661313\n",
            " 2.19972433 2.22285768 2.53330603 0.33865757]\n",
            "100%|######################################| 100.0/100 [00:00<00:00, 1651.01%/s]\n",
            "[0.7683944  1.75791245 1.97566778 1.96282528 1.66101978 2.12067613\n",
            " 2.19972433 2.22336464 2.55702038 0.33865757]\n",
            "100%|######################################| 100.0/100 [00:00<00:00, 1345.41%/s]\n",
            "[0.77565183 1.7557211  1.97103763 1.96282528 1.6383942  2.10485467\n",
            " 2.19972433 2.24190241 2.59804538 0.33865757]\n",
            "100%|######################################| 100.0/100 [00:00<00:00, 1407.82%/s]\n",
            "[0.78585511 1.75613749 1.96956405 1.96282528 1.62025646 2.09176138\n",
            " 2.19972433 2.27635792 2.64874315 0.33865757]\n",
            "100%|######################################| 100.0/100 [00:00<00:00, 1110.11%/s]\n",
            "[0.79751114 1.75968056 1.97195094 1.96282528 1.60994256 2.08389174\n",
            " 2.19972433 2.32297973 2.70127063 0.33865757]\n",
            "100%|######################################| 100.0/100 [00:00<00:00, 1315.21%/s]\n",
            "[0.80916693 1.76651279 1.97841567 1.96282528 1.610525   2.08312405\n",
            " 2.19972433 2.36202533 2.74863652 0.33865757]\n",
            "100%|######################################| 100.0/100 [00:00<00:00, 1006.02%/s]\n",
            "[0.81975615 1.77642838 1.98867366 1.96282528 1.62343899 2.09038204\n",
            " 2.19972433 2.36202533 2.78552405 0.33865757]\n",
            "100%|######################################| 100.0/100 [00:00<00:00, 1003.89%/s]\n",
            "[0.82889779 1.78895159 2.00205573 1.96282528 1.64865963 2.10552867\n",
            " 2.19972433 2.36202533 2.80896511 0.33865757]\n",
            "100%|######################################| 100.0/100 [00:00<00:00, 2095.85%/s]\n",
            "[0.83647098 1.80321284 2.01744211 1.96282528 1.68455982 2.12723259\n",
            " 2.19972433 2.36202533 2.8102886  0.33865757]\n",
            "100%|######################################| 100.0/100 [00:00<00:00, 2030.46%/s]\n",
            "[0.84269533 1.81814327 2.03350101 1.96282528 1.71117992 2.15321627\n",
            " 2.19972433 2.36202533 2.8102886  0.33865757]\n",
            "100%|######################################| 100.0/100 [00:00<00:00, 1042.46%/s]\n",
            "[0.84820601 1.8327401  2.04899518 1.96282528 1.71117992 2.18073075\n",
            " 2.19972433 2.36202533 2.8015736  0.33865757]\n",
            "100%|######################################| 100.0/100 [00:00<00:00, 1221.42%/s]\n",
            "[0.85364604 1.84612503 2.06288139 1.96282528 1.71117992 2.20697554\n",
            " 2.19972433 2.36202533 2.78279268 0.33865757]\n",
            "100%|#######################################| 100.0/100 [00:00<00:00, 655.68%/s]\n",
            "[0.85941155 1.85754795 2.07432648 1.96282528 1.71117992 2.22935256\n",
            " 2.19972433 2.36202533 2.76416144 0.33865757]\n",
            "100%|#######################################| 100.0/100 [00:00<00:00, 840.96%/s]\n",
            "[0.86550411 1.86086655 2.08278896 1.96282528 1.71117992 2.24053194\n",
            " 2.19972433 2.36202533 2.75013469 0.33865757]\n",
            "100%|######################################| 100.0/100 [00:00<00:00, 1200.77%/s]\n",
            "[0.87163335 1.86086655 2.08821917 1.96282528 1.71117992 2.24053194\n",
            " 2.19972433 2.36202533 2.74349751 0.33865757]\n",
            "100%|######################################| 100.0/100 [00:00<00:00, 1077.68%/s]\n",
            "[0.87728295 1.86086655 2.09086094 1.96282528 1.71117992 2.24053194\n",
            " 2.19972433 2.36202533 2.7456491  0.33865757]\n",
            "100%|######################################| 100.0/100 [00:00<00:00, 1050.19%/s]\n",
            "[0.88181992 1.86086655 2.09108726 1.96282528 1.71117992 2.24053194\n",
            " 2.19972433 2.36202533 2.75625859 0.33865757]\n",
            "100%|######################################| 100.0/100 [00:00<00:00, 1150.11%/s]\n",
            "[0.88472675 1.86086655 2.08948033 1.96282528 1.71117992 2.24053194\n",
            " 2.19972433 2.36202533 2.7734398  0.33865757]\n",
            "100%|######################################| 100.0/100 [00:00<00:00, 1889.74%/s]\n",
            "[0.88575558 1.86086655 2.08672971 1.96282528 1.71117992 2.23906882\n",
            " 2.19972433 2.36202533 2.79425835 0.33865757]\n",
            "100%|######################################| 100.0/100 [00:00<00:00, 1374.65%/s]\n",
            "[0.88497398 1.86086655 2.08346395 1.96282528 1.71117992 2.22770797\n",
            " 2.19972433 2.36202533 2.8102886  0.33865757]\n",
            "100%|######################################| 100.0/100 [00:00<00:00, 1167.03%/s]\n",
            "[0.88278524 1.86086655 2.08022259 1.96282528 1.71117992 2.21731354\n",
            " 2.19972433 2.36202533 2.8102886  0.33865757]\n",
            "100%|######################################| 100.0/100 [00:00<00:00, 1654.15%/s]\n",
            "[0.87982521 1.86086655 2.07738968 1.96282528 1.71117992 2.20902042\n",
            " 2.19972433 2.36202533 2.8102886  0.33865757]\n",
            "100%|#######################################| 100.0/100 [00:00<00:00, 634.37%/s]\n",
            "[0.87674827 1.86086655 2.07515093 1.96282528 1.71117992 2.20313709\n",
            " 2.19972433 2.36202533 2.8102886  0.33865757]\n",
            "100%|######################################| 100.0/100 [00:00<00:00, 1766.98%/s]\n",
            "[0.87411819 1.86086655 2.0735734  1.96282528 1.71117992 2.19983608\n",
            " 2.19972433 2.36202533 2.8102886  0.33865757]\n",
            "100%|#######################################| 100.0/100 [00:00<00:00, 905.93%/s]\n",
            "[0.87233968 1.86086655 2.07266525 1.96282528 1.71117992 2.19900252\n",
            " 2.19972433 2.36202533 2.8102886  0.33865757]\n",
            "100%|######################################| 100.0/100 [00:00<00:00, 2184.59%/s]\n",
            "[0.87155595 1.8604265  2.07238102 1.96282528 1.71117992 2.20022092\n",
            " 2.19972433 2.36202533 2.8102886  0.33865757]\n",
            "100%|######################################| 100.0/100 [00:00<00:00, 1499.08%/s]\n",
            "[0.8716529  1.86081545 2.07265446 1.96282528 1.71117992 2.20291052\n",
            " 2.19972433 2.36202533 2.80856101 0.33865757]\n",
            "100%|######################################| 100.0/100 [00:00<00:00, 1297.25%/s]\n",
            "[0.87234309 1.86086655 2.0734113  1.96282528 1.71117992 2.20646571\n",
            " 2.19972433 2.36202533 2.7887918  0.33865757]\n",
            "100%|######################################| 100.0/100 [00:00<00:00, 1041.68%/s]\n",
            "[0.87334254 1.86086655 2.0746392  1.96282528 1.71117992 2.21040233\n",
            " 2.19972433 2.36202533 2.77229771 0.33865757]\n",
            "100%|######################################| 100.0/100 [00:00<00:00, 1531.49%/s]\n",
            "[0.87439867 1.86086655 2.07631915 1.96282528 1.71117992 2.21434002\n",
            " 2.19972433 2.36202533 2.76138736 0.33865757]\n",
            "100%|#######################################| 100.0/100 [00:00<00:00, 935.49%/s]\n",
            "[0.87535835 1.86086655 2.07838494 1.96282528 1.71117992 2.21800257\n",
            " 2.19972433 2.36202533 2.75654219 0.33865757]\n",
            "100%|######################################| 100.0/100 [00:00<00:00, 1097.10%/s]\n",
            "[0.8762952  1.86086655 2.08079334 1.96282528 1.71117992 2.22128335\n",
            " 2.19972433 2.36202533 2.7583145  0.33865757]\n",
            "100%|#######################################| 100.0/100 [00:00<00:00, 928.61%/s]\n",
            "[0.87743362 1.86086655 2.0834847  1.96282528 1.71117992 2.22418254\n",
            " 2.19972433 2.36202533 2.76649666 0.33865757]\n",
            "100%|######################################| 100.0/100 [00:00<00:00, 1680.57%/s]\n",
            "[0.87904583 1.86086655 2.0863622  1.96282528 1.71117992 2.22675524\n",
            " 2.19972433 2.36202533 2.77985957 0.33865757]\n",
            "100%|######################################| 100.0/100 [00:00<00:00, 1465.14%/s]\n",
            "[0.88135113 1.86086655 2.0892999  1.96282528 1.71117992 2.22908193\n",
            " 2.19972433 2.36202533 2.7964511  0.33865757]\n",
            "100%|######################################| 100.0/100 [00:00<00:00, 1593.54%/s]\n",
            "[0.88442456 1.86086655 2.09215779 1.96282528 1.71117992 2.23124524\n",
            " 2.19972433 2.36202533 2.8102886  0.33865757]\n",
            "100%|######################################| 100.0/100 [00:00<00:00, 1428.03%/s]\n",
            "[0.88611574 1.86086655 2.09480576 1.96282528 1.71117992 2.23332024\n",
            " 2.19972433 2.36202533 2.8102886  0.33865757]\n",
            "100%|######################################| 100.0/100 [00:00<00:00, 1426.80%/s]\n",
            "[0.88611574 1.86086655 2.09716229 1.96282528 1.71117992 2.23538562\n",
            " 2.19972433 2.36202533 2.8102886  0.33865757]\n",
            "100%|######################################| 100.0/100 [00:00<00:00, 1198.28%/s]\n",
            "[0.88611574 1.86086655 2.09817722 1.96282528 1.71117992 2.23745802\n",
            " 2.19972433 2.36202533 2.8102886  0.33865757]\n",
            "100%|#######################################| 100.0/100 [00:00<00:00, 761.45%/s]\n",
            "[0.88611574 1.86086655 2.09817722 1.96282528 1.71117992 2.23948704\n",
            " 2.19972433 2.36202533 2.8102886  0.33865757]\n",
            "100%|######################################| 100.0/100 [00:00<00:00, 2047.36%/s]\n",
            "[0.88611574 1.86086655 2.09817722 1.96282528 1.71117992 2.24053194\n",
            " 2.19972433 2.36202533 2.8102886  0.33865757]\n",
            "100%|######################################| 100.0/100 [00:00<00:00, 2055.36%/s]\n",
            "[0.88611574 1.86086655 2.09817722 1.96282528 1.71117992 2.24053194\n",
            " 2.19972433 2.36202533 2.8102886  0.33865757]\n",
            "100%|######################################| 100.0/100 [00:00<00:00, 1480.49%/s]\n",
            "[0.88611574 1.86086655 2.09817722 1.96282528 1.71117992 2.24053194\n",
            " 2.19972433 2.36202533 2.8102886  0.33865757]\n",
            "100%|######################################| 100.0/100 [00:00<00:00, 1486.24%/s]\n",
            "[0.88611574 1.86086655 2.09817722 1.96282528 1.71117992 2.24053194\n",
            " 2.19972433 2.36202533 2.8102886  0.33865757]\n",
            "100%|######################################| 100.0/100 [00:00<00:00, 1049.37%/s]\n",
            "[0.88611574 1.86086655 2.09817722 1.96282528 1.71117992 2.24053194\n",
            " 2.19972433 2.36202533 2.8102886  0.33865757]\n",
            "100%|######################################| 100.0/100 [00:00<00:00, 1114.80%/s]\n",
            "[0.88611574 1.86086655 2.09817722 1.96282528 1.71117992 2.24053194\n",
            " 2.19972433 2.36202533 2.8102886  0.33865757]\n",
            "100%|######################################| 100.0/100 [00:00<00:00, 1118.78%/s]\n",
            "[0.88611574 1.86086655 2.09817722 1.96282528 1.71117992 2.24053194\n",
            " 2.19972433 2.36202533 2.80953973 0.33865757]\n",
            "100%|######################################| 100.0/100 [00:00<00:00, 1726.54%/s]\n",
            "[0.88611574 1.86086655 2.09817722 1.96282528 1.71117992 2.24053194\n",
            " 2.19972433 2.36202533 2.80401861 0.33865757]\n",
            "100%|######################################| 100.0/100 [00:00<00:00, 1997.31%/s]\n",
            "[0.88611574 1.86086655 2.09817722 1.96282528 1.71117992 2.24009929\n",
            " 2.19972433 2.36202533 2.80180215 0.33865757]\n",
            "100%|######################################| 100.0/100 [00:00<00:00, 1935.78%/s]\n",
            "[0.88611574 1.86086655 2.09785728 1.96282528 1.71117992 2.23717436\n",
            " 2.19972433 2.36202533 2.80266377 0.33865757]\n",
            "100%|######################################| 100.0/100 [00:00<00:00, 1932.45%/s]\n",
            "[0.88611574 1.86086655 2.09636834 1.96282528 1.71117992 2.23421114\n",
            " 2.19972433 2.36202533 2.80577528 0.33865757]\n",
            "100%|######################################| 100.0/100 [00:00<00:00, 1261.15%/s]\n",
            "[0.88611574 1.86086655 2.09506703 1.96282528 1.71117992 2.23152011\n",
            " 2.19972433 2.36202533 2.8102886  0.33865757]\n",
            "100%|######################################| 100.0/100 [00:00<00:00, 1017.12%/s]\n",
            "[0.88611574 1.86086655 2.09409115 1.96282528 1.71117992 2.22933064\n",
            " 2.19972433 2.36202533 2.8102886  0.33865757]\n",
            "100%|######################################| 100.0/100 [00:00<00:00, 1100.56%/s]\n",
            "[0.88611574 1.86086655 2.09355285 1.96282528 1.71117992 2.22791147\n",
            " 2.19972433 2.36202533 2.8102886  0.33865757]\n",
            "100%|######################################| 100.0/100 [00:00<00:00, 1466.08%/s]\n",
            "[0.88611574 1.86086655 2.09357784 1.96282528 1.71117992 2.22745982\n",
            " 2.19972433 2.36202533 2.8102886  0.33865757]\n",
            "100%|######################################| 100.0/100 [00:00<00:00, 1027.69%/s]\n",
            "[0.88611574 1.86086655 2.09422629 1.96282528 1.71117992 2.22804982\n",
            " 2.19972433 2.36202533 2.8102886  0.33865757]\n",
            "100%|######################################| 100.0/100 [00:00<00:00, 1648.08%/s]\n",
            "[0.88611574 1.86086655 2.0954854  1.96282528 1.71117992 2.22964881\n",
            " 2.19972433 2.36202533 2.8102886  0.33865757]\n",
            "100%|######################################| 100.0/100 [00:00<00:00, 1045.22%/s]\n",
            "[0.88611574 1.86086655 2.09726664 1.96282528 1.71117992 2.23212165\n",
            " 2.19972433 2.36202533 2.8102886  0.33865757]\n",
            "100%|######################################| 100.0/100 [00:00<00:00, 1887.00%/s]\n",
            "[0.88611574 1.86086655 2.09817722 1.96282528 1.71117992 2.23524719\n",
            " 2.19972433 2.36202533 2.8102886  0.33865757]\n",
            "100%|######################################| 100.0/100 [00:00<00:00, 1859.84%/s]\n",
            "[0.88611574 1.86086655 2.09817722 1.96282528 1.71117992 2.23874982\n",
            " 2.19972433 2.36202533 2.8102886  0.33865757]\n",
            "100%|#######################################| 100.0/100 [00:00<00:00, 763.47%/s]\n",
            "[0.88611574 1.86086655 2.09817722 1.96282528 1.71117992 2.24053194\n",
            " 2.19972433 2.36202533 2.8102886  0.33865757]\n",
            "100%|######################################| 100.0/100 [00:00<00:00, 1944.69%/s]\n",
            "[0.88611574 1.86086655 2.09817722 1.96282528 1.71117992 2.24053194\n",
            " 2.19972433 2.36202533 2.8102886  0.33865757]\n",
            "100%|######################################| 100.0/100 [00:00<00:00, 2355.41%/s]\n",
            "[0.88611574 1.86086655 2.09817722 1.96282528 1.71117992 2.24053194\n",
            " 2.19972433 2.36202533 2.8102886  0.33865757]\n",
            "100%|######################################| 100.0/100 [00:00<00:00, 1032.88%/s]\n",
            "[0.88611574 1.86086655 2.09817722 1.96282528 1.71117992 2.24053194\n",
            " 2.19972433 2.36202533 2.8102886  0.33865757]\n",
            "100%|######################################| 100.0/100 [00:00<00:00, 1143.58%/s]\n",
            "[0.88611574 1.86086655 2.09817722 1.96282528 1.71117992 2.24053194\n",
            " 2.19972433 2.36202533 2.8102886  0.33865757]\n",
            "100%|######################################| 100.0/100 [00:00<00:00, 1483.86%/s]\n",
            "[0.88611574 1.86086655 2.09817722 1.96282528 1.71117992 2.24053194\n",
            " 2.19972433 2.36202533 2.8102886  0.33865757]\n",
            "100%|#######################################| 100.0/100 [00:00<00:00, 923.95%/s]\n",
            "[0.88611574 1.86086655 2.09817722 1.96282528 1.71117992 2.24053194\n",
            " 2.19972433 2.36202533 2.8102886  0.33865757]\n",
            "100%|######################################| 100.0/100 [00:00<00:00, 1396.28%/s]\n",
            "[0.88611574 1.86086655 2.09817722 1.96282528 1.71117992 2.24053194\n",
            " 2.19972433 2.36202533 2.8102886  0.33865757]\n",
            "100%|######################################| 100.0/100 [00:00<00:00, 1450.82%/s]\n",
            "[0.88611574 1.86086655 2.09817722 1.96282528 1.71117992 2.24053194\n",
            " 2.19972433 2.36202533 2.8102886  0.33865757]\n",
            "100%|######################################| 100.0/100 [00:00<00:00, 1700.98%/s]\n",
            "[0.88611574 1.86086655 2.09817722 1.96282528 1.71117992 2.24053194\n",
            " 2.19972433 2.36202533 2.8102886  0.33865757]\n",
            "100%|######################################| 100.0/100 [00:00<00:00, 1631.31%/s]\n",
            "[0.88611574 1.86086655 2.09817722 1.96282528 1.71117992 2.24053194\n",
            " 2.19972433 2.36202533 2.8102886  0.33865757]\n",
            "100%|######################################| 100.0/100 [00:00<00:00, 1375.96%/s]\n",
            "[0.88611574 1.86086655 2.09817722 1.96282528 1.71117992 2.24053194\n",
            " 2.19972433 2.36202533 2.8102886  0.33865757]\n",
            "100%|######################################| 100.0/100 [00:00<00:00, 1650.31%/s]\n",
            "[0.88611574 1.86086655 2.09817722 1.96282528 1.71117992 2.24053194\n",
            " 2.19972433 2.36202533 2.8102886  0.33865757]\n",
            "100%|######################################| 100.0/100 [00:00<00:00, 1348.17%/s]\n",
            "[0.88611574 1.86086655 2.09817722 1.96282528 1.71117992 2.24053194\n",
            " 2.19972433 2.36202533 2.8102886  0.33865757]\n",
            "100%|######################################| 100.0/100 [00:00<00:00, 1958.00%/s]\n",
            "[0.88611574 1.86086655 2.09817722 1.96282528 1.71117992 2.24053194\n",
            " 2.19972433 2.36202533 2.8102886  0.33865757]\n",
            "100%|#######################################| 100.0/100 [00:00<00:00, 865.10%/s]\n",
            "[0.88611574 1.86086655 2.09817722 1.96282528 1.71117992 2.24028954\n",
            " 2.19972433 2.36202533 2.8102886  0.33865757]\n",
            "100%|######################################| 100.0/100 [00:00<00:00, 1719.07%/s]\n",
            "[0.88611574 1.86086655 2.09817722 1.96282528 1.71117992 2.24038037\n",
            " 2.19972433 2.36202533 2.8102886  0.33865757]\n",
            "100%|######################################| 100.0/100 [00:00<00:00, 1535.60%/s]\n",
            "[0.88611574 1.86086655 2.09817722 1.96282528 1.71117992 2.24053194\n",
            " 2.19972433 2.36202533 2.8102886  0.33865757]\n",
            "100%|######################################| 100.0/100 [00:00<00:00, 2454.24%/s]\n",
            "[0.88611574 1.86086655 2.09817722 1.96282528 1.71117992 2.24053194\n",
            " 2.19972433 2.36202533 2.8102886  0.33865757]\n",
            "100%|######################################| 100.0/100 [00:00<00:00, 1160.12%/s]\n",
            "[0.88611574 1.86086655 2.09817722 1.96282528 1.71117992 2.24053194\n",
            " 2.19972433 2.36202533 2.8102886  0.33865757]\n",
            "100%|#######################################| 100.0/100 [00:00<00:00, 923.44%/s]\n",
            "[0.88611574 1.86086655 2.09817722 1.96282528 1.71117992 2.24053194\n",
            " 2.19972433 2.36202533 2.8102886  0.33865757]\n",
            "100%|#######################################| 100.0/100 [00:00<00:00, 967.08%/s]\n",
            "[0.88611574 1.86086655 2.09817722 1.96282528 1.71117992 2.24053194\n",
            " 2.19972433 2.36202533 2.8102886  0.33865757]\n",
            "100%|#######################################| 100.0/100 [00:00<00:00, 787.86%/s]\n",
            "[0.88611574 1.86086655 2.09817722 1.96282528 1.71117992 2.24053194\n",
            " 2.19972433 2.36202533 2.8102886  0.33865757]\n",
            "100%|######################################| 100.0/100 [00:00<00:00, 1043.13%/s]\n",
            "[0.88611574 1.86086655 2.09817722 1.96282528 1.71117992 2.24053194\n",
            " 2.19972433 2.36202533 2.8102886  0.33865757]\n",
            "100%|######################################| 100.0/100 [00:00<00:00, 1960.55%/s]\n",
            "[0.88611574 1.86086655 2.09817722 1.96282528 1.71117992 2.24053194\n",
            " 2.19972433 2.36202533 2.8102886  0.33865757]\n",
            "100%|######################################| 100.0/100 [00:00<00:00, 1591.89%/s]\n",
            "[0.88611574 1.86086655 2.09817722 1.96282528 1.71117992 2.24053194\n",
            " 2.19972433 2.36202533 2.8102886  0.33865757]\n",
            "100%|######################################| 100.0/100 [00:00<00:00, 1160.78%/s]\n",
            "[0.88611574 1.86086655 2.09817722 1.96282528 1.71117992 2.24053194\n",
            " 2.19972433 2.36202533 2.8102886  0.33865757]\n",
            "100%|#######################################| 100.0/100 [00:00<00:00, 976.06%/s]\n",
            "[0.88611574 1.86086655 2.09817722 1.96282528 1.71117992 2.24053194\n",
            " 2.19972433 2.36202533 2.8102886  0.33865757]\n",
            "100%|#######################################| 100.0/100 [00:00<00:00, 577.90%/s]\n",
            "[0.88611574 1.86086655 2.09817722 1.96282528 1.71117992 2.24053194\n",
            " 2.19972433 2.36202533 2.8102886  0.33865757]\n",
            "100%|#######################################| 100.0/100 [00:00<00:00, 527.90%/s]\n",
            "[0.88611574 1.86086655 2.09817722 1.96282528 1.71117992 2.24053194\n",
            " 2.19972433 2.36202533 2.8102886  0.33865757]\n",
            "100%|######################################| 100.0/100 [00:00<00:00, 1107.88%/s]\n",
            "[0.88611574 1.86086655 2.09817722 1.96282528 1.71117992 2.24053194\n",
            " 2.19972433 2.36202533 2.8102886  0.33865757]\n",
            "100%|######################################| 100.0/100 [00:00<00:00, 1111.13%/s]\n",
            "[0.88611574 1.86086655 2.09817722 1.96282528 1.71117992 2.24053194\n",
            " 2.19972433 2.36202533 2.8102886  0.33865757]\n",
            "100%|######################################| 100.0/100 [00:00<00:00, 1218.07%/s]\n",
            "[0.88611574 1.86086655 2.09817722 1.96282528 1.71117992 2.24053194\n",
            " 2.19972433 2.36202533 2.8102886  0.33865757]\n",
            "100%|######################################| 100.0/100 [00:00<00:00, 1781.48%/s]\n",
            "[0.88611574 1.86086655 2.09817722 1.96282528 1.71117992 2.24053194\n",
            " 2.19972433 2.36202533 2.8102886  0.33865757]\n",
            "100%|######################################| 100.0/100 [00:00<00:00, 1310.17%/s]\n",
            "[0.88611574 1.86086655 2.09817722 1.96282528 1.71117992 2.24053194\n",
            " 2.19972433 2.36202533 2.8102886  0.33865757]\n",
            "100%|######################################| 100.0/100 [00:00<00:00, 1302.40%/s]\n",
            "[0.88611574 1.86086655 2.09817722 1.96282528 1.71117992 2.24053194\n",
            " 2.19972433 2.36202533 2.8102886  0.33865757]\n",
            "100%|######################################| 100.0/100 [00:00<00:00, 1816.99%/s]\n",
            "[0.88611574 1.86086655 2.09817722 1.96282528 1.71117992 2.24053194\n",
            " 2.19972433 2.36202533 2.8102886  0.33865757]\n",
            "100%|######################################| 100.0/100 [00:00<00:00, 2063.21%/s]\n",
            "[0.88611574 1.86086655 2.09817722 1.96282528 1.71117992 2.24053194\n",
            " 2.19972433 2.36202533 2.8102886  0.33865757]\n",
            "100%|######################################| 100.0/100 [00:00<00:00, 1218.14%/s]\n",
            "[0.88611574 1.86086655 2.09817722 1.96282528 1.71117992 2.24053194\n",
            " 2.19972433 2.36202533 2.8102886  0.33865757]\n",
            "100%|#######################################| 100.0/100 [00:00<00:00, 816.04%/s]\n",
            "[0.88611574 1.86086655 2.09817722 1.96282528 1.71117992 2.24053194\n",
            " 2.19972433 2.36202533 2.8102886  0.33865757]\n",
            "100%|######################################| 100.0/100 [00:00<00:00, 1315.02%/s]\n",
            "[0.88611574 1.86086655 2.09817722 1.96282528 1.71117992 2.24053194\n",
            " 2.19972433 2.36202533 2.8102886  0.33865757]\n",
            "100%|######################################| 100.0/100 [00:00<00:00, 1108.92%/s]\n",
            "[0.88611574 1.86086655 2.09817722 1.96282528 1.71117992 2.24053194\n",
            " 2.19972433 2.36202533 2.8102886  0.33865757]\n",
            "100%|#######################################| 100.0/100 [00:00<00:00, 546.44%/s]\n",
            "[0.88611574 1.86086655 2.09817722 1.96282528 1.71117992 2.24053194\n",
            " 2.19972433 2.36202533 2.8102886  0.33865757]\n",
            "100%|######################################| 100.0/100 [00:00<00:00, 1375.79%/s]\n",
            "[0.88611574 1.86086655 2.09817722 1.96282528 1.71117992 2.24053194\n",
            " 2.19972433 2.36202533 2.8102886  0.33865757]\n",
            "100%|######################################| 100.0/100 [00:00<00:00, 1018.81%/s]\n",
            "[0.88611574 1.86086655 2.09817722 1.96282528 1.71117992 2.24053194\n",
            " 2.19972433 2.36202533 2.8102886  0.33865757]\n",
            "100%|#######################################| 100.0/100 [00:00<00:00, 841.82%/s]\n",
            "[0.88611574 1.86086655 2.09817722 1.96282528 1.71117992 2.24053194\n",
            " 2.19972433 2.36202533 2.8102886  0.33865757]\n",
            "100%|######################################| 100.0/100 [00:00<00:00, 2191.64%/s]\n",
            "[0.88611574 1.86086655 2.09817722 1.96282528 1.71117992 2.24053194\n",
            " 2.19972433 2.36202533 2.8102886  0.33865757]\n",
            "100%|######################################| 100.0/100 [00:00<00:00, 1733.13%/s]\n",
            "[0.88611574 1.86086655 2.09817722 1.96282528 1.71117992 2.24053194\n",
            " 2.19972433 2.36202533 2.8102886  0.33865757]\n",
            "100%|######################################| 100.0/100 [00:00<00:00, 1445.59%/s]\n",
            "[0.88611574 1.86086655 2.09817722 1.96282528 1.71117992 2.24053194\n",
            " 2.19972433 2.36202533 2.8102886  0.33865757]\n",
            "100%|#######################################| 100.0/100 [00:00<00:00, 547.91%/s]\n",
            "[0.88611574 1.86086655 2.09817722 1.96282528 1.71117992 2.24053194\n",
            " 2.19972433 2.36202533 2.8102886  0.33865757]\n",
            "100%|#######################################| 100.0/100 [00:00<00:00, 384.19%/s]\n",
            "[0.88611574 1.86086655 2.09817722 1.96282528 1.71117992 2.24053194\n",
            " 2.19972433 2.36202533 2.8102886  0.33865757]\n",
            "100%|#######################################| 100.0/100 [00:00<00:00, 345.17%/s]\n",
            "[0.88611574 1.86086655 2.09817722 1.96282528 1.71117992 2.24053194\n",
            " 2.19972433 2.36202533 2.8102886  0.33865757]\n",
            "100%|######################################| 100.0/100 [00:00<00:00, 1053.77%/s]\n",
            "[0.88611574 1.86086655 2.09817722 1.96282528 1.71117992 2.24053194\n",
            " 2.19972433 2.36202533 2.8102886  0.33865757]\n",
            "100%|#######################################| 100.0/100 [00:00<00:00, 923.90%/s]\n",
            "[0.88611574 1.86086655 2.09817722 1.96282528 1.71117992 2.24053194\n",
            " 2.19972433 2.36202533 2.8102886  0.33865757]\n",
            "100%|######################################| 100.0/100 [00:00<00:00, 1024.89%/s]\n",
            "[0.88611574 1.86086655 2.09817722 1.96282528 1.71117992 2.24053194\n",
            " 2.19972433 2.36202533 2.8102886  0.33865757]\n",
            "100%|######################################| 100.0/100 [00:00<00:00, 1162.06%/s]\n",
            "[0.88611574 1.86086655 2.09817722 1.96282528 1.71117992 2.24053194\n",
            " 2.19972433 2.36202533 2.8102886  0.33865757]\n",
            "100%|######################################| 100.0/100 [00:00<00:00, 1127.59%/s]\n",
            "[0.88611574 1.86086655 2.09817722 1.96282528 1.71117992 2.24053194\n",
            " 2.19972433 2.36202533 2.8102886  0.33865757]\n",
            "100%|######################################| 100.0/100 [00:00<00:00, 1027.37%/s]\n",
            "[0.88611574 1.86086655 2.09817722 1.96282528 1.71117992 2.24053194\n",
            " 2.19972433 2.36202533 2.8102886  0.33865757]\n",
            "100%|######################################| 100.0/100 [00:00<00:00, 1366.95%/s]\n",
            "[0.88611574 1.86086655 2.09817722 1.96282528 1.71117992 2.24053194\n",
            " 2.19972433 2.36202533 2.8102886  0.33865757]\n",
            "100%|######################################| 100.0/100 [00:00<00:00, 1216.84%/s]\n",
            "[0.88611574 1.86086655 2.09817722 1.96282528 1.71117992 2.24053194\n",
            " 2.19972433 2.36202533 2.8102886  0.33865757]\n",
            "100%|######################################| 100.0/100 [00:00<00:00, 1450.23%/s]\n",
            "[0.88611574 1.86086655 2.09817722 1.96282528 1.71117992 2.24053194\n",
            " 2.19972433 2.36202533 2.8102886  0.33865757]\n",
            "100%|######################################| 100.0/100 [00:00<00:00, 1967.17%/s]\n",
            "[0.88611574 1.86086655 2.09817722 1.96282528 1.71117992 2.24053194\n",
            " 2.19972433 2.36202533 2.8102886  0.33865757]\n",
            "100%|######################################| 100.0/100 [00:00<00:00, 1897.58%/s]\n",
            "[0.88611574 1.86086655 2.09817722 1.96282528 1.71117992 2.24053194\n",
            " 2.19972433 2.36202533 2.8102886  0.33865757]\n",
            "100%|######################################| 100.0/100 [00:00<00:00, 1875.99%/s]\n",
            "[0.88611574 1.86086655 2.09817722 1.96282528 1.71117992 2.24053194\n",
            " 2.19972433 2.36202533 2.8102886  0.33865757]\n",
            "100%|######################################| 100.0/100 [00:00<00:00, 2000.56%/s]\n",
            "[0.88611574 1.86086655 2.09817722 1.96282528 1.71117992 2.24053194\n",
            " 2.19972433 2.36202533 2.8102886  0.33865757]\n",
            "100%|######################################| 100.0/100 [00:00<00:00, 1975.48%/s]\n",
            "[0.88611574 1.86086655 2.09817722 1.96282528 1.71117992 2.24053194\n",
            " 2.19972433 2.36202533 2.8102886  0.33865757]\n",
            "100%|######################################| 100.0/100 [00:00<00:00, 2637.30%/s]\n",
            "[0.88611574 1.86086655 2.09817722 1.96282528 1.71117992 2.24053194\n",
            " 2.19972433 2.36202533 2.8102886  0.33865757]\n",
            "100%|######################################| 100.0/100 [00:00<00:00, 2074.67%/s]\n",
            "[0.88611574 1.86086655 2.09817722 1.96282528 1.71117992 2.24053194\n",
            " 2.19972433 2.36202533 2.8102886  0.33865757]\n",
            "100%|######################################| 100.0/100 [00:00<00:00, 1889.33%/s]\n",
            "[0.88611574 1.86086655 2.09817722 1.96282528 1.71117992 2.24053194\n",
            " 2.19972433 2.36202533 2.8102886  0.33865757]\n",
            "100%|######################################| 100.0/100 [00:00<00:00, 1483.67%/s]\n",
            "[0.88611574 1.86086655 2.09817722 1.96282528 1.71117992 2.24053194\n",
            " 2.19972433 2.36202533 2.8102886  0.33865757]\n",
            "100%|######################################| 100.0/100 [00:00<00:00, 1831.41%/s]\n",
            "[0.88611574 1.86086655 2.09817722 1.96282528 1.71117992 2.24053194\n",
            " 2.19972433 2.36202533 2.8102886  0.33865757]\n",
            "100%|######################################| 100.0/100 [00:00<00:00, 1787.21%/s]\n",
            "[0.88611574 1.86086655 2.09817722 1.96282528 1.71117992 2.24053194\n",
            " 2.19972433 2.36202533 2.8102886  0.33865757]\n",
            "100%|######################################| 100.0/100 [00:00<00:00, 1881.68%/s]\n",
            "[0.88611574 1.86086655 2.09817722 1.96282528 1.71117992 2.24053194\n",
            " 2.19972433 2.36202533 2.8102886  0.33865757]\n",
            "100%|######################################| 100.0/100 [00:00<00:00, 1886.76%/s]\n",
            "[0.88611574 1.86086655 2.09817722 1.96282528 1.71117992 2.24053194\n",
            " 2.19972433 2.36202533 2.8102886  0.33865757]\n",
            "100%|######################################| 100.0/100 [00:00<00:00, 1738.34%/s]\n",
            "[0.88611574 1.86086655 2.09817722 1.96282528 1.71117992 2.24053194\n",
            " 2.19972433 2.36202533 2.8102886  0.33865757]\n",
            "100%|######################################| 100.0/100 [00:00<00:00, 1946.04%/s]\n",
            "[0.88611574 1.86086655 2.09817722 1.96282528 1.71117992 2.24053194\n",
            " 2.19972433 2.36202533 2.8102886  0.33865757]\n",
            "100%|######################################| 100.0/100 [00:00<00:00, 1967.55%/s]\n",
            "[0.88611574 1.86086655 2.09817722 1.96282528 1.71117992 2.24053194\n",
            " 2.19972433 2.36202533 2.8102886  0.33865757]\n",
            "100%|######################################| 100.0/100 [00:00<00:00, 1722.87%/s]\n",
            "[0.88611574 1.86086655 2.09817722 1.96282528 1.71117992 2.24053194\n",
            " 2.19972433 2.36202533 2.8102886  0.33865757]\n",
            "100%|######################################| 100.0/100 [00:00<00:00, 1970.66%/s]\n",
            "[0.88611574 1.86086655 2.09817722 1.96282528 1.71117992 2.24053194\n",
            " 2.19972433 2.36202533 2.8102886  0.33865757]\n",
            "100%|######################################| 100.0/100 [00:00<00:00, 1906.59%/s]\n",
            "[0.88611574 1.86086655 2.09817722 1.96282528 1.71117992 2.24053194\n",
            " 2.19972433 2.36202533 2.8102886  0.33865757]\n",
            "100%|######################################| 100.0/100 [00:00<00:00, 1989.83%/s]\n",
            "[0.88611574 1.86086655 2.09817722 1.96282528 1.71117992 2.24053194\n",
            " 2.19972433 2.36202533 2.8102886  0.33865757]\n",
            "100%|######################################| 100.0/100 [00:00<00:00, 2347.29%/s]\n",
            "[0.88611574 1.86086655 2.09817722 1.96282528 1.71117992 2.24053194\n",
            " 2.19972433 2.36202533 2.8102886  0.33865757]\n",
            "100%|######################################| 100.0/100 [00:00<00:00, 2064.96%/s]\n",
            "[0.88611574 1.86086655 2.09817722 1.96282528 1.71117992 2.24053194\n",
            " 2.19972433 2.36202533 2.8102886  0.33865757]\n",
            "100%|######################################| 100.0/100 [00:00<00:00, 1930.06%/s]\n",
            "[0.88611574 1.86086655 2.09817722 1.96282528 1.71117992 2.24053194\n",
            " 2.19972433 2.36202533 2.8102886  0.33865757]\n",
            "100%|######################################| 100.0/100 [00:00<00:00, 2393.89%/s]\n",
            "[0.88611574 1.86086655 2.09817722 1.96282528 1.71117992 2.24053194\n",
            " 2.19972433 2.36202533 2.8102886  0.33865757]\n",
            "100%|######################################| 100.0/100 [00:00<00:00, 2467.92%/s]\n",
            "[0.88611574 1.86086655 2.09817722 1.96282528 1.71117992 2.24053194\n",
            " 2.19972433 2.36202533 2.8102886  0.33865757]\n",
            "100%|######################################| 100.0/100 [00:00<00:00, 2299.41%/s]\n",
            "[0.88611574 1.86086655 2.09817722 1.96282528 1.71117992 2.24053194\n",
            " 2.19972433 2.36202533 2.8102886  0.33865757]\n",
            "100%|######################################| 100.0/100 [00:00<00:00, 3153.42%/s]\n",
            "[0.88611574 1.86086655 2.09817722 1.96282528 1.71117992 2.24053194\n",
            " 2.19972433 2.36202533 2.8102886  0.33865757]\n",
            "100%|######################################| 100.0/100 [00:00<00:00, 2699.85%/s]\n",
            "[0.88611574 1.86086655 2.09817722 1.96282528 1.71117992 2.24053194\n",
            " 2.19972433 2.36202533 2.8102886  0.33865757]\n",
            "100%|######################################| 100.0/100 [00:00<00:00, 3068.30%/s]\n",
            "[0.88611574 1.86086655 2.09817722 1.96282528 1.71117992 2.24053194\n",
            " 2.19972433 2.36202533 2.8102886  0.33865757]\n",
            "100%|######################################| 100.0/100 [00:00<00:00, 2647.13%/s]\n",
            "[0.88611574 1.86086655 2.09817722 1.96282528 1.71117992 2.24053194\n",
            " 2.19972433 2.36202533 2.8102886  0.33865757]\n",
            "100%|######################################| 100.0/100 [00:00<00:00, 3023.82%/s]\n",
            "[0.88611574 1.86086655 2.09817722 1.96282528 1.71117992 2.24053194\n",
            " 2.19972433 2.36202533 2.8102886  0.33865757]\n",
            "100%|######################################| 100.0/100 [00:00<00:00, 2783.60%/s]\n",
            "[0.88611574 1.86086655 2.09817722 1.96282528 1.71117992 2.24053194\n",
            " 2.19972433 2.36202533 2.8102886  0.33865757]\n",
            "100%|######################################| 100.0/100 [00:00<00:00, 2932.05%/s]\n",
            "[0.88611574 1.86086655 2.09817722 1.96282528 1.71117992 2.24053194\n",
            " 2.19972433 2.36202533 2.8102886  0.33865757]\n",
            "100%|######################################| 100.0/100 [00:00<00:00, 1975.37%/s]\n",
            "[0.88611574 1.86086655 2.09817722 1.96282528 1.71117992 2.24053194\n",
            " 2.19972433 2.36202533 2.8102886  0.33865757]\n",
            "100%|######################################| 100.0/100 [00:00<00:00, 1348.27%/s]\n",
            "[0.88611574 1.86086655 2.09817722 1.96282528 1.71117992 2.24053194\n",
            " 2.19972433 2.36202533 2.8102886  0.33865757]\n",
            "100%|######################################| 100.0/100 [00:00<00:00, 1539.52%/s]\n",
            "[0.88611574 1.86086655 2.09817722 1.96282528 1.71117992 2.24053194\n",
            " 2.19972433 2.36202533 2.8102886  0.33865757]\n",
            "100%|######################################| 100.0/100 [00:00<00:00, 1833.21%/s]\n",
            "[0.88611574 1.86086655 2.09817722 1.96282528 1.71117992 2.24053194\n",
            " 2.19972433 2.36202533 2.8102886  0.33865757]\n",
            "100%|######################################| 100.0/100 [00:00<00:00, 3563.68%/s]\n",
            "[0.88611574 1.86086655 2.09817722 1.96282528 1.71117992 2.24053194\n",
            " 2.19972433 2.36202533 2.8102886  0.33865757]\n",
            "100%|######################################| 100.0/100 [00:00<00:00, 3893.13%/s]\n",
            "[0.88611574 1.86086655 2.09817722 1.96282528 1.71117992 2.24053194\n",
            " 2.19972433 2.36202533 2.8102886  0.33865757]\n",
            "100%|######################################| 100.0/100 [00:00<00:00, 3555.67%/s]\n",
            "[0.88611574 1.86086655 2.09817722 1.96282528 1.71117992 2.24053194\n",
            " 2.19972433 2.36202533 2.8102886  0.33865757]\n",
            "100%|######################################| 100.0/100 [00:00<00:00, 3333.44%/s]\n",
            "[0.88611574 1.86086655 2.09817722 1.96282528 1.71117992 2.24053194\n",
            " 2.19972433 2.36202533 2.8102886  0.33865757]\n",
            "100%|######################################| 100.0/100 [00:00<00:00, 1575.95%/s]\n",
            "[0.88611574 1.86086655 2.09817722 1.96282528 1.71117992 2.24053194\n",
            " 2.19972433 2.36202533 2.8102886  0.33865757]\n",
            "100%|######################################| 100.0/100 [00:00<00:00, 1631.29%/s]\n",
            "[0.88611574 1.86086655 2.09817722 1.96282528 1.71117992 2.24053194\n",
            " 2.19972433 2.36202533 2.8102886  0.33865757]\n",
            "100%|######################################| 100.0/100 [00:00<00:00, 1608.73%/s]\n",
            "[0.88611574 1.86086655 2.09817722 1.96282528 1.71117992 2.24053194\n",
            " 2.19972433 2.36202533 2.8102886  0.33865757]\n",
            "100%|######################################| 100.0/100 [00:00<00:00, 1810.42%/s]\n",
            "[0.88611574 1.86086655 2.09817722 1.96282528 1.71117992 2.24053194\n",
            " 2.19972433 2.36202533 2.8102886  0.33865757]\n",
            "100%|######################################| 100.0/100 [00:00<00:00, 1817.31%/s]\n",
            "[0.88611574 1.86086655 2.09817722 1.96282528 1.71117992 2.24053194\n",
            " 2.19972433 2.36202533 2.8102886  0.33865757]\n",
            "100%|######################################| 100.0/100 [00:00<00:00, 1714.87%/s]\n",
            "[0.88611574 1.86086655 2.09817722 1.96282528 1.71117992 2.24053194\n",
            " 2.19972433 2.36202533 2.8102886  0.33865757]\n",
            "100%|######################################| 100.0/100 [00:00<00:00, 1987.74%/s]\n",
            "[0.88611574 1.86086655 2.09817722 1.96282528 1.71117992 2.24053194\n",
            " 2.19972433 2.36202533 2.8102886  0.33865757]\n",
            "100%|######################################| 100.0/100 [00:00<00:00, 2421.58%/s]\n",
            "[0.88611574 1.86086655 2.09817722 1.96282528 1.71117992 2.24053194\n",
            " 2.19972433 2.36202533 2.8102886  0.33865757]\n",
            "100%|######################################| 100.0/100 [00:00<00:00, 2872.36%/s]\n",
            "[0.88611574 1.86086655 2.09817722 1.96282528 1.71117992 2.24053194\n",
            " 2.19972433 2.36202533 2.8102886  0.33865757]\n",
            "100%|######################################| 100.0/100 [00:00<00:00, 2543.07%/s]\n",
            "[0.88611574 1.86086655 2.09817722 1.96282528 1.71117992 2.24053194\n",
            " 2.19972433 2.36202533 2.8102886  0.33865757]\n",
            "100%|######################################| 100.0/100 [00:00<00:00, 1745.19%/s]\n",
            "[0.88611574 1.86086655 2.09817722 1.96282528 1.71117992 2.24053194\n",
            " 2.19972433 2.36202533 2.8102886  0.33865757]\n",
            "100%|######################################| 100.0/100 [00:00<00:00, 2291.86%/s]\n",
            "[0.88611574 1.86086655 2.09817722 1.96282528 1.71117992 2.24053194\n",
            " 2.19972433 2.36202533 2.8102886  0.33865757]\n",
            "100%|######################################| 100.0/100 [00:00<00:00, 3252.53%/s]\n",
            "[0.88611574 1.86086655 2.09817722 1.96282528 1.71117992 2.24053194\n",
            " 2.19972433 2.36202533 2.8102886  0.33865757]\n",
            "100%|######################################| 100.0/100 [00:00<00:00, 3058.03%/s]\n",
            "[0.88611574 1.86086655 2.09817722 1.96282528 1.71117992 2.24053194\n",
            " 2.19972433 2.36202533 2.8102886  0.33865757]\n",
            "100%|######################################| 100.0/100 [00:00<00:00, 3270.62%/s]\n",
            "[0.88611574 1.86086655 2.09817722 1.96282528 1.71117992 2.24053194\n",
            " 2.19972433 2.36202533 2.8102886  0.33865757]\n",
            "100%|######################################| 100.0/100 [00:00<00:00, 2706.67%/s]\n",
            "[0.88611574 1.86086655 2.09817722 1.96282528 1.71117992 2.24053194\n",
            " 2.19972433 2.36202533 2.8102886  0.33865757]\n",
            "100%|######################################| 100.0/100 [00:00<00:00, 2119.30%/s]\n",
            "[0.88611574 1.86086655 2.09817722 1.96282528 1.71117992 2.24053194\n",
            " 2.19972433 2.36202533 2.8102886  0.33865757]\n",
            "100%|######################################| 100.0/100 [00:00<00:00, 2335.22%/s]\n",
            "[0.88611574 1.86086655 2.09817722 1.96282528 1.71117992 2.24053194\n",
            " 2.19972433 2.36202533 2.8102886  0.33865757]\n",
            "100%|######################################| 100.0/100 [00:00<00:00, 2007.02%/s]\n",
            "[0.88611574 1.86086655 2.09817722 1.96282528 1.71117992 2.24053194\n",
            " 2.19972433 2.36202533 2.8102886  0.33865757]\n",
            "100%|######################################| 100.0/100 [00:00<00:00, 1714.96%/s]\n",
            "[0.88611574 1.86086655 2.09817722 1.96282528 1.71117992 2.24053194\n",
            " 2.19972433 2.36202533 2.8102886  0.33865757]\n",
            "100%|######################################| 100.0/100 [00:00<00:00, 3215.80%/s]\n",
            "[0.88611574 1.86086655 2.09817722 1.96282528 1.71117992 2.24053194\n",
            " 2.19972433 2.36202533 2.8102886  0.33865757]\n",
            "100%|######################################| 100.0/100 [00:00<00:00, 3170.44%/s]\n",
            "[0.88611574 1.86086655 2.09817722 1.96282528 1.71117992 2.24053194\n",
            " 2.19972433 2.36202533 2.8102886  0.33865757]\n",
            "100%|######################################| 100.0/100 [00:00<00:00, 3951.71%/s]\n",
            "[0.88611574 1.86086655 2.09817722 1.96282528 1.71117992 2.24053194\n",
            " 2.19972433 2.36202533 2.8102886  0.33865757]\n",
            "100%|######################################| 100.0/100 [00:00<00:00, 2241.03%/s]\n",
            "[0.88611574 1.86086655 2.09817722 1.96282528 1.71117992 2.24053194\n",
            " 2.19972433 2.36202533 2.8102886  0.33865757]\n",
            "100%|######################################| 100.0/100 [00:00<00:00, 3842.98%/s]\n",
            "[0.88611574 1.86086655 2.09817722 1.96282528 1.71117992 2.24053194\n",
            " 2.19972433 2.36202533 2.8102886  0.33865757]\n",
            "100%|######################################| 100.0/100 [00:00<00:00, 3306.90%/s]\n",
            "[0.88611574 1.86086655 2.09817722 1.96282528 1.71117992 2.24053194\n",
            " 2.19972433 2.36202533 2.8102886  0.33865757]\n",
            "100%|######################################| 100.0/100 [00:00<00:00, 3726.25%/s]\n",
            "[0.88611574 1.86086655 2.09817722 1.96282528 1.71117992 2.24053194\n",
            " 2.19972433 2.36202533 2.8102886  0.33865757]\n",
            "100%|######################################| 100.0/100 [00:00<00:00, 3289.21%/s]\n",
            "[0.88611574 1.86086655 2.09817722 1.96282528 1.71117992 2.24053194\n",
            " 2.19972433 2.36202533 2.8102886  0.33865757]\n",
            "100%|######################################| 100.0/100 [00:00<00:00, 3706.66%/s]\n",
            "[0.88611574 1.86086655 2.09817722 1.96282528 1.71117992 2.24053194\n",
            " 2.19972433 2.36202533 2.8102886  0.33865757]\n",
            "100%|######################################| 100.0/100 [00:00<00:00, 3475.56%/s]\n",
            "[0.88611574 1.86086655 2.09817722 1.96282528 1.71117992 2.24053194\n",
            " 2.19972433 2.36202533 2.8102886  0.33865757]\n",
            "100%|######################################| 100.0/100 [00:00<00:00, 3753.59%/s]\n",
            "[0.88611574 1.86086655 2.09817722 1.96282528 1.71117992 2.24053194\n",
            " 2.19972433 2.36202533 2.8102886  0.33865757]\n",
            "100%|######################################| 100.0/100 [00:00<00:00, 2701.07%/s]\n",
            "[0.88611574 1.86086655 2.09817722 1.96282528 1.71117992 2.24053194\n",
            " 2.19972433 2.36202533 2.8102886  0.33865757]\n",
            "100%|######################################| 100.0/100 [00:00<00:00, 2602.60%/s]\n",
            "[0.88611574 1.86086655 2.09817722 1.96282528 1.71117992 2.24053194\n",
            " 2.19972433 2.36202533 2.8102886  0.33865757]\n",
            "100%|######################################| 100.0/100 [00:00<00:00, 2108.90%/s]\n",
            "[0.88611574 1.86086655 2.09817722 1.96282528 1.71117992 2.24053194\n",
            " 2.19972433 2.36202533 2.8102886  0.33865757]\n",
            "100%|######################################| 100.0/100 [00:00<00:00, 2574.03%/s]\n",
            "[0.88611574 1.86086655 2.09817722 1.96282528 1.71117992 2.24053194\n",
            " 2.19972433 2.36202533 2.8102886  0.33865757]\n",
            "100%|######################################| 100.0/100 [00:00<00:00, 2583.64%/s]\n",
            "[0.88611574 1.86086655 2.09817722 1.96282528 1.71117992 2.24053194\n",
            " 2.19972433 2.36202533 2.8102886  0.33865757]\n",
            "100%|######################################| 100.0/100 [00:00<00:00, 2385.96%/s]\n",
            "[0.88611574 1.86086655 2.09817722 1.96282528 1.71117992 2.24053194\n",
            " 2.19972433 2.36202533 2.8102886  0.33865757]\n",
            "100%|######################################| 100.0/100 [00:00<00:00, 1925.97%/s]\n",
            "[0.88611574 1.86086655 2.09817722 1.96282528 1.71117992 2.24053194\n",
            " 2.19972433 2.36202533 2.8102886  0.33865757]\n",
            "100%|######################################| 100.0/100 [00:00<00:00, 2503.55%/s]\n",
            "[0.88611574 1.86086655 2.09817722 1.96282528 1.71117992 2.24053194\n",
            " 2.19972433 2.36202533 2.8102886  0.33865757]\n",
            "100%|######################################| 100.0/100 [00:00<00:00, 2938.98%/s]\n",
            "[0.88611574 1.86086655 2.09817722 1.96282528 1.71117992 2.24053194\n",
            " 2.19972433 2.36202533 2.8102886  0.33865757]\n",
            "100%|######################################| 100.0/100 [00:00<00:00, 2324.42%/s]\n",
            "[0.88611574 1.86086655 2.09817722 1.96282528 1.71117992 2.24053194\n",
            " 2.19972433 2.36202533 2.8102886  0.33865757]\n",
            "100%|######################################| 100.0/100 [00:00<00:00, 2346.11%/s]\n",
            "[0.88611574 1.86086655 2.09817722 1.96282528 1.71117992 2.24053194\n",
            " 2.19972433 2.36202533 2.8102886  0.33865757]\n",
            "100%|######################################| 100.0/100 [00:00<00:00, 2200.57%/s]\n",
            "[0.88611574 1.86086655 2.09817722 1.96282528 1.71117992 2.24053194\n",
            " 2.19972433 2.36202533 2.8102886  0.33865757]\n",
            "100%|######################################| 100.0/100 [00:00<00:00, 4266.75%/s]\n",
            "[0.88611574 1.86086655 2.09817722 1.96282528 1.71117992 2.24053194\n",
            " 2.19972433 2.36202533 2.8102886  0.33865757]\n",
            "100%|######################################| 100.0/100 [00:00<00:00, 2874.11%/s]\n",
            "[0.88611574 1.86086655 2.09817722 1.96282528 1.71117992 2.24053194\n",
            " 2.19972433 2.36202533 2.8102886  0.33865757]\n",
            "100%|######################################| 100.0/100 [00:00<00:00, 3320.12%/s]\n",
            "[0.88611574 1.86086655 2.09817722 1.96282528 1.71117992 2.24053194\n",
            " 2.19972433 2.36202533 2.8102886  0.33865757]\n",
            "100%|######################################| 100.0/100 [00:00<00:00, 3408.51%/s]\n",
            "[0.88611574 1.86086655 2.09817722 1.96282528 1.71117992 2.24053194\n",
            " 2.19972433 2.36202533 2.8102886  0.33865757]\n",
            "100%|######################################| 100.0/100 [00:00<00:00, 3706.89%/s]\n",
            "[0.88611574 1.86086655 2.09817722 1.96282528 1.71117992 2.24053194\n",
            " 2.19972433 2.36202533 2.8102886  0.33865757]\n",
            "100%|######################################| 100.0/100 [00:00<00:00, 3184.62%/s]\n",
            "[0.88611574 1.86086655 2.09817722 1.96282528 1.71117992 2.24053194\n",
            " 2.19972433 2.36202533 2.8102886  0.33865757]\n",
            "100%|######################################| 100.0/100 [00:00<00:00, 3619.87%/s]\n",
            "[0.88611574 1.86086655 2.09817722 1.96282528 1.71117992 2.24053194\n",
            " 2.19972433 2.36202533 2.8102886  0.33865757]\n",
            "100%|######################################| 100.0/100 [00:00<00:00, 3025.32%/s]\n",
            "[0.88611574 1.86086655 2.09817722 1.96282528 1.71117992 2.24053194\n",
            " 2.19972433 2.36202533 2.8102886  0.33865757]\n",
            "100%|######################################| 100.0/100 [00:00<00:00, 3694.19%/s]\n",
            "[0.88611574 1.86086655 2.09817722 1.96282528 1.71117992 2.24053194\n",
            " 2.19972433 2.36202533 2.8102886  0.33865757]\n",
            "100%|######################################| 100.0/100 [00:00<00:00, 3060.66%/s]\n",
            "[0.88611574 1.86086655 2.09817722 1.96282528 1.71117992 2.24053194\n",
            " 2.19972433 2.36202533 2.8102886  0.33865757]\n",
            "100%|######################################| 100.0/100 [00:00<00:00, 4041.57%/s]\n",
            "[0.88611574 1.86086655 2.09817722 1.96282528 1.71117992 2.24053194\n",
            " 2.19972433 2.36202533 2.8102886  0.33865757]\n",
            "100%|######################################| 100.0/100 [00:00<00:00, 3680.12%/s]\n",
            "[0.88611574 1.86086655 2.09817722 1.96282528 1.71117992 2.24053194\n",
            " 2.19972433 2.36202533 2.8102886  0.33865757]\n",
            "100%|######################################| 100.0/100 [00:00<00:00, 4018.61%/s]\n",
            "[0.88611574 1.86086655 2.09817722 1.96282528 1.71117992 2.24053194\n",
            " 2.19972433 2.36202533 2.8102886  0.33865757]\n",
            "100%|######################################| 100.0/100 [00:00<00:00, 2522.22%/s]\n",
            "[0.88611574 1.86086655 2.09817722 1.96282528 1.71117992 2.24053194\n",
            " 2.19972433 2.36202533 2.8102886  0.33865757]\n",
            "100%|######################################| 100.0/100 [00:00<00:00, 1839.55%/s]\n",
            "[0.88611574 1.86086655 2.09817722 1.96282528 1.71117992 2.24053194\n",
            " 2.19972433 2.36202533 2.8102886  0.33865757]\n",
            "100%|######################################| 100.0/100 [00:00<00:00, 1963.49%/s]\n",
            "[0.88611574 1.86086655 2.09817722 1.96282528 1.71117992 2.24053194\n",
            " 2.19972433 2.36202533 2.8102886  0.33865757]\n",
            "100%|######################################| 100.0/100 [00:00<00:00, 2757.72%/s]\n",
            "[0.88611574 1.86086655 2.09817722 1.96282528 1.71117992 2.24053194\n",
            " 2.19972433 2.36202533 2.8102886  0.33865757]\n",
            "100%|######################################| 100.0/100 [00:00<00:00, 2370.24%/s]\n",
            "[0.88611574 1.86086655 2.09817722 1.96282528 1.71117992 2.24053194\n",
            " 2.19972433 2.36202533 2.8102886  0.33865757]\n",
            "100%|######################################| 100.0/100 [00:00<00:00, 2381.08%/s]\n",
            "[0.88611574 1.86086655 2.09817722 1.96282528 1.71117992 2.24053194\n",
            " 2.19972433 2.36202533 2.8102886  0.33865757]\n",
            "100%|######################################| 100.0/100 [00:00<00:00, 2652.98%/s]\n",
            "[0.88611574 1.86086655 2.09817722 1.96282528 1.71117992 2.24053194\n",
            " 2.19972433 2.36202533 2.8102886  0.33865757]\n",
            "100%|######################################| 100.0/100 [00:00<00:00, 2308.09%/s]\n",
            "[0.88611574 1.86086655 2.09817722 1.96282528 1.71117992 2.24053194\n",
            " 2.19972433 2.36202533 2.8102886  0.33865757]\n",
            "100%|######################################| 100.0/100 [00:00<00:00, 2226.15%/s]\n",
            "[0.88611574 1.86086655 2.09817722 1.96282528 1.71117992 2.24053194\n",
            " 2.19972433 2.36202533 2.8102886  0.33865757]\n",
            "100%|######################################| 100.0/100 [00:00<00:00, 1903.90%/s]\n",
            "[0.88611574 1.86086655 2.09817722 1.96282528 1.71117992 2.24053194\n",
            " 2.19972433 2.36202533 2.8102886  0.33865757]\n",
            "100%|######################################| 100.0/100 [00:00<00:00, 1951.18%/s]\n",
            "[0.88611574 1.86086655 2.09817722 1.96282528 1.71117992 2.24053194\n",
            " 2.19972433 2.36202533 2.8102886  0.33865757]\n",
            "100%|######################################| 100.0/100 [00:00<00:00, 1502.67%/s]\n",
            "[0.88611574 1.86086655 2.09817722 1.96282528 1.71117992 2.24053194\n",
            " 2.19972433 2.36202533 2.8102886  0.33865757]\n",
            "100%|######################################| 100.0/100 [00:00<00:00, 1804.78%/s]\n",
            "[0.88611574 1.86086655 2.09817722 1.96282528 1.71117992 2.24053194\n",
            " 2.19972433 2.36202533 2.8102886  0.33865757]\n",
            "100%|######################################| 100.0/100 [00:00<00:00, 1913.38%/s]\n",
            "[0.88611574 1.86086655 2.09817722 1.96282528 1.71117992 2.24053194\n",
            " 2.19972433 2.36202533 2.8102886  0.33865757]\n",
            "100%|######################################| 100.0/100 [00:00<00:00, 1699.85%/s]\n",
            "[0.88611574 1.86086655 2.09817722 1.96282528 1.71117992 2.24053194\n",
            " 2.19972433 2.36202533 2.8102886  0.33865757]\n",
            "100%|######################################| 100.0/100 [00:00<00:00, 1842.75%/s]\n",
            "[0.88611574 1.86086655 2.09817722 1.96282528 1.71117992 2.24053194\n",
            " 2.19972433 2.36202533 2.8102886  0.33865757]\n",
            "100%|######################################| 100.0/100 [00:00<00:00, 1799.57%/s]\n",
            "[0.88611574 1.86086655 2.09817722 1.96282528 1.71117992 2.24053194\n",
            " 2.19972433 2.36202533 2.8102886  0.33865757]\n",
            "100%|######################################| 100.0/100 [00:00<00:00, 2440.08%/s]\n",
            "[0.88611574 1.86086655 2.09817722 1.96282528 1.71117992 2.24053194\n",
            " 2.19972433 2.36202533 2.8102886  0.33865757]\n",
            "100%|######################################| 100.0/100 [00:00<00:00, 3835.39%/s]\n",
            "[0.88611574 1.86086655 2.09817722 1.96282528 1.71117992 2.24053194\n",
            " 2.19972433 2.36202533 2.8102886  0.33865757]\n",
            "100%|######################################| 100.0/100 [00:00<00:00, 3154.06%/s]\n",
            "[0.88611574 1.86086655 2.09817722 1.96282528 1.71117992 2.24053194\n",
            " 2.19972433 2.36202533 2.8102886  0.33865757]\n",
            "100%|######################################| 100.0/100 [00:00<00:00, 1972.65%/s]\n",
            "[0.88611574 1.86086655 2.09817722 1.96282528 1.71117992 2.24053194\n",
            " 2.19972433 2.36202533 2.8102886  0.33865757]\n",
            "100%|######################################| 100.0/100 [00:00<00:00, 1773.40%/s]\n",
            "[0.88611574 1.86086655 2.09817722 1.96282528 1.71117992 2.24053194\n",
            " 2.19972433 2.36202533 2.8102886  0.33865757]\n",
            "100%|######################################| 100.0/100 [00:00<00:00, 1883.55%/s]\n",
            "[0.88611574 1.86086655 2.09817722 1.96282528 1.71117992 2.24053194\n",
            " 2.19972433 2.36202533 2.8102886  0.33865757]\n",
            "100%|######################################| 100.0/100 [00:00<00:00, 1541.04%/s]\n",
            "[0.88611574 1.86086655 2.09817722 1.96282528 1.71117992 2.24053194\n",
            " 2.19972433 2.36202533 2.8102886  0.33865757]\n",
            "100%|######################################| 100.0/100 [00:00<00:00, 1814.11%/s]\n",
            "[0.88611574 1.86086655 2.09817722 1.96282528 1.71117992 2.24053194\n",
            " 2.19972433 2.36202533 2.8102886  0.33865757]\n",
            "100%|######################################| 100.0/100 [00:00<00:00, 1915.23%/s]\n",
            "[0.88611574 1.86086655 2.09817722 1.96282528 1.71117992 2.24053194\n",
            " 2.19972433 2.36202533 2.8102886  0.33865757]\n",
            "100%|######################################| 100.0/100 [00:00<00:00, 1720.58%/s]\n",
            "[0.88611574 1.86086655 2.09817722 1.96282528 1.71117992 2.24053194\n",
            " 2.19972433 2.36202533 2.8102886  0.33865757]\n",
            "100%|######################################| 100.0/100 [00:00<00:00, 1342.73%/s]\n",
            "[0.88611574 1.86086655 2.09817722 1.96282528 1.71117992 2.24053194\n",
            " 2.19972433 2.36202533 2.8102886  0.33865757]\n",
            "100%|######################################| 100.0/100 [00:00<00:00, 1899.86%/s]\n",
            "[0.88611574 1.86086655 2.09817722 1.96282528 1.71117992 2.24053194\n",
            " 2.19972433 2.36202533 2.8102886  0.33865757]\n",
            "100%|######################################| 100.0/100 [00:00<00:00, 1850.34%/s]\n",
            "[0.88611574 1.86086655 2.09817722 1.96282528 1.71117992 2.24053194\n",
            " 2.19972433 2.36202533 2.8102886  0.33865757]\n",
            "100%|######################################| 100.0/100 [00:00<00:00, 2609.26%/s]\n",
            "[0.88611574 1.86086655 2.09817722 1.96282528 1.71117992 2.24053194\n",
            " 2.19972433 2.36202533 2.8102886  0.33865757]\n",
            "100%|######################################| 100.0/100 [00:00<00:00, 2854.76%/s]\n",
            "[0.88611574 1.86086655 2.09817722 1.96282528 1.71117992 2.24053194\n",
            " 2.19972433 2.36202533 2.8102886  0.33865757]\n",
            "100%|######################################| 100.0/100 [00:00<00:00, 2540.19%/s]\n",
            "[0.88611574 1.86086655 2.09817722 1.96282528 1.71117992 2.24053194\n",
            " 2.19972433 2.36202533 2.8102886  0.33865757]\n",
            "100%|######################################| 100.0/100 [00:00<00:00, 2756.53%/s]\n",
            "[0.88611574 1.86086655 2.09817722 1.96282528 1.71117992 2.24053194\n",
            " 2.19972433 2.36202533 2.8102886  0.33865757]\n",
            "100%|######################################| 100.0/100 [00:00<00:00, 2701.47%/s]\n",
            "[0.88611574 1.86086655 2.09817722 1.96282528 1.71117992 2.24053194\n",
            " 2.19972433 2.36202533 2.8102886  0.33865757]\n",
            "100%|######################################| 100.0/100 [00:00<00:00, 1765.91%/s]\n",
            "[0.88611574 1.86086655 2.09817722 1.96282528 1.71117992 2.24053194\n",
            " 2.19972433 2.36202533 2.8102886  0.33865757]\n",
            "100%|######################################| 100.0/100 [00:00<00:00, 1629.95%/s]\n",
            "[0.88611574 1.86086655 2.09817722 1.96282528 1.71117992 2.24053194\n",
            " 2.19972433 2.36202533 2.8102886  0.33865757]\n",
            "100%|######################################| 100.0/100 [00:00<00:00, 1552.76%/s]\n",
            "[0.88611574 1.86086655 2.09817722 1.96282528 1.71117992 2.24053194\n",
            " 2.19972433 2.36202533 2.8102886  0.33865757]\n",
            "100%|######################################| 100.0/100 [00:00<00:00, 1815.21%/s]\n",
            "[0.88611574 1.86086655 2.09817722 1.96282528 1.71117992 2.24053194\n",
            " 2.19972433 2.36202533 2.8102886  0.33865757]\n",
            "100%|######################################| 100.0/100 [00:00<00:00, 1841.11%/s]\n",
            "[0.88611574 1.86086655 2.09817722 1.96282528 1.71117992 2.24053194\n",
            " 2.19972433 2.36202533 2.8102886  0.33865757]\n",
            "100%|######################################| 100.0/100 [00:00<00:00, 1858.64%/s]\n",
            "[0.88611574 1.86086655 2.09817722 1.96282528 1.71117992 2.24053194\n",
            " 2.19972433 2.36202533 2.8102886  0.33865757]\n",
            "100%|######################################| 100.0/100 [00:00<00:00, 1705.92%/s]\n",
            "[0.88611574 1.86086655 2.09817722 1.96282528 1.71117992 2.24053194\n",
            " 2.19972433 2.36202533 2.8102886  0.33865757]\n",
            "100%|######################################| 100.0/100 [00:00<00:00, 1800.04%/s]\n",
            "[0.88611574 1.86086655 2.09817722 1.96282528 1.71117992 2.24053194\n",
            " 2.19972433 2.36202533 2.8102886  0.33865757]\n",
            "100%|######################################| 100.0/100 [00:00<00:00, 1777.35%/s]\n",
            "[0.88611574 1.86086655 2.09817722 1.96282528 1.71117992 2.24053194\n",
            " 2.19972433 2.36202533 2.8102886  0.33865757]\n",
            "100%|######################################| 100.0/100 [00:00<00:00, 1808.80%/s]\n",
            "[0.88611574 1.86086655 2.09817722 1.96282528 1.71117992 2.24053194\n",
            " 2.19972433 2.36202533 2.8102886  0.33865757]\n",
            "100%|######################################| 100.0/100 [00:00<00:00, 1569.56%/s]\n",
            "[0.88611574 1.86086655 2.09817722 1.96282528 1.71117992 2.24053194\n",
            " 2.19972433 2.36202533 2.8102886  0.33865757]\n",
            "100%|######################################| 100.0/100 [00:00<00:00, 1806.43%/s]\n",
            "[0.88611574 1.86086655 2.09817722 1.96282528 1.71117992 2.24053194\n",
            " 2.19972433 2.36202533 2.8102886  0.33865757]\n",
            "100%|######################################| 100.0/100 [00:00<00:00, 1681.76%/s]\n",
            "[0.88611574 1.86086655 2.09817722 1.96282528 1.71117992 2.24053194\n",
            " 2.19972433 2.36202533 2.8102886  0.33865757]\n",
            "100%|######################################| 100.0/100 [00:00<00:00, 1797.91%/s]\n",
            "[0.88611574 1.86086655 2.09817722 1.96282528 1.71117992 2.24053194\n",
            " 2.19972433 2.36202533 2.8102886  0.33865757]\n",
            "100%|######################################| 100.0/100 [00:00<00:00, 1849.59%/s]\n",
            "[0.88611574 1.86086655 2.09817722 1.96282528 1.71117992 2.24053194\n",
            " 2.19972433 2.36202533 2.8102886  0.33865757]\n",
            "100%|######################################| 100.0/100 [00:00<00:00, 1599.13%/s]\n",
            "[0.88611574 1.86086655 2.09817722 1.96282528 1.71117992 2.24053194\n",
            " 2.19972433 2.36202533 2.8102886  0.33865757]\n",
            "100%|######################################| 100.0/100 [00:00<00:00, 1958.40%/s]\n",
            "[0.88611574 1.86086655 2.09817722 1.96282528 1.71117992 2.24053194\n",
            " 2.19972433 2.36202533 2.8102886  0.33865757]\n",
            "100%|######################################| 100.0/100 [00:00<00:00, 2099.46%/s]\n",
            "[0.88611574 1.86086655 2.09817722 1.96282528 1.71117992 2.24053194\n",
            " 2.19972433 2.36202533 2.8102886  0.33865757]\n",
            "100%|######################################| 100.0/100 [00:00<00:00, 1825.58%/s]\n",
            "[0.88611574 1.86086655 2.09817722 1.96282528 1.71117992 2.24053194\n",
            " 2.19972433 2.36202533 2.8102886  0.33865757]\n",
            "100%|######################################| 100.0/100 [00:00<00:00, 1943.40%/s]\n",
            "[0.88611574 1.86086655 2.09817722 1.96282528 1.71117992 2.24053194\n",
            " 2.19972433 2.36202533 2.8102886  0.33865757]\n",
            "100%|######################################| 100.0/100 [00:00<00:00, 1646.79%/s]\n",
            "[0.88611574 1.86086655 2.09817722 1.96282528 1.71117992 2.24053194\n",
            " 2.19972433 2.36202533 2.8102886  0.33865757]\n",
            "100%|######################################| 100.0/100 [00:00<00:00, 1768.04%/s]\n",
            "[0.88611574 1.86086655 2.09817722 1.96282528 1.71117992 2.24053194\n",
            " 2.19972433 2.36202533 2.8102886  0.33865757]\n",
            "100%|######################################| 100.0/100 [00:00<00:00, 1691.19%/s]\n",
            "[0.88611574 1.86086655 2.09817722 1.96282528 1.71117992 2.24053194\n",
            " 2.19972433 2.36202533 2.8102886  0.33865757]\n",
            "100%|######################################| 100.0/100 [00:00<00:00, 1697.53%/s]\n",
            "[0.88611574 1.86086655 2.09817722 1.96282528 1.71117992 2.24053194\n",
            " 2.19972433 2.36202533 2.8102886  0.33865757]\n",
            "100%|######################################| 100.0/100 [00:00<00:00, 1703.05%/s]\n",
            "[0.88611574 1.86086655 2.09817722 1.96282528 1.71117992 2.24053194\n",
            " 2.19972433 2.36202533 2.8102886  0.33865757]\n",
            "100%|######################################| 100.0/100 [00:00<00:00, 1532.43%/s]\n",
            "[0.88611574 1.86086655 2.09817722 1.96282528 1.71117992 2.24053194\n",
            " 2.19972433 2.36202533 2.8102886  0.33865757]\n",
            "100%|######################################| 100.0/100 [00:00<00:00, 1648.30%/s]\n",
            "[0.88611574 1.86086655 2.09817722 1.96282528 1.71117992 2.24053194\n",
            " 2.19972433 2.36202533 2.8102886  0.33865757]\n",
            "100%|######################################| 100.0/100 [00:00<00:00, 1549.92%/s]\n",
            "[0.88611574 1.86086655 2.09817722 1.96282528 1.71117992 2.24053194\n",
            " 2.19972433 2.36202533 2.8102886  0.33865757]\n",
            "100%|######################################| 100.0/100 [00:00<00:00, 1506.83%/s]\n",
            "[0.88611574 1.86086655 2.09817722 1.96282528 1.71117992 2.24053194\n",
            " 2.19972433 2.36202533 2.8102886  0.33865757]\n",
            "100%|######################################| 100.0/100 [00:00<00:00, 1386.35%/s]\n",
            "[0.88611574 1.86086655 2.09817722 1.96282528 1.71117992 2.24053194\n",
            " 2.19972433 2.36202533 2.8102886  0.33865757]\n",
            "100%|######################################| 100.0/100 [00:00<00:00, 1826.99%/s]\n",
            "[0.88611574 1.86086655 2.09817722 1.96282528 1.71117992 2.24053194\n",
            " 2.19972433 2.36202533 2.8102886  0.33865757]\n",
            "100%|######################################| 100.0/100 [00:00<00:00, 1647.15%/s]\n",
            "[0.88611574 1.86086655 2.09817722 1.96282528 1.71117992 2.24053194\n",
            " 2.19972433 2.36202533 2.8102886  0.33865757]\n",
            "100%|######################################| 100.0/100 [00:00<00:00, 1732.89%/s]\n",
            "[0.88611574 1.86086655 2.09817722 1.96282528 1.71117992 2.24053194\n",
            " 2.19972433 2.36202533 2.8102886  0.33865757]\n",
            "100%|######################################| 100.0/100 [00:00<00:00, 1685.70%/s]\n",
            "[0.88611574 1.86086655 2.09817722 1.96282528 1.71117992 2.24053194\n",
            " 2.19972433 2.36202533 2.8102886  0.33865757]\n",
            "100%|######################################| 100.0/100 [00:00<00:00, 1545.06%/s]\n",
            "[0.88611574 1.86086655 2.09817722 1.96282528 1.71117992 2.24053194\n",
            " 2.19972433 2.36202533 2.8102886  0.33865757]\n",
            "100%|######################################| 100.0/100 [00:00<00:00, 1523.64%/s]\n",
            "[0.88611574 1.86086655 2.09817722 1.96282528 1.71117992 2.24053194\n",
            " 2.19972433 2.36202533 2.8102886  0.33865757]\n",
            "100%|######################################| 100.0/100 [00:00<00:00, 1574.07%/s]\n",
            "[0.88611574 1.86086655 2.09817722 1.96282528 1.71117992 2.24053194\n",
            " 2.19972433 2.36202533 2.8102886  0.33865757]\n",
            "100%|######################################| 100.0/100 [00:00<00:00, 1540.73%/s]\n",
            "[0.88611574 1.86086655 2.09817722 1.96282528 1.71117992 2.24053194\n",
            " 2.19972433 2.36202533 2.8102886  0.33865757]\n",
            "100%|######################################| 100.0/100 [00:00<00:00, 1798.75%/s]\n",
            "[0.88611574 1.86086655 2.09817722 1.96282528 1.71117992 2.24053194\n",
            " 2.19972433 2.36202533 2.8102886  0.33865757]\n",
            "100%|######################################| 100.0/100 [00:00<00:00, 2042.12%/s]\n",
            "[0.88611574 1.86086655 2.09817722 1.96282528 1.71117992 2.24053194\n",
            " 2.19972433 2.36202533 2.8102886  0.33865757]\n",
            "100%|######################################| 100.0/100 [00:00<00:00, 1567.17%/s]\n",
            "[0.88611574 1.86086655 2.09817722 1.96282528 1.71117992 2.24053194\n",
            " 2.19972433 2.36202533 2.8102886  0.33865757]\n",
            "100%|######################################| 100.0/100 [00:00<00:00, 1725.50%/s]\n",
            "[0.88611574 1.86086655 2.09817722 1.96282528 1.71117992 2.24053194\n",
            " 2.19972433 2.36202533 2.8102886  0.33865757]\n",
            "100%|######################################| 100.0/100 [00:00<00:00, 1832.36%/s]\n",
            "[0.88611574 1.86086655 2.09817722 1.96282528 1.71117992 2.24053194\n",
            " 2.19972433 2.36202533 2.8102886  0.33865757]\n",
            "100%|######################################| 100.0/100 [00:00<00:00, 2011.06%/s]\n",
            "[0.88611574 1.86086655 2.09817722 1.96282528 1.71117992 2.24053194\n",
            " 2.19972433 2.36202533 2.8102886  0.33865757]\n",
            "100%|######################################| 100.0/100 [00:00<00:00, 1644.29%/s]\n",
            "[0.88611574 1.86086655 2.09817722 1.96282528 1.71117992 2.24053194\n",
            " 2.19972433 2.36202533 2.8102886  0.33865757]\n",
            "100%|######################################| 100.0/100 [00:00<00:00, 1767.94%/s]\n",
            "[0.88611574 1.86086655 2.09817722 1.96282528 1.71117992 2.24053194\n",
            " 2.19972433 2.36202533 2.8102886  0.33865757]\n",
            "100%|######################################| 100.0/100 [00:00<00:00, 1768.50%/s]\n",
            "[0.88611574 1.86086655 2.09817722 1.96282528 1.71117992 2.24053194\n",
            " 2.19972433 2.36202533 2.8102886  0.33865757]\n",
            "100%|######################################| 100.0/100 [00:00<00:00, 1565.76%/s]\n",
            "[0.88611574 1.86086655 2.09817722 1.96282528 1.71117992 2.24053194\n",
            " 2.19972433 2.36202533 2.8102886  0.33865757]\n",
            "100%|######################################| 100.0/100 [00:00<00:00, 1891.25%/s]\n",
            "[0.88611574 1.86086655 2.09817722 1.96282528 1.71117992 2.24053194\n",
            " 2.19972433 2.36202533 2.8102886  0.33865757]\n",
            "100%|######################################| 100.0/100 [00:00<00:00, 1678.63%/s]\n",
            "[0.88611574 1.86086655 2.09817722 1.96282528 1.71117992 2.24053194\n",
            " 2.19972433 2.36202533 2.8102886  0.33865757]\n",
            "100%|######################################| 100.0/100 [00:00<00:00, 1802.11%/s]\n",
            "[0.88611574 1.86086655 2.09817722 1.96282528 1.71117992 2.24053194\n",
            " 2.19972433 2.36202533 2.8102886  0.33865757]\n",
            "100%|######################################| 100.0/100 [00:00<00:00, 1682.51%/s]\n",
            "[0.88611574 1.86086655 2.09817722 1.96282528 1.71117992 2.24053194\n",
            " 2.19972433 2.36202533 2.8102886  0.33865757]\n",
            "100%|######################################| 100.0/100 [00:00<00:00, 3018.81%/s]\n",
            "[0.88611574 1.86086655 2.09817722 1.96282528 1.71117992 2.24053194\n",
            " 2.19972433 2.36202533 2.8102886  0.33865757]\n",
            "100%|######################################| 100.0/100 [00:00<00:00, 2883.26%/s]\n",
            "[0.88611574 1.86086655 2.09817722 1.96282528 1.71117992 2.24053194\n",
            " 2.19972433 2.36202533 2.8102886  0.33865757]\n",
            "100%|######################################| 100.0/100 [00:00<00:00, 3647.41%/s]\n",
            "[0.88611574 1.86086655 2.09817722 1.96282528 1.71117992 2.24053194\n",
            " 2.19972433 2.36202533 2.8102886  0.33865757]\n",
            "100%|######################################| 100.0/100 [00:00<00:00, 2818.90%/s]\n",
            "[0.88611574 1.86086655 2.09817722 1.96282528 1.71117992 2.24053194\n",
            " 2.19972433 2.36202533 2.8102886  0.33865757]\n",
            "100%|######################################| 100.0/100 [00:00<00:00, 3122.57%/s]\n",
            "[0.88611574 1.86086655 2.09817722 1.96282528 1.71117992 2.24053194\n",
            " 2.19972433 2.36202533 2.8102886  0.33865757]\n",
            "100%|######################################| 100.0/100 [00:00<00:00, 2290.23%/s]\n",
            "[0.88611574 1.86086655 2.09817722 1.96282528 1.71117992 2.24053194\n",
            " 2.19972433 2.36202533 2.8102886  0.33865757]\n",
            "100%|######################################| 100.0/100 [00:00<00:00, 3707.97%/s]\n",
            "[0.88611574 1.86086655 2.09817722 1.96282528 1.71117992 2.24053194\n",
            " 2.19972433 2.36202533 2.8102886  0.33865757]\n",
            "100%|######################################| 100.0/100 [00:00<00:00, 3596.62%/s]\n",
            "[0.88611574 1.86086655 2.09817722 1.96282528 1.71117992 2.24053194\n",
            " 2.19972433 2.36202533 2.8102886  0.33865757]\n",
            "100%|######################################| 100.0/100 [00:00<00:00, 4040.02%/s]\n",
            "[0.88611574 1.86086655 2.09817722 1.96282528 1.71117992 2.24053194\n",
            " 2.19972433 2.36202533 2.8102886  0.33865757]\n",
            "100%|######################################| 100.0/100 [00:00<00:00, 2089.41%/s]\n",
            "[0.88611574 1.86086655 2.09817722 1.96282528 1.71117992 2.24053194\n",
            " 2.19972433 2.36202533 2.8102886  0.33865757]\n",
            "100%|######################################| 100.0/100 [00:00<00:00, 1706.62%/s]\n",
            "[0.88611574 1.86086655 2.09817722 1.96282528 1.71117992 2.24053194\n",
            " 2.19972433 2.36202533 2.8102886  0.33865757]\n",
            "100%|######################################| 100.0/100 [00:00<00:00, 2153.84%/s]\n",
            "[0.88611574 1.86086655 2.09817722 1.96282528 1.71117992 2.24053194\n",
            " 2.19972433 2.36202533 2.8102886  0.33865757]\n",
            "100%|######################################| 100.0/100 [00:00<00:00, 1836.01%/s]\n",
            "[0.88611574 1.86086655 2.09817722 1.96282528 1.71117992 2.24053194\n",
            " 2.19972433 2.36202533 2.8102886  0.33865757]\n",
            "100%|######################################| 100.0/100 [00:00<00:00, 1774.00%/s]\n",
            "[0.88611574 1.86086655 2.09817722 1.96282528 1.71117992 2.24053194\n",
            " 2.19972433 2.36202533 2.8102886  0.33865757]\n",
            "100%|######################################| 100.0/100 [00:00<00:00, 1750.52%/s]\n",
            "[0.88611574 1.86086655 2.09817722 1.96282528 1.71117992 2.24053194\n",
            " 2.19972433 2.36202533 2.8102886  0.33865757]\n",
            "100%|######################################| 100.0/100 [00:00<00:00, 2319.44%/s]\n",
            "[0.88611574 1.86086655 2.09817722 1.96282528 1.71117992 2.24053194\n",
            " 2.19972433 2.36202533 2.8102886  0.33865757]\n",
            "100%|######################################| 100.0/100 [00:00<00:00, 2149.39%/s]\n",
            "[0.88611574 1.86086655 2.09817722 1.96282528 1.71117992 2.24053194\n",
            " 2.19972433 2.36202533 2.8102886  0.33865757]\n",
            "100%|######################################| 100.0/100 [00:00<00:00, 2733.82%/s]\n",
            "[0.88611574 1.86086655 2.09817722 1.96282528 1.71117992 2.24053194\n",
            " 2.19972433 2.36202533 2.8102886  0.33865757]\n",
            "100%|######################################| 100.0/100 [00:00<00:00, 2691.59%/s]\n",
            "[0.88611574 1.86086655 2.09817722 1.96282528 1.71117992 2.24053194\n",
            " 2.19972433 2.36202533 2.8102886  0.33865757]\n",
            "100%|######################################| 100.0/100 [00:00<00:00, 1665.35%/s]\n",
            "[0.88611574 1.86086655 2.09817722 1.96282528 1.71117992 2.24053194\n",
            " 2.19972433 2.36202533 2.8102886  0.33865757]\n",
            "100%|######################################| 100.0/100 [00:00<00:00, 1604.12%/s]\n",
            "[0.88611574 1.86086655 2.09817722 1.96282528 1.71117992 2.24053194\n",
            " 2.19972433 2.36202533 2.8102886  0.33865757]\n",
            "100%|######################################| 100.0/100 [00:00<00:00, 1716.08%/s]\n",
            "[0.88611574 1.86086655 2.09817722 1.96282528 1.71117992 2.24053194\n",
            " 2.19972433 2.36202533 2.8102886  0.33865757]\n",
            "100%|######################################| 100.0/100 [00:00<00:00, 1670.63%/s]\n",
            "[0.88611574 1.86086655 2.09817722 1.96282528 1.71117992 2.24053194\n",
            " 2.19972433 2.36202533 2.8102886  0.33865757]\n",
            "100%|######################################| 100.0/100 [00:00<00:00, 1719.95%/s]\n",
            "[0.88611574 1.86086655 2.09817722 1.96282528 1.71117992 2.24053194\n",
            " 2.19972433 2.36202533 2.8102886  0.33865757]\n",
            "100%|######################################| 100.0/100 [00:00<00:00, 1905.99%/s]\n",
            "[0.88611574 1.86086655 2.09817722 1.96282528 1.71117992 2.24053194\n",
            " 2.19972433 2.36202533 2.8102886  0.33865757]\n",
            "100%|######################################| 100.0/100 [00:00<00:00, 1893.72%/s]\n",
            "[0.88611574 1.86086655 2.09817722 1.96282528 1.71117992 2.24053194\n",
            " 2.19972433 2.36202533 2.8102886  0.33865757]\n",
            "100%|######################################| 100.0/100 [00:00<00:00, 1731.70%/s]\n",
            "[0.88611574 1.86086655 2.09817722 1.96282528 1.71117992 2.24053194\n",
            " 2.19972433 2.36202533 2.8102886  0.33865757]\n",
            "100%|######################################| 100.0/100 [00:00<00:00, 1572.54%/s]\n",
            "[0.88611574 1.86086655 2.09817722 1.96282528 1.71117992 2.24053194\n",
            " 2.19972433 2.36202533 2.8102886  0.33865757]\n",
            "100%|######################################| 100.0/100 [00:00<00:00, 1553.77%/s]\n",
            "[0.88611574 1.86086655 2.09817722 1.96282528 1.71117992 2.24053194\n",
            " 2.19972433 2.36202533 2.8102886  0.33865757]\n",
            "100%|######################################| 100.0/100 [00:00<00:00, 1861.36%/s]\n",
            "[0.88611574 1.86086655 2.09817722 1.96282528 1.71117992 2.24053194\n",
            " 2.19972433 2.36202533 2.8102886  0.33865757]\n",
            "100%|######################################| 100.0/100 [00:00<00:00, 1721.36%/s]\n",
            "[0.88611574 1.86086655 2.09817722 1.96282528 1.71117992 2.24053194\n",
            " 2.19972433 2.36202533 2.8102886  0.33865757]\n",
            "100%|######################################| 100.0/100 [00:00<00:00, 1797.96%/s]\n",
            "[0.88611574 1.86086655 2.09817722 1.96282528 1.71117992 2.24053194\n",
            " 2.19972433 2.36202533 2.8102886  0.33865757]\n",
            "100%|######################################| 100.0/100 [00:00<00:00, 1944.93%/s]\n",
            "[0.88611574 1.86086655 2.09817722 1.96282528 1.71117992 2.24053194\n",
            " 2.19972433 2.36202533 2.8102886  0.33865757]\n",
            "100%|######################################| 100.0/100 [00:00<00:00, 1536.12%/s]\n",
            "[0.88611574 1.86086655 2.09817722 1.96282528 1.71117992 2.24053194\n",
            " 2.19972433 2.36202533 2.8102886  0.33865757]\n",
            "100%|######################################| 100.0/100 [00:00<00:00, 1812.98%/s]\n",
            "[0.88611574 1.86086655 2.09817722 1.96282528 1.71117992 2.24053194\n",
            " 2.19972433 2.36202533 2.8102886  0.33865757]\n",
            "100%|######################################| 100.0/100 [00:00<00:00, 1774.25%/s]\n",
            "[0.88611574 1.86086655 2.09817722 1.96282528 1.71117992 2.24053194\n",
            " 2.19972433 2.36202533 2.8102886  0.33865757]\n",
            "100%|######################################| 100.0/100 [00:00<00:00, 1862.09%/s]\n",
            "[0.88611574 1.86086655 2.09817722 1.96282528 1.71117992 2.24053194\n",
            " 2.19972433 2.36202533 2.8102886  0.33865757]\n",
            "100%|######################################| 100.0/100 [00:00<00:00, 1791.43%/s]\n",
            "[0.88611574 1.86086655 2.09817722 1.96282528 1.71117992 2.24053194\n",
            " 2.19972433 2.36202533 2.8102886  0.33865757]\n",
            "100%|######################################| 100.0/100 [00:00<00:00, 1587.60%/s]\n",
            "[0.88611574 1.86086655 2.09817722 1.96282528 1.71117992 2.24053194\n",
            " 2.19972433 2.36202533 2.8102886  0.33865757]\n",
            "100%|######################################| 100.0/100 [00:00<00:00, 1689.43%/s]\n",
            "[0.88611574 1.86086655 2.09817722 1.96282528 1.71117992 2.24053194\n",
            " 2.19972433 2.36202533 2.8102886  0.33865757]\n",
            "100%|######################################| 100.0/100 [00:00<00:00, 1906.81%/s]\n",
            "[0.88611574 1.86086655 2.09817722 1.96282528 1.71117992 2.24053194\n",
            " 2.19972433 2.36202533 2.8102886  0.33865757]\n",
            "100%|######################################| 100.0/100 [00:00<00:00, 1704.45%/s]\n",
            "[0.88611574 1.86086655 2.09817722 1.96282528 1.71117992 2.24053194\n",
            " 2.19972433 2.36202533 2.8102886  0.33865757]\n",
            "100%|######################################| 100.0/100 [00:00<00:00, 1512.74%/s]\n",
            "[0.88611574 1.86086655 2.09817722 1.96282528 1.71117992 2.24053194\n",
            " 2.19972433 2.36202533 2.8102886  0.33865757]\n",
            "100%|######################################| 100.0/100 [00:00<00:00, 1720.32%/s]\n",
            "[0.88611574 1.86086655 2.09817722 1.96282528 1.71117992 2.24053194\n",
            " 2.19972433 2.36202533 2.8102886  0.33865757]\n",
            "100%|######################################| 100.0/100 [00:00<00:00, 1530.71%/s]\n",
            "[0.88611574 1.86086655 2.09817722 1.96282528 1.71117992 2.24053194\n",
            " 2.19972433 2.36202533 2.8102886  0.33865757]\n",
            "100%|######################################| 100.0/100 [00:00<00:00, 1338.45%/s]\n",
            "[0.88611574 1.86086655 2.09817722 1.96282528 1.71117992 2.24053194\n",
            " 2.19972433 2.36202533 2.8102886  0.33865757]\n",
            "100%|######################################| 100.0/100 [00:00<00:00, 1674.08%/s]\n",
            "[0.88611574 1.86086655 2.09817722 1.96282528 1.71117992 2.24053194\n",
            " 2.19972433 2.36202533 2.8102886  0.33865757]\n",
            "100%|######################################| 100.0/100 [00:00<00:00, 1630.91%/s]\n",
            "[0.88611574 1.86086655 2.09817722 1.96282528 1.71117992 2.24053194\n",
            " 2.19972433 2.36202533 2.8102886  0.33865757]\n",
            "100%|######################################| 100.0/100 [00:00<00:00, 1903.65%/s]\n",
            "[0.88611574 1.86086655 2.09817722 1.96282528 1.71117992 2.24053194\n",
            " 2.19972433 2.36202533 2.8102886  0.33865757]\n",
            "100%|######################################| 100.0/100 [00:00<00:00, 1658.07%/s]\n",
            "[0.88611574 1.86086655 2.09817722 1.96282528 1.71117992 2.24053194\n",
            " 2.19972433 2.36202533 2.8102886  0.33865757]\n",
            "100%|######################################| 100.0/100 [00:00<00:00, 1782.22%/s]\n",
            "[0.88611574 1.86086655 2.09817722 1.96282528 1.71117992 2.24053194\n",
            " 2.19972433 2.36202533 2.8102886  0.33865757]\n",
            "100%|######################################| 100.0/100 [00:00<00:00, 2077.42%/s]\n",
            "[0.88611574 1.86086655 2.09817722 1.96282528 1.71117992 2.24053194\n",
            " 2.19972433 2.36202533 2.8102886  0.33865757]\n",
            "100%|######################################| 100.0/100 [00:00<00:00, 1832.30%/s]\n",
            "[0.88611574 1.86086655 2.09817722 1.96282528 1.71117992 2.24053194\n",
            " 2.19972433 2.36202533 2.8102886  0.33865757]\n",
            "100%|######################################| 100.0/100 [00:00<00:00, 1849.54%/s]\n",
            "[0.88611574 1.86086655 2.09817722 1.96282528 1.71117992 2.24053194\n",
            " 2.19972433 2.36202533 2.8102886  0.33865757]\n",
            "100%|######################################| 100.0/100 [00:00<00:00, 1873.81%/s]\n",
            "[0.88611574 1.86086655 2.09817722 1.96282528 1.71117992 2.24053194\n",
            " 2.19972433 2.36202533 2.8102886  0.33865757]\n",
            "100%|######################################| 100.0/100 [00:00<00:00, 1706.69%/s]\n",
            "[0.88611574 1.86086655 2.09817722 1.96282528 1.71117992 2.24053194\n",
            " 2.19972433 2.36202533 2.8102886  0.33865757]\n",
            "100%|######################################| 100.0/100 [00:00<00:00, 1571.31%/s]\n",
            "[0.88611574 1.86086655 2.09817722 1.96282528 1.71117992 2.24053194\n",
            " 2.19972433 2.36202533 2.8102886  0.33865757]\n",
            "100%|######################################| 100.0/100 [00:00<00:00, 1782.51%/s]\n",
            "[0.88611574 1.86086655 2.09817722 1.96282528 1.71117992 2.24053194\n",
            " 2.19972433 2.36202533 2.8102886  0.33865757]\n",
            "100%|######################################| 100.0/100 [00:00<00:00, 1632.84%/s]\n",
            "[0.88611574 1.86086655 2.09817722 1.96282528 1.71117992 2.24053194\n",
            " 2.19972433 2.36202533 2.8102886  0.33865757]\n",
            "100%|######################################| 100.0/100 [00:00<00:00, 1684.83%/s]\n",
            "[0.88611574 1.86086655 2.09817722 1.96282528 1.71117992 2.24053194\n",
            " 2.19972433 2.36202533 2.8102886  0.33865757]\n",
            "100%|######################################| 100.0/100 [00:00<00:00, 1490.14%/s]\n",
            "[0.88611574 1.86086655 2.09817722 1.96282528 1.71117992 2.24053194\n",
            " 2.19972433 2.36202533 2.8102886  0.33865757]\n",
            "100%|######################################| 100.0/100 [00:00<00:00, 2113.05%/s]\n",
            "[0.88611574 1.86086655 2.09817722 1.96282528 1.71117992 2.24053194\n",
            " 2.19972433 2.36202533 2.8102886  0.33865757]\n",
            "100%|######################################| 100.0/100 [00:00<00:00, 1617.27%/s]\n",
            "[0.88611574 1.86086655 2.09817722 1.96282528 1.71117992 2.24053194\n",
            " 2.19972433 2.36202533 2.8102886  0.33865757]\n",
            "100%|######################################| 100.0/100 [00:00<00:00, 1691.91%/s]\n",
            "[0.88611574 1.86086655 2.09817722 1.96282528 1.71117992 2.24053194\n",
            " 2.19972433 2.36202533 2.8102886  0.33865757]\n",
            "100%|######################################| 100.0/100 [00:00<00:00, 1607.78%/s]\n",
            "[0.88611574 1.86086655 2.09817722 1.96282528 1.71117992 2.24053194\n",
            " 2.19972433 2.36202533 2.8102886  0.33865757]\n",
            "100%|######################################| 100.0/100 [00:00<00:00, 1893.73%/s]\n",
            "[0.88611574 1.86086655 2.09817722 1.96282528 1.71117992 2.24053194\n",
            " 2.19972433 2.36202533 2.8102886  0.33865757]\n",
            "100%|######################################| 100.0/100 [00:00<00:00, 1672.65%/s]\n",
            "[0.88611574 1.86086655 2.09817722 1.96282528 1.71117992 2.24053194\n",
            " 2.19972433 2.36202533 2.8102886  0.33865757]\n",
            "100%|######################################| 100.0/100 [00:00<00:00, 1721.13%/s]\n",
            "[0.88611574 1.86086655 2.09817722 1.96282528 1.71117992 2.24053194\n",
            " 2.19972433 2.36202533 2.8102886  0.33865757]\n",
            "100%|######################################| 100.0/100 [00:00<00:00, 1787.91%/s]\n",
            "[0.88611574 1.86086655 2.09817722 1.96282528 1.71117992 2.24053194\n",
            " 2.19972433 2.36202533 2.8102886  0.33865757]\n",
            "100%|######################################| 100.0/100 [00:00<00:00, 1440.52%/s]\n",
            "[0.88611574 1.86086655 2.09817722 1.96282528 1.71117992 2.24053194\n",
            " 2.19972433 2.36202533 2.8102886  0.33865757]\n",
            "100%|######################################| 100.0/100 [00:00<00:00, 1539.58%/s]\n",
            "[0.88611574 1.86086655 2.09817722 1.96282528 1.71117992 2.24053194\n",
            " 2.19972433 2.36202533 2.8102886  0.33865757]\n",
            "100%|######################################| 100.0/100 [00:00<00:00, 1702.21%/s]\n",
            "[0.88611574 1.86086655 2.09817722 1.96282528 1.71117992 2.24053194\n",
            " 2.19972433 2.36202533 2.8102886  0.33865757]\n",
            "100%|######################################| 100.0/100 [00:00<00:00, 1572.03%/s]\n",
            "[0.88611574 1.86086655 2.09817722 1.96282528 1.71117992 2.24053194\n",
            " 2.19972433 2.36202533 2.8102886  0.33865757]\n",
            "100%|######################################| 100.0/100 [00:00<00:00, 1941.20%/s]\n",
            "[0.88611574 1.86086655 2.09817722 1.96282528 1.71117992 2.24053194\n",
            " 2.19972433 2.36202533 2.8102886  0.33865757]\n",
            "100%|######################################| 100.0/100 [00:00<00:00, 1754.78%/s]\n",
            "[0.88611574 1.86086655 2.09817722 1.96282528 1.71117992 2.24053194\n",
            " 2.19972433 2.36202533 2.8102886  0.33865757]\n",
            "100%|######################################| 100.0/100 [00:00<00:00, 1903.75%/s]\n",
            "[0.88611574 1.86086655 2.09817722 1.96282528 1.71117992 2.24053194\n",
            " 2.19972433 2.36202533 2.8102886  0.33865757]\n",
            "100%|######################################| 100.0/100 [00:00<00:00, 1550.31%/s]\n",
            "[0.88611574 1.86086655 2.09817722 1.96282528 1.71117992 2.24053194\n",
            " 2.19972433 2.36202533 2.8102886  0.33865757]\n",
            "100%|######################################| 100.0/100 [00:00<00:00, 1636.89%/s]\n",
            "[0.88611574 1.86086655 2.09817722 1.96282528 1.71117992 2.24053194\n",
            " 2.19972433 2.36202533 2.8102886  0.33865757]\n",
            "100%|######################################| 100.0/100 [00:00<00:00, 1561.73%/s]\n",
            "[0.88611574 1.86086655 2.09817722 1.96282528 1.71117992 2.24053194\n",
            " 2.19972433 2.36202533 2.8102886  0.33865757]\n",
            "100%|######################################| 100.0/100 [00:00<00:00, 1604.00%/s]\n",
            "[0.88611574 1.86086655 2.09817722 1.96282528 1.71117992 2.24053194\n",
            " 2.19972433 2.36202533 2.8102886  0.33865757]\n",
            "100%|######################################| 100.0/100 [00:00<00:00, 1662.25%/s]\n",
            "[0.88611574 1.86086655 2.09817722 1.96282528 1.71117992 2.24053194\n",
            " 2.19972433 2.36202533 2.8102886  0.33865757]\n",
            "100%|######################################| 100.0/100 [00:00<00:00, 1707.35%/s]\n",
            "[0.88611574 1.86086655 2.09817722 1.96282528 1.71117992 2.24053194\n",
            " 2.19972433 2.36202533 2.8102886  0.33865757]\n",
            "100%|######################################| 100.0/100 [00:00<00:00, 1758.24%/s]\n",
            "[0.88611574 1.86086655 2.09817722 1.96282528 1.71117992 2.24053194\n",
            " 2.19972433 2.36202533 2.8102886  0.33865757]\n",
            "100%|######################################| 100.0/100 [00:00<00:00, 1783.35%/s]\n",
            "[0.88611574 1.86086655 2.09817722 1.96282528 1.71117992 2.24053194\n",
            " 2.19972433 2.36202533 2.8102886  0.33865757]\n",
            "100%|######################################| 100.0/100 [00:00<00:00, 1654.86%/s]\n",
            "[0.88611574 1.86086655 2.09817722 1.96282528 1.71117992 2.24053194\n",
            " 2.19972433 2.36202533 2.8102886  0.33865757]\n",
            "100%|######################################| 100.0/100 [00:00<00:00, 1575.06%/s]\n",
            "[0.88611574 1.86086655 2.09817722 1.96282528 1.71117992 2.24053194\n",
            " 2.19972433 2.36202533 2.8102886  0.33865757]\n",
            "100%|######################################| 100.0/100 [00:00<00:00, 1676.95%/s]\n",
            "[0.88611574 1.86086655 2.09817722 1.96282528 1.71117992 2.24053194\n",
            " 2.19972433 2.36202533 2.8102886  0.33865757]\n",
            "100%|######################################| 100.0/100 [00:00<00:00, 1311.65%/s]\n",
            "[0.88611574 1.86086655 2.09817722 1.96282528 1.71117992 2.24053194\n",
            " 2.19972433 2.36202533 2.8102886  0.33865757]\n",
            "100%|######################################| 100.0/100 [00:00<00:00, 1425.78%/s]\n",
            "[0.88611574 1.86086655 2.09817722 1.96282528 1.71117992 2.24053194\n",
            " 2.19972433 2.36202533 2.8102886  0.33865757]\n",
            "100%|######################################| 100.0/100 [00:00<00:00, 3534.28%/s]\n",
            "[0.88611574 1.86086655 2.09817722 1.96282528 1.71117992 2.24053194\n",
            " 2.19972433 2.36202533 2.8102886  0.33865757]\n",
            "100%|######################################| 100.0/100 [00:00<00:00, 3713.84%/s]\n",
            "[0.88611574 1.86086655 2.09817722 1.96282528 1.71117992 2.24053194\n",
            " 2.19972433 2.36202533 2.8102886  0.33865757]\n",
            "100%|######################################| 100.0/100 [00:00<00:00, 5060.33%/s]\n",
            "[0.88611574 1.86086655 2.09817722 1.96282528 1.71117992 2.24053194\n",
            " 2.19972433 2.36202533 2.8102886  0.33865757]\n",
            "100%|######################################| 100.0/100 [00:00<00:00, 3339.36%/s]\n",
            "[0.88611574 1.86086655 2.09817722 1.96282528 1.71117992 2.24053194\n",
            " 2.19972433 2.36202533 2.8102886  0.33865757]\n",
            "100%|######################################| 100.0/100 [00:00<00:00, 4775.10%/s]\n",
            "[0.88611574 1.86086655 2.09817722 1.96282528 1.71117992 2.24053194\n",
            " 2.19972433 2.36202533 2.8102886  0.33865757]\n",
            "100%|######################################| 100.0/100 [00:00<00:00, 3167.04%/s]\n",
            "[0.88611574 1.86086655 2.09817722 1.96282528 1.71117992 2.24053194\n",
            " 2.19972433 2.36202533 2.8102886  0.33865757]\n",
            "100%|######################################| 100.0/100 [00:00<00:00, 5380.14%/s]\n",
            "[0.88611574 1.86086655 2.09817722 1.96282528 1.71117992 2.24053194\n",
            " 2.19972433 2.36202533 2.8102886  0.33865757]\n",
            "100%|######################################| 100.0/100 [00:00<00:00, 3003.14%/s]\n",
            "[0.88611574 1.86086655 2.09817722 1.96282528 1.71117992 2.24053194\n",
            " 2.19972433 2.36202533 2.8102886  0.33865757]\n",
            "100%|######################################| 100.0/100 [00:00<00:00, 5160.63%/s]\n",
            "[0.88611574 1.86086655 2.09817722 1.96282528 1.71117992 2.24053194\n",
            " 2.19972433 2.36202533 2.8102886  0.33865757]\n",
            "100%|######################################| 100.0/100 [00:00<00:00, 2739.46%/s]\n",
            "[0.88611574 1.86086655 2.09817722 1.96282528 1.71117992 2.24053194\n",
            " 2.19972433 2.36202533 2.8102886  0.33865757]\n",
            "100%|######################################| 100.0/100 [00:00<00:00, 4574.29%/s]\n",
            "[0.88611574 1.86086655 2.09817722 1.96282528 1.71117992 2.24053194\n",
            " 2.19972433 2.36202533 2.8102886  0.33865757]\n",
            "100%|######################################| 100.0/100 [00:00<00:00, 3070.01%/s]\n",
            "[0.88611574 1.86086655 2.09817722 1.96282528 1.71117992 2.24053194\n",
            " 2.19972433 2.36202533 2.8102886  0.33865757]\n",
            "100%|######################################| 100.0/100 [00:00<00:00, 3958.72%/s]\n",
            "[0.88611574 1.86086655 2.09817722 1.96282528 1.71117992 2.24053194\n",
            " 2.19972433 2.36202533 2.8102886  0.33865757]\n",
            "100%|######################################| 100.0/100 [00:00<00:00, 2809.24%/s]\n",
            "[0.88611574 1.86086655 2.09817722 1.96282528 1.71117992 2.24053194\n",
            " 2.19972433 2.36202533 2.8102886  0.33865757]\n",
            "100%|######################################| 100.0/100 [00:00<00:00, 5094.19%/s]\n",
            "[0.88611574 1.86086655 2.09817722 1.96282528 1.71117992 2.24053194\n",
            " 2.19972433 2.36202533 2.8102886  0.33865757]\n",
            "100%|######################################| 100.0/100 [00:00<00:00, 3492.14%/s]\n",
            "[0.88611574 1.86086655 2.09817722 1.96282528 1.71117992 2.24053194\n",
            " 2.19972433 2.36202533 2.8102886  0.33865757]\n",
            "100%|######################################| 100.0/100 [00:00<00:00, 5159.24%/s]\n",
            "[0.88611574 1.86086655 2.09817722 1.96282528 1.71117992 2.24053194\n",
            " 2.19972433 2.36202533 2.8102886  0.33865757]\n",
            "100%|######################################| 100.0/100 [00:00<00:00, 3925.93%/s]\n",
            "[0.88611574 1.86086655 2.09817722 1.96282528 1.71117992 2.24053194\n",
            " 2.19972433 2.36202533 2.8102886  0.33865757]\n",
            "100%|######################################| 100.0/100 [00:00<00:00, 5061.12%/s]\n",
            "[0.88611574 1.86086655 2.09817722 1.96282528 1.71117992 2.24053194\n",
            " 2.19972433 2.36202533 2.8102886  0.33865757]\n",
            "100%|######################################| 100.0/100 [00:00<00:00, 3338.40%/s]\n",
            "[0.88611574 1.86086655 2.09817722 1.96282528 1.71117992 2.24053194\n",
            " 2.19972433 2.36202533 2.8102886  0.33865757]\n",
            "100%|######################################| 100.0/100 [00:00<00:00, 4004.19%/s]\n",
            "[0.88611574 1.86086655 2.09817722 1.96282528 1.71117992 2.24053194\n",
            " 2.19972433 2.36202533 2.8102886  0.33865757]\n",
            "100%|######################################| 100.0/100 [00:00<00:00, 2881.89%/s]\n",
            "[0.88611574 1.86086655 2.09817722 1.96282528 1.71117992 2.24053194\n",
            " 2.19972433 2.36202533 2.8102886  0.33865757]\n",
            "100%|######################################| 100.0/100 [00:00<00:00, 3720.70%/s]\n",
            "[0.88611574 1.86086655 2.09817722 1.96282528 1.71117992 2.24053194\n",
            " 2.19972433 2.36202533 2.8102886  0.33865757]\n",
            "100%|######################################| 100.0/100 [00:00<00:00, 3727.87%/s]\n",
            "[0.88611574 1.86086655 2.09817722 1.96282528 1.71117992 2.24053194\n",
            " 2.19972433 2.36202533 2.8102886  0.33865757]\n",
            "100%|######################################| 100.0/100 [00:00<00:00, 4886.47%/s]\n",
            "[0.88611574 1.86086655 2.09817722 1.96282528 1.71117992 2.24053194\n",
            " 2.19972433 2.36202533 2.8102886  0.33865757]\n",
            "100%|######################################| 100.0/100 [00:00<00:00, 3803.43%/s]\n",
            "[0.88611574 1.86086655 2.09817722 1.96282528 1.71117992 2.24053194\n",
            " 2.19972433 2.36202533 2.8102886  0.33865757]\n",
            "100%|######################################| 100.0/100 [00:00<00:00, 5205.01%/s]\n",
            "[0.88611574 1.86086655 2.09817722 1.96282528 1.71117992 2.24053194\n",
            " 2.19972433 2.36202533 2.8102886  0.33865757]\n",
            "100%|######################################| 100.0/100 [00:00<00:00, 3407.76%/s]\n",
            "[0.88611574 1.86086655 2.09817722 1.96282528 1.71117992 2.24053194\n",
            " 2.19972433 2.36202533 2.8102886  0.33865757]\n",
            "100%|######################################| 100.0/100 [00:00<00:00, 3658.64%/s]\n",
            "[0.88611574 1.86086655 2.09817722 1.96282528 1.71117992 2.24053194\n",
            " 2.19972433 2.36202533 2.8102886  0.33865757]\n",
            "100%|######################################| 100.0/100 [00:00<00:00, 2926.08%/s]\n",
            "[0.88611574 1.86086655 2.09817722 1.96282528 1.71117992 2.24053194\n",
            " 2.19972433 2.36202533 2.8102886  0.33865757]\n",
            "100%|######################################| 100.0/100 [00:00<00:00, 3865.29%/s]\n",
            "[0.88611574 1.86086655 2.09817722 1.96282528 1.71117992 2.24053194\n",
            " 2.19972433 2.36202533 2.8102886  0.33865757]\n",
            "100%|######################################| 100.0/100 [00:00<00:00, 3877.48%/s]\n",
            "[0.88611574 1.86086655 2.09817722 1.96282528 1.71117992 2.24053194\n",
            " 2.19972433 2.36202533 2.8102886  0.33865757]\n",
            "100%|######################################| 100.0/100 [00:00<00:00, 4266.93%/s]\n",
            "[0.88611574 1.86086655 2.09817722 1.96282528 1.71117992 2.24053194\n",
            " 2.19972433 2.36202533 2.8102886  0.33865757]\n",
            "100%|######################################| 100.0/100 [00:00<00:00, 2945.42%/s]\n",
            "[0.88611574 1.86086655 2.09817722 1.96282528 1.71117992 2.24053194\n",
            " 2.19972433 2.36202533 2.8102886  0.33865757]\n",
            "100%|######################################| 100.0/100 [00:00<00:00, 5145.31%/s]\n",
            "[0.88611574 1.86086655 2.09817722 1.96282528 1.71117992 2.24053194\n",
            " 2.19972433 2.36202533 2.8102886  0.33865757]\n",
            "100%|######################################| 100.0/100 [00:00<00:00, 3393.56%/s]\n",
            "[0.88611574 1.86086655 2.09817722 1.96282528 1.71117992 2.24053194\n",
            " 2.19972433 2.36202533 2.8102886  0.33865757]\n",
            "100%|######################################| 100.0/100 [00:00<00:00, 4104.22%/s]\n",
            "[0.88611574 1.86086655 2.09817722 1.96282528 1.71117992 2.24053194\n",
            " 2.19972433 2.36202533 2.8102886  0.33865757]\n",
            "100%|######################################| 100.0/100 [00:00<00:00, 2757.36%/s]\n",
            "[0.88611574 1.86086655 2.09817722 1.96282528 1.71117992 2.24053194\n",
            " 2.19972433 2.36202533 2.8102886  0.33865757]\n",
            "100%|######################################| 100.0/100 [00:00<00:00, 4014.19%/s]\n",
            "[0.88611574 1.86086655 2.09817722 1.96282528 1.71117992 2.24053194\n",
            " 2.19972433 2.36202533 2.8102886  0.33865757]\n",
            "100%|######################################| 100.0/100 [00:00<00:00, 3190.07%/s]\n",
            "[0.88611574 1.86086655 2.09817722 1.96282528 1.71117992 2.24053194\n",
            " 2.19972433 2.36202533 2.8102886  0.33865757]\n",
            "100%|######################################| 100.0/100 [00:00<00:00, 4056.74%/s]\n",
            "[0.88611574 1.86086655 2.09817722 1.96282528 1.71117992 2.24053194\n",
            " 2.19972433 2.36202533 2.8102886  0.33865757]\n",
            "100%|######################################| 100.0/100 [00:00<00:00, 1636.95%/s]\n",
            "[0.88611574 1.86086655 2.09817722 1.96282528 1.71117992 2.24053194\n",
            " 2.19972433 2.36202533 2.8102886  0.33865757]\n",
            "100%|######################################| 100.0/100 [00:00<00:00, 2212.80%/s]\n",
            "[0.88611574 1.86086655 2.09817722 1.96282528 1.71117992 2.24053194\n",
            " 2.19972433 2.36202533 2.8102886  0.33865757]\n",
            "100%|######################################| 100.0/100 [00:00<00:00, 2285.34%/s]\n",
            "[0.88611574 1.86086655 2.09817722 1.96282528 1.71117992 2.24053194\n",
            " 2.19972433 2.36202533 2.8102886  0.33865757]\n",
            "100%|######################################| 100.0/100 [00:00<00:00, 2893.54%/s]\n",
            "[0.88611574 1.86086655 2.09817722 1.96282528 1.71117992 2.24053194\n",
            " 2.19972433 2.36202533 2.8102886  0.33865757]\n",
            "100%|######################################| 100.0/100 [00:00<00:00, 3198.10%/s]\n",
            "[0.88611574 1.86086655 2.09817722 1.96282528 1.71117992 2.24053194\n",
            " 2.19972433 2.36202533 2.8102886  0.33865757]\n",
            "100%|######################################| 100.0/100 [00:00<00:00, 1930.15%/s]\n",
            "[0.88611574 1.86086655 2.09817722 1.96282528 1.71117992 2.24053194\n",
            " 2.19972433 2.36202533 2.8102886  0.33865757]\n",
            "100%|######################################| 100.0/100 [00:00<00:00, 3025.87%/s]\n",
            "[0.88611574 1.86086655 2.09817722 1.96282528 1.71117992 2.24053194\n",
            " 2.19972433 2.36202533 2.8102886  0.33865757]\n",
            "100%|######################################| 100.0/100 [00:00<00:00, 1715.55%/s]\n",
            "[0.88611574 1.86086655 2.09817722 1.96282528 1.71117992 2.24053194\n",
            " 2.19972433 2.36202533 2.8102886  0.33865757]\n",
            "100%|######################################| 100.0/100 [00:00<00:00, 1416.20%/s]\n",
            "[0.88611574 1.86086655 2.09817722 1.96282528 1.71117992 2.24053194\n",
            " 2.19972433 2.36202533 2.8102886  0.33865757]\n",
            "100%|######################################| 100.0/100 [00:00<00:00, 1575.69%/s]\n",
            "[0.88611574 1.86086655 2.09817722 1.96282528 1.71117992 2.24053194\n",
            " 2.19972433 2.36202533 2.8102886  0.33865757]\n",
            "100%|######################################| 100.0/100 [00:00<00:00, 1617.02%/s]\n",
            "[0.88611574 1.86086655 2.09817722 1.96282528 1.71117992 2.24053194\n",
            " 2.19972433 2.36202533 2.8102886  0.33865757]\n",
            "100%|######################################| 100.0/100 [00:00<00:00, 1575.92%/s]\n",
            "[0.88611574 1.86086655 2.09817722 1.96282528 1.71117992 2.24053194\n",
            " 2.19972433 2.36202533 2.8102886  0.33865757]\n",
            "100%|######################################| 100.0/100 [00:00<00:00, 1377.85%/s]\n",
            "[0.88611574 1.86086655 2.09817722 1.96282528 1.71117992 2.24053194\n",
            " 2.19972433 2.36202533 2.8102886  0.33865757]\n",
            "100%|######################################| 100.0/100 [00:00<00:00, 1681.57%/s]\n",
            "[0.88611574 1.86086655 2.09817722 1.96282528 1.71117992 2.24053194\n",
            " 2.19972433 2.36202533 2.8102886  0.33865757]\n",
            "100%|######################################| 100.0/100 [00:00<00:00, 1355.14%/s]\n",
            "[0.88611574 1.86086655 2.09817722 1.96282528 1.71117992 2.24053194\n",
            " 2.19972433 2.36202533 2.8102886  0.33865757]\n",
            "100%|######################################| 100.0/100 [00:00<00:00, 1235.32%/s]\n",
            "[0.88611574 1.86086655 2.09817722 1.96282528 1.71117992 2.24053194\n",
            " 2.19972433 2.36202533 2.8102886  0.33865757]\n",
            "100%|######################################| 100.0/100 [00:00<00:00, 1604.37%/s]\n",
            "[0.88611574 1.86086655 2.09817722 1.96282528 1.71117992 2.24053194\n",
            " 2.19972433 2.36202533 2.8102886  0.33865757]\n",
            "100%|######################################| 100.0/100 [00:00<00:00, 1491.65%/s]\n",
            "[0.88611574 1.86086655 2.09817722 1.96282528 1.71117992 2.24053194\n",
            " 2.19972433 2.36202533 2.8102886  0.33865757]\n",
            "100%|######################################| 100.0/100 [00:00<00:00, 1443.17%/s]\n",
            "[0.88611574 1.86086655 2.09817722 1.96282528 1.71117992 2.24053194\n",
            " 2.19972433 2.36202533 2.8102886  0.33865757]\n",
            "100%|######################################| 100.0/100 [00:00<00:00, 1738.19%/s]\n",
            "[0.88611574 1.86086655 2.09817722 1.96282528 1.71117992 2.24053194\n",
            " 2.19972433 2.36202533 2.8102886  0.33865757]\n",
            "100%|######################################| 100.0/100 [00:00<00:00, 1529.86%/s]\n",
            "[0.88611574 1.86086655 2.09817722 1.96282528 1.71117992 2.24053194\n",
            " 2.19972433 2.36202533 2.8102886  0.33865757]\n",
            "100%|######################################| 100.0/100 [00:00<00:00, 1571.69%/s]\n",
            "[0.88611574 1.86086655 2.09817722 1.96282528 1.71117992 2.24053194\n",
            " 2.19972433 2.36202533 2.8102886  0.33865757]\n",
            "100%|######################################| 100.0/100 [00:00<00:00, 1563.52%/s]\n",
            "[0.88611574 1.86086655 2.09817722 1.96282528 1.71117992 2.24053194\n",
            " 2.19972433 2.36202533 2.8102886  0.33865757]\n",
            "100%|######################################| 100.0/100 [00:00<00:00, 1781.69%/s]\n",
            "[0.88611574 1.86086655 2.09817722 1.96282528 1.71117992 2.24053194\n",
            " 2.19972433 2.36202533 2.8102886  0.33865757]\n",
            "100%|######################################| 100.0/100 [00:00<00:00, 1851.23%/s]\n",
            "[0.88611574 1.86086655 2.09817722 1.96282528 1.71117992 2.24053194\n",
            " 2.19972433 2.36202533 2.8102886  0.33865757]\n",
            "100%|######################################| 100.0/100 [00:00<00:00, 1487.34%/s]\n",
            "[0.88611574 1.86086655 2.09817722 1.96282528 1.71117992 2.24053194\n",
            " 2.19972433 2.36202533 2.8102886  0.33865757]\n",
            "100%|######################################| 100.0/100 [00:00<00:00, 1485.55%/s]\n",
            "[0.88611574 1.86086655 2.09817722 1.96282528 1.71117992 2.24053194\n",
            " 2.19972433 2.36202533 2.8102886  0.33865757]\n",
            "100%|######################################| 100.0/100 [00:00<00:00, 1403.10%/s]\n",
            "[0.88611574 1.86086655 2.09817722 1.96282528 1.71117992 2.24053194\n",
            " 2.19972433 2.36202533 2.8102886  0.33865757]\n",
            "100%|######################################| 100.0/100 [00:00<00:00, 1526.72%/s]\n",
            "[0.88611574 1.86086655 2.09817722 1.96282528 1.71117992 2.24053194\n",
            " 2.19972433 2.36202533 2.8102886  0.33865757]\n",
            "100%|######################################| 100.0/100 [00:00<00:00, 1646.91%/s]\n",
            "[0.88611574 1.86086655 2.09817722 1.96282528 1.71117992 2.24053194\n",
            " 2.19972433 2.36202533 2.8102886  0.33865757]\n",
            "100%|######################################| 100.0/100 [00:00<00:00, 1262.58%/s]\n",
            "[0.88611574 1.86086655 2.09817722 1.96282528 1.71117992 2.24053194\n",
            " 2.19972433 2.36202533 2.8102886  0.33865757]\n",
            "100%|######################################| 100.0/100 [00:00<00:00, 1980.83%/s]\n",
            "[0.88611574 1.86086655 2.09817722 1.96282528 1.71117992 2.24053194\n",
            " 2.19972433 2.36202533 2.8102886  0.33865757]\n",
            "100%|######################################| 100.0/100 [00:00<00:00, 1840.21%/s]\n",
            "[0.88611574 1.86086655 2.09817722 1.96282528 1.71117992 2.24053194\n",
            " 2.19972433 2.36202533 2.8102886  0.33865757]\n",
            "100%|######################################| 100.0/100 [00:00<00:00, 2009.33%/s]\n",
            "[0.88611574 1.86086655 2.09817722 1.96282528 1.71117992 2.24053194\n",
            " 2.19972433 2.36202533 2.8102886  0.33865757]\n",
            "100%|######################################| 100.0/100 [00:00<00:00, 1895.97%/s]\n",
            "[0.88611574 1.86086655 2.09817722 1.96282528 1.71117992 2.24053194\n",
            " 2.19972433 2.36202533 2.8102886  0.33865757]\n",
            "100%|######################################| 100.0/100 [00:00<00:00, 1789.90%/s]\n",
            "[0.88611574 1.86086655 2.09817722 1.96282528 1.71117992 2.24053194\n",
            " 2.19972433 2.36202533 2.8102886  0.33865757]\n",
            "100%|######################################| 100.0/100 [00:00<00:00, 1897.03%/s]\n",
            "[0.88611574 1.86086655 2.09817722 1.96282528 1.71117992 2.24053194\n",
            " 2.19972433 2.36202533 2.8102886  0.33865757]\n",
            "100%|######################################| 100.0/100 [00:00<00:00, 1657.24%/s]\n",
            "[0.88611574 1.86086655 2.09817722 1.96282528 1.71117992 2.24053194\n",
            " 2.19972433 2.36202533 2.8102886  0.33865757]\n",
            "100%|######################################| 100.0/100 [00:00<00:00, 1604.45%/s]\n",
            "[0.88611574 1.86086655 2.09817722 1.96282528 1.71117992 2.24053194\n",
            " 2.19972433 2.36202533 2.8102886  0.33865757]\n",
            "100%|######################################| 100.0/100 [00:00<00:00, 1545.89%/s]\n",
            "[0.88611574 1.86086655 2.09817722 1.96282528 1.71117992 2.24053194\n",
            " 2.19972433 2.36202533 2.8102886  0.33865757]\n",
            "100%|######################################| 100.0/100 [00:00<00:00, 1796.36%/s]\n",
            "[0.88611574 1.86086655 2.09817722 1.96282528 1.71117992 2.24053194\n",
            " 2.19972433 2.36202533 2.8102886  0.33865757]\n",
            "100%|######################################| 100.0/100 [00:00<00:00, 1522.42%/s]\n",
            "[0.88611574 1.86086655 2.09817722 1.96282528 1.71117992 2.24053194\n",
            " 2.19972433 2.36202533 2.8102886  0.33865757]\n",
            "100%|######################################| 100.0/100 [00:00<00:00, 1692.88%/s]\n",
            "[0.88611574 1.86086655 2.09817722 1.96282528 1.71117992 2.24053194\n",
            " 2.19972433 2.36202533 2.8102886  0.33865757]\n",
            "100%|######################################| 100.0/100 [00:00<00:00, 1427.29%/s]\n",
            "[0.88611574 1.86086655 2.09817722 1.96282528 1.71117992 2.24053194\n",
            " 2.19972433 2.36202533 2.8102886  0.33865757]\n",
            "100%|######################################| 100.0/100 [00:00<00:00, 1657.91%/s]\n",
            "[0.88611574 1.86086655 2.09817722 1.96282528 1.71117992 2.24053194\n",
            " 2.19972433 2.36202533 2.8102886  0.33865757]\n",
            "100%|######################################| 100.0/100 [00:00<00:00, 1686.49%/s]\n",
            "[0.88611574 1.86086655 2.09817722 1.96282528 1.71117992 2.24053194\n",
            " 2.19972433 2.36202533 2.8102886  0.33865757]\n",
            "100%|######################################| 100.0/100 [00:00<00:00, 1360.04%/s]\n",
            "[0.88611574 1.86086655 2.09817722 1.96282528 1.71117992 2.24053194\n",
            " 2.19972433 2.36202533 2.8102886  0.33865757]\n",
            "100%|######################################| 100.0/100 [00:00<00:00, 1527.89%/s]\n",
            "[0.88611574 1.86086655 2.09817722 1.96282528 1.71117992 2.24053194\n",
            " 2.19972433 2.36202533 2.8102886  0.33865757]\n",
            "100%|######################################| 100.0/100 [00:00<00:00, 1586.15%/s]\n",
            "[0.88611574 1.86086655 2.09817722 1.96282528 1.71117992 2.24053194\n",
            " 2.19972433 2.36202533 2.8102886  0.33865757]\n",
            "100%|######################################| 100.0/100 [00:00<00:00, 1523.68%/s]\n"
          ]
        }
      ]
    },
    {
      "cell_type": "code",
      "source": [
        "if RecoverFlag:\n",
        "    tstart =fault_time+10\n",
        "    TimeLength = tstart+10\n",
        "    ss.PQ.Ppf.v[PQStepIdx] = PQInit\n",
        "\n",
        "    for t in np.arange(tstart, TimeLength, step_t):\n",
        "        ss.PVD1.pref0.v[idexs] = Action_linear(pref0_init, linear_coff, idexs, max_action)\n",
        "        ss.TDS.config.tf = t\n",
        "        ss.TDS.run()"
      ],
      "metadata": {
        "id": "oBVxztBsTROt"
      },
      "execution_count": null,
      "outputs": []
    },
    {
      "cell_type": "code",
      "source": [
        "ListTime = ss.dae.ts.t\n",
        "ListFreq = ss.dae.ts.y[:,ss.BusFreq.f.a]*60 #Hz\n",
        "ListOmega= ss.dae.ts.x[:,ss.GENROU.omega.a]*60 #Hz\n",
        "plt_idx = np.arange(0,10)\n",
        "TimeStep_start = 15\n",
        "TimeStep = np.size(ListTime)-200\n",
        "fig = plt.figure(figsize=(9, 3), dpi=100)\n",
        "\n",
        "plt.subplot(1,2,1)\n",
        "\n",
        "plt.plot(ListTime[TimeStep_start:TimeStep]-ListTime[TimeStep_start ], ListOmega[TimeStep_start:TimeStep, plt_idx], label='RotorFreq')\n",
        "plt.xlabel('t(s)')\n",
        "plt.ylabel('P(p.u.)')\n",
        "plt.title('omega')\n",
        "# plt.legend()\n",
        "\n",
        "plt.subplot(1,2,2)\n",
        "# TimeStep_start = 560\n",
        "# TimeStep = 800\n",
        "plt.plot(ListTime[TimeStep_start:TimeStep]-ListTime[TimeStep_start ], ListFreq[TimeStep_start:TimeStep, plt_idx], label='BusFreq')\n",
        "plt.xlabel('t(s)')\n",
        "plt.ylabel('P(p.u.)')\n",
        "plt.title('freq')\n",
        "\n",
        "# plt.legend()\n",
        "fig.tight_layout()"
      ],
      "metadata": {
        "colab": {
          "base_uri": "https://localhost:8080/"
        },
        "id": "6wUdyuuLD6sX",
        "outputId": "13718be3-8f91-4f65-99da-0b3feff46e09"
      },
      "execution_count": null,
      "outputs": [
        {
          "output_type": "display_data",
          "data": {
            "text/plain": [
              "<Figure size 900x300 with 2 Axes>"
            ],
            "image/png": "[encoded data removed]"
          },
          "metadata": {
            "needs_background": "light"
          }
        }
      ]
    },
    {
      "cell_type": "markdown",
      "source": [
        "## compare power command and output power"
      ],
      "metadata": {
        "id": "Z9n6PzQSBjjm"
      }
    },
    {
      "cell_type": "code",
      "source": [
        "ListTime = ss.dae.ts.t\n",
        "ListPVDV = ss.dae.ts.y[:,ss.PVD1.v.a]\n",
        "ListPVDI = ss.dae.ts.x[:,ss.PVD1.Ipout_y.a]\n",
        "ListPVDPower = ListPVDV*ListPVDI\n",
        "ListPVDPowerCMD = ss.dae.ts.y[:,ss.PVD1.Psum.a]"
      ],
      "metadata": {
        "id": "mQTiKTrUFxW0"
      },
      "execution_count": null,
      "outputs": []
    },
    {
      "cell_type": "code",
      "source": [
        "np.size(ListTime )"
      ],
      "metadata": {
        "colab": {
          "base_uri": "https://localhost:8080/"
        },
        "id": "Hw65dzEaDD_i",
        "outputId": "7163cc5f-eaa1-4af1-a10a-551b74219ebb"
      },
      "execution_count": null,
      "outputs": [
        {
          "output_type": "execute_result",
          "data": {
            "text/plain": [
              "535"
            ]
          },
          "metadata": {},
          "execution_count": 522
        }
      ]
    },
    {
      "cell_type": "code",
      "source": [
        "plt_idx = [0]\n",
        "TimeStep_start = 0\n",
        "TimeStep = np.size(ListTime)\n",
        "fig = plt.figure(figsize=(9, 3), dpi=100)\n",
        "\n",
        "plt.subplot(1,2,1)\n",
        "\n",
        "plt.plot(ListTime[TimeStep_start:TimeStep]-ListTime[TimeStep_start ], ListPVDPower[TimeStep_start:TimeStep, plt_idx], label='ouput')\n",
        "plt.plot(ListTime[TimeStep_start:TimeStep]-ListTime[TimeStep_start ], ListPVDPowerCMD[TimeStep_start:TimeStep, plt_idx], label='command')\n",
        "plt.xlabel('t(s)')\n",
        "plt.ylabel('P(p.u.)')\n",
        "plt.legend()\n",
        "\n",
        "plt.subplot(1,2,2)\n",
        "# TimeStep_start = 560\n",
        "TimeStep = 800\n",
        "plt.plot(ListTime[TimeStep_start:TimeStep]-ListTime[TimeStep_start ], ListPVDPower[TimeStep_start:TimeStep, plt_idx], label='ouput')\n",
        "plt.plot(ListTime[TimeStep_start:TimeStep]-ListTime[TimeStep_start ], ListPVDPowerCMD[TimeStep_start:TimeStep, plt_idx], label='command')\n",
        "plt.xlabel('t(s)')\n",
        "plt.ylabel('P(p.u.)')\n",
        "plt.legend()\n",
        "fig.tight_layout()"
      ],
      "metadata": {
        "colab": {
          "base_uri": "https://localhost:8080/"
        },
        "id": "IkSAJMl0D2vP",
        "outputId": "04cb7bca-55db-4c8c-eee2-ee30195306c1"
      },
      "execution_count": null,
      "outputs": [
        {
          "output_type": "display_data",
          "data": {
            "text/plain": [
              "<Figure size 900x300 with 2 Axes>"
            ],
            "image/png": "[encoded data removed]"
          },
          "metadata": {
            "needs_background": "light"
          }
        }
      ]
    },
    {
      "cell_type": "code",
      "source": [
        "plt_idx = np.arange(0, 10)\n",
        "TimeStep_start = 0\n",
        "TimeStep = np.size(ListTime)-300\n",
        "fig = plt.figure(figsize=(9, 3), dpi=100)\n",
        "\n",
        "plt.subplot(1,2,1)\n",
        "\n",
        "plt.plot(ListTime[TimeStep_start:TimeStep]-ListTime[TimeStep_start ], \\\n",
        "         ListPVDPower[TimeStep_start:TimeStep, plt_idx]-ListPVDPower[0, plt_idx], label='ouput')\n",
        "plt.xlabel('t(s)')\n",
        "plt.ylabel('P(p.u.)')\n",
        "# plt.legend()\n",
        "\n",
        "plt.subplot(1,2,2)\n",
        "plt.plot(ListTime[TimeStep_start:TimeStep]-ListTime[TimeStep_start ], \\\n",
        "         ListPVDPowerCMD[TimeStep_start:TimeStep, plt_idx]-ListPVDPower[0, plt_idx], label='command')\n",
        "plt.xlabel('t(s)')\n",
        "plt.ylabel('P(p.u.)')\n",
        "# plt.legend()\n",
        "fig.tight_layout()"
      ],
      "metadata": {
        "colab": {
          "base_uri": "https://localhost:8080/"
        },
        "id": "5ejjLIieVl05",
        "outputId": "a2581d96-c7b7-45f2-83f5-f1fc2c573a2e"
      },
      "execution_count": null,
      "outputs": [
        {
          "output_type": "display_data",
          "data": {
            "text/plain": [
              "<Figure size 900x300 with 2 Axes>"
            ],
            "image/png": "[encoded data removed]"
          },
          "metadata": {
            "needs_background": "light"
          }
        }
      ]
    },
    {
      "cell_type": "markdown",
      "source": [
        "## Compare omega"
      ],
      "metadata": {
        "id": "9quluHbnKd-D"
      }
    },
    {
      "cell_type": "code",
      "source": [
        "ss.BusFreq.f"
      ],
      "metadata": {
        "colab": {
          "base_uri": "https://localhost:8080/"
        },
        "id": "ZbGbhSg1LCbs",
        "outputId": "cd2c9bf7-76db-4b77-88d0-b4d26fd2379a"
      },
      "execution_count": null,
      "outputs": [
        {
          "output_type": "execute_result",
          "data": {
            "text/plain": [
              "Algeb: BusFreq.f, a=[481 482 483 484 485 486 487 488 489 490 491], v=[0.99824888 0.99824886 0.99824888 0.99824903 0.99824899 0.99824916\n",
              " 0.99824926 0.99824893 0.99824908 0.99824886 0.99824881], e=[0.00000000e+00 0.00000000e+00 0.00000000e+00 0.00000000e+00\n",
              " 0.00000000e+00 1.11022302e-16 0.00000000e+00 0.00000000e+00\n",
              " 0.00000000e+00 0.00000000e+00 0.00000000e+00]"
            ]
          },
          "metadata": {},
          "execution_count": 525
        }
      ]
    },
    {
      "cell_type": "code",
      "source": [
        "ListTime = ss.dae.ts.t\n",
        "ListFreq = ss.dae.ts.y[:,ss.BusFreq.f.a]*60 #Hz\n",
        "ListOmega= ss.dae.ts.x[:,ss.GENROU.omega.a]*60 #Hz\n"
      ],
      "metadata": {
        "id": "pdrKwctvKg-1"
      },
      "execution_count": null,
      "outputs": []
    },
    {
      "cell_type": "code",
      "source": [
        "plt_idx = [0]\n",
        "TimeStep_start = 0\n",
        "TimeStep = np.size(ListTime)\n",
        "fig = plt.figure(figsize=(9, 3), dpi=100)\n",
        "\n",
        "plt.subplot(1,2,1)\n",
        "\n",
        "plt.plot(ListTime[TimeStep_start:TimeStep]-ListTime[TimeStep_start ], ListFreq[TimeStep_start:TimeStep, plt_idx], label='BusFreq')\n",
        "plt.plot(ListTime[TimeStep_start:TimeStep]-ListTime[TimeStep_start ], ListOmega[TimeStep_start:TimeStep, plt_idx], label='RotorFreq')\n",
        "plt.xlabel('t(s)')\n",
        "plt.ylabel('P(p.u.)')\n",
        "plt.legend()\n",
        "\n",
        "plt.subplot(1,2,2)\n",
        "TimeStep_start = 0\n",
        "TimeStep = np.size(ListTime)\n",
        "plt.plot(ListTime[TimeStep_start:TimeStep]-ListTime[TimeStep_start ], ListFreq[TimeStep_start:TimeStep, plt_idx], label='BusFreq')\n",
        "plt.plot(ListTime[TimeStep_start:TimeStep]-ListTime[TimeStep_start ], ListOmega[TimeStep_start:TimeStep, plt_idx], label='RotorFreq')\n",
        "plt.xlabel('t(s)')\n",
        "plt.ylabel('P(p.u.)')\n",
        "plt.legend()\n",
        "fig.tight_layout()"
      ],
      "metadata": {
        "colab": {
          "base_uri": "https://localhost:8080/"
        },
        "id": "WZPnWrH8K982",
        "outputId": "c2956428-e695-4682-8fc8-b450e38eda0c"
      },
      "execution_count": null,
      "outputs": [
        {
          "output_type": "display_data",
          "data": {
            "text/plain": [
              "<Figure size 900x300 with 2 Axes>"
            ],
            "image/png": "[encoded data removed]"
          },
          "metadata": {
            "needs_background": "light"
          }
        }
      ]
    },
    {
      "cell_type": "code",
      "source": [],
      "metadata": {
        "id": "gUvu3_WehAN9"
      },
      "execution_count": null,
      "outputs": []
    },
    {
      "cell_type": "markdown",
      "source": [
        "# With NN"
      ],
      "metadata": {
        "id": "xfd4zu44hAfk"
      }
    },
    {
      "cell_type": "code",
      "source": [],
      "metadata": {
        "id": "OmBJ-pp-iHj_"
      },
      "execution_count": null,
      "outputs": []
    },
    {
      "cell_type": "code",
      "source": [
        "import pickle\n",
        "\n",
        "# load the data\n",
        "f = open('Weights_RNN.pckl', 'rb')\n",
        "\n",
        "[w_plus_RNN, b_plus_RNN, w_minus_RNN, b_minus_RNN]= pickle.load(f)\n",
        "f.close()"
      ],
      "metadata": {
        "id": "kfyDQlDKhH3B"
      },
      "execution_count": null,
      "outputs": []
    },
    {
      "cell_type": "code",
      "source": [
        "ones_frequency=tf.ones((10,20),dtype=tf.float32)\n",
        "\n",
        "def Action_RNN(w_plus_RNN, b_plus_RNN, w_minus_RNN, b_minus_RNN, pref0_init, idexs, max_action):\n",
        "    state =   tf.reshape(tf.constant((ss.PVD1.fHz.v-60),dtype=tf.float32), (1,-1))\n",
        "    nonlinear_plus=K.sum(K.relu(K.dot(tf.linalg.diag(state),ones_frequency)+b_plus_RNN)\\\n",
        "                    *w_plus_RNN,axis=2)\n",
        "    nonlinear_minus=K.sum(K.relu(-K.dot(tf.linalg.diag(state),ones_frequency)+b_minus_RNN)\\\n",
        "                    *w_minus_RNN,axis=2)\n",
        "    action_nonconstrain=tf.reshape( nonlinear_plus+nonlinear_minus, -1).numpy()\n",
        "    action = max_action[idexs]-tf.nn.relu(max_action[idexs]-action_nonconstrain[idexs])+tf.nn.relu(-max_action[idexs]-action_nonconstrain[idexs])\n",
        "    return action"
      ],
      "metadata": {
        "id": "IRIlk02I7fcM"
      },
      "execution_count": null,
      "outputs": []
    },
    {
      "cell_type": "code",
      "source": [],
      "metadata": {
        "id": "RMvfIMRaXExR"
      },
      "execution_count": null,
      "outputs": []
    },
    {
      "cell_type": "markdown",
      "source": [
        "## init"
      ],
      "metadata": {
        "id": "u10_KN5NzS3h"
      }
    },
    {
      "cell_type": "code",
      "source": [
        "!andes misc -C"
      ],
      "metadata": {
        "colab": {
          "base_uri": "https://localhost:8080/"
        },
        "outputId": "1fbf2afe-33b4-4127-8676-54943f853fdd",
        "id": "3-DJaPLyzS3h"
      },
      "execution_count": null,
      "outputs": [
        {
          "output_type": "stream",
          "name": "stdout",
          "text": [
            "\"/content/ieee39_wenqiv2_out.txt\" removed.\n",
            "\"/content/ieee39_wenqiv2_out.lst\" removed.\n",
            "\"/content/ieee39_wenqiv2_out.npz\" removed.\n"
          ]
        }
      ]
    },
    {
      "cell_type": "code",
      "execution_count": null,
      "metadata": {
        "execution": {
          "iopub.execute_input": "2021-09-26T22:41:51.752282Z",
          "iopub.status.busy": "2021-09-26T22:41:51.752044Z",
          "iopub.status.idle": "2021-09-26T22:41:52.430456Z",
          "shell.execute_reply": "2021-09-26T22:41:52.430863Z"
        },
        "id": "XrNQlwVRzS3h"
      },
      "outputs": [],
      "source": [
        "ss = andes.load(get_case('ieee39_test.xlsx'),\n",
        "                setup=False,\n",
        "                no_output=False)"
      ]
    },
    {
      "cell_type": "code",
      "source": [
        "Pm=np.array([ -0.19983394, -0.25653884, -0.25191885, -0.10242008, -0.34510365,\\\n",
        "         0.23206371,  0.4404325 ,  0.5896664 ,  0.26257738, -0.36892462])\n",
        "dim_PQ = 19\n",
        "dim_PV = 13\n",
        "dim_bus = 39\n",
        "adjust_ratio = 1\n",
        "ss.PV.p0.v[0:9] = np.array(ss.PV.p0.v[0:9])*adjust_ratio + Pm[0:9]\n",
        "ss.Slack.p0.v[0] = np.array(ss.Slack.p0.v[0])*adjust_ratio + Pm[-1]\n",
        "\n"
      ],
      "metadata": {
        "id": "1rlN8WcLzS3i"
      },
      "execution_count": null,
      "outputs": []
    },
    {
      "cell_type": "code",
      "source": [
        "ss.BusFreq.Tf.v[0:10] = 0.05*np.ones(10)\n",
        "ss.BusFreq.Tw.v[0:10] = 0.03*np.ones(10)\n"
      ],
      "metadata": {
        "id": "XvfmmJgGYPQ9"
      },
      "execution_count": null,
      "outputs": []
    },
    {
      "cell_type": "code",
      "source": [
        "fault_time = 1\n",
        "\n",
        "ss.setup()"
      ],
      "metadata": {
        "colab": {
          "base_uri": "https://localhost:8080/"
        },
        "outputId": "331050b8-d178-46cd-cd1e-af2caebb9f33",
        "id": "X2FH3FuxzS3i"
      },
      "execution_count": null,
      "outputs": [
        {
          "output_type": "execute_result",
          "data": {
            "text/plain": [
              "True"
            ]
          },
          "metadata": {},
          "execution_count": 465
        }
      ]
    },
    {
      "cell_type": "code",
      "execution_count": null,
      "metadata": {
        "execution": {
          "iopub.execute_input": "2021-09-26T22:41:52.487817Z",
          "iopub.status.busy": "2021-09-26T22:41:52.487337Z",
          "iopub.status.idle": "2021-09-26T22:41:52.500963Z",
          "shell.execute_reply": "2021-09-26T22:41:52.500615Z"
        },
        "scrolled": true,
        "colab": {
          "base_uri": "https://localhost:8080/"
        },
        "outputId": "8c5ba587-ddd2-4b7e-a272-57ea582b91c9",
        "id": "KEZjNHwCzS3i"
      },
      "outputs": [
        {
          "output_type": "execute_result",
          "data": {
            "text/plain": [
              "True"
            ]
          },
          "metadata": {},
          "execution_count": 466
        }
      ],
      "source": [
        "# use constant power model for PQ\n",
        "ss.PQ.config.p2p = 1\n",
        "ss.PQ.config.q2q = 1\n",
        "ss.PQ.config.p2z = 0\n",
        "ss.PQ.config.q2z = 0\n",
        "\n",
        "# turn off under-voltage PQ-to-Z conversion\n",
        "ss.PQ.pq2z = 0\n",
        "\n",
        "ss.PFlow.run()"
      ]
    },
    {
      "cell_type": "code",
      "source": [
        "ratiogen =0.7\n",
        "num_PVD = 10\n",
        "ss.PVD1.gammap.v[0:num_PVD] = np.ones(num_PVD )*(1-ratiogen)\n",
        "ss.PVD1.gammaq.v[0:num_PVD] = np.ones(num_PVD )*(1-ratiogen)\n",
        "ss.GENROU.gammap.v[0:num_PVD] = np.ones(num_PVD )*ratiogen\n",
        "ss.GENROU.gammaq.v[0:num_PVD] = np.ones(num_PVD )*ratiogen"
      ],
      "metadata": {
        "id": "bG_Aaa0bzS3i"
      },
      "execution_count": null,
      "outputs": []
    },
    {
      "cell_type": "code",
      "source": [
        "ss.PVD1.Ipcmd.lim.allow_adjust = True\n",
        "ss.PVD1.Iqcmd.lim.allow_adjust = True\n",
        "ss.PVD1.ialim.v[0:10] = ss.PVD1.ialim.v[0:10]*300\n"
      ],
      "metadata": {
        "id": "WlqmZEb3zS3j"
      },
      "execution_count": null,
      "outputs": []
    },
    {
      "cell_type": "code",
      "execution_count": null,
      "metadata": {
        "execution": {
          "iopub.execute_input": "2021-09-26T22:41:52.504016Z",
          "iopub.status.busy": "2021-09-26T22:41:52.503717Z",
          "iopub.status.idle": "2021-09-26T22:41:53.062182Z",
          "shell.execute_reply": "2021-09-26T22:41:53.062663Z"
        },
        "colab": {
          "base_uri": "https://localhost:8080/"
        },
        "outputId": "3783223f-e500-4e8f-f73c-745bdb6d790a",
        "id": "SMRV-e9yzS3j"
      },
      "outputs": [
        {
          "output_type": "stream",
          "name": "stderr",
          "text": [
            "GENROU (xl <= xd2) out of typical upper limit.\n",
            "\n",
            "   idx    | values | limit\n",
            "----------+--------+------\n",
            " GENROU_5 | 0.054  | 0.039\n",
            " GENROU_9 | 0.030  | 0.021\n",
            "\n",
            "\n",
            "Suspect initialization issue! Simulation may crash!\n",
            "\n",
            "   Name     | Var. Value | Eqn. Mismatch\n",
            "------------+------------+--------------\n",
            " v Bus 30.0 | 1.048      | -0.003       \n",
            " v Bus 31.0 | 1.040      | -0.003       \n",
            " v Bus 32.0 | 0.983      | -0.003       \n",
            " v Bus 33.0 | 0.997      | -0.003       \n",
            " v Bus 34.0 | 1.012      | -0.003       \n",
            " v Bus 35.0 | 1.049      | -0.003       \n",
            " v Bus 36.0 | 1.063      | -0.003       \n",
            " v Bus 37.0 | 1.028      | -0.003       \n",
            " v Bus 38.0 | 1.026      | -0.003       \n",
            " v Bus 39.0 | 1.030      | -0.003       \n",
            "\n",
            "\n",
            "Initialization failed!!\n",
            "If you are developing a new model, check the initialization with\n",
            "   andes -v 10 run -r tds --init /content/drive/MyDrive/Colab Notebooks/andes/examples0313/cases0313/ieee39_wenqiv2.xlsx\n",
            "Otherwise, check the variables that are initialized out of limits.\n"
          ]
        },
        {
          "output_type": "stream",
          "name": "stdout",
          "text": [
            " 32%|#############7                             | 32/100 [00:00<00:00, 95.29%/s]\n"
          ]
        },
        {
          "output_type": "execute_result",
          "data": {
            "text/plain": [
              "True"
            ]
          },
          "metadata": {},
          "execution_count": 472
        }
      ],
      "source": [
        "ss.TDS.config.tf = fault_time\n",
        "ss.TDS.run()"
      ]
    },
    {
      "cell_type": "code",
      "source": [
        "ss.TDS.plt.plot(ss.GENROU.omega,\n",
        "                ycalc=lambda x:60*x,\n",
        "                title='Generator Speed $\\omega$')"
      ],
      "metadata": {
        "colab": {
          "base_uri": "https://localhost:8080/",
          "height": 449
        },
        "outputId": "7ba4e21f-1696-4003-ea9f-9e3189b7879f",
        "id": "zbig2DozzS3j"
      },
      "execution_count": null,
      "outputs": [
        {
          "output_type": "display_data",
          "data": {
            "text/plain": [
              "<Figure size 600x400 with 1 Axes>"
            ],
            "image/png": "[encoded data removed]"
          },
          "metadata": {
            "needs_background": "light"
          }
        },
        {
          "output_type": "execute_result",
          "data": {
            "text/plain": [
              "(<Figure size 600x400 with 1 Axes>,\n",
              " <matplotlib.axes._subplots.AxesSubplot at 0x7feab4913e90>)"
            ]
          },
          "metadata": {},
          "execution_count": 473
        }
      ]
    },
    {
      "cell_type": "code",
      "source": [
        "ss.PVD1.pref0.v"
      ],
      "metadata": {
        "colab": {
          "base_uri": "https://localhost:8080/"
        },
        "outputId": "7dccceb7-e6c1-40ab-c9d1-14350fe70929",
        "id": "1bR3t-FqzS3j"
      },
      "execution_count": null,
      "outputs": [
        {
          "output_type": "execute_result",
          "data": {
            "text/plain": [
              "array([0.69004982, 1.64182835, 1.87442435, 1.86527398, 1.42046891,\n",
              "       2.01961911, 1.81212975, 1.79689992, 2.56877321, 0.04043839])"
            ]
          },
          "metadata": {},
          "execution_count": 474
        }
      ]
    },
    {
      "cell_type": "markdown",
      "source": [
        "## Apply the control"
      ],
      "metadata": {
        "id": "x9oOTF5ehAfn"
      }
    },
    {
      "cell_type": "code",
      "source": [
        "\n",
        "PQInit = np.array(ss.PQ.Ppf.v[PQStepIdx]).copy()\n",
        "ss.PQ.Ppf.v[PQStepIdx] = PQ_after\n",
        "\n",
        "\n",
        "pref0_init = ss.PVD1.pref0.v.copy()"
      ],
      "metadata": {
        "id": "BL5KTQnBhAfn"
      },
      "execution_count": null,
      "outputs": []
    },
    {
      "cell_type": "code",
      "source": [
        "PQ_after"
      ],
      "metadata": {
        "colab": {
          "base_uri": "https://localhost:8080/"
        },
        "id": "ZKZDlyEjCpGv",
        "outputId": "b2dd3b64-7ed4-4768-9a6a-2badeb0c38f6"
      },
      "execution_count": null,
      "outputs": [
        {
          "output_type": "execute_result",
          "data": {
            "text/plain": [
              "6"
            ]
          },
          "metadata": {},
          "execution_count": 480
        }
      ]
    },
    {
      "cell_type": "code",
      "source": [
        "step_t = 0.02\n",
        "tstart =fault_time\n",
        "TimeLength = tstart+10\n",
        "idexs = np.arange(0,10)\n",
        "for t in np.arange(tstart, TimeLength, step_t):\n",
        "    ss.PVD1.pref0.v[idexs] = pref0_init[idexs]\\\n",
        "        -Action_RNN(w_plus_RNN, b_plus_RNN, w_minus_RNN, b_minus_RNN, pref0_init, idexs, max_action)\n",
        "    ss.TDS.config.tf = t\n",
        "    ss.TDS.run(tstep = 0.01)"
      ],
      "metadata": {
        "colab": {
          "base_uri": "https://localhost:8080/"
        },
        "outputId": "7b670dc5-2bd5-4390-f1dd-6d3bb1ad79c8",
        "id": "t0I4TbQQhAfn"
      },
      "execution_count": null,
      "outputs": [
        {
          "output_type": "stream",
          "name": "stdout",
          "text": [
            "100%|####################################| 100.0/100 [00:00<00:00, 134217.73%/s]\n",
            "100%|#######################################| 100.0/100 [00:00<00:00, 940.02%/s]\n",
            "100%|######################################| 100.0/100 [00:00<00:00, 1672.87%/s]\n",
            "100%|######################################| 100.0/100 [00:00<00:00, 1492.49%/s]\n",
            "100%|######################################| 100.0/100 [00:00<00:00, 1724.02%/s]\n",
            "100%|######################################| 100.0/100 [00:00<00:00, 1348.00%/s]\n",
            "100%|######################################| 100.0/100 [00:00<00:00, 1792.51%/s]\n",
            "100%|######################################| 100.0/100 [00:00<00:00, 3084.84%/s]\n",
            "100%|######################################| 100.0/100 [00:00<00:00, 2239.81%/s]\n",
            "100%|######################################| 100.0/100 [00:00<00:00, 2633.65%/s]\n",
            "100%|######################################| 100.0/100 [00:00<00:00, 3011.96%/s]\n",
            "100%|######################################| 100.0/100 [00:00<00:00, 2745.74%/s]\n",
            "100%|######################################| 100.0/100 [00:00<00:00, 2664.74%/s]\n",
            "100%|######################################| 100.0/100 [00:00<00:00, 2934.62%/s]\n",
            "100%|######################################| 100.0/100 [00:00<00:00, 2121.56%/s]\n",
            "100%|######################################| 100.0/100 [00:00<00:00, 2137.01%/s]\n",
            "100%|######################################| 100.0/100 [00:00<00:00, 2319.88%/s]\n",
            "100%|######################################| 100.0/100 [00:00<00:00, 2051.02%/s]\n",
            "100%|######################################| 100.0/100 [00:00<00:00, 1902.79%/s]\n",
            "100%|######################################| 100.0/100 [00:00<00:00, 2025.85%/s]\n",
            "100%|######################################| 100.0/100 [00:00<00:00, 1825.30%/s]\n",
            "100%|######################################| 100.0/100 [00:00<00:00, 2052.91%/s]\n",
            "100%|######################################| 100.0/100 [00:00<00:00, 2103.85%/s]\n",
            "100%|######################################| 100.0/100 [00:00<00:00, 3146.61%/s]\n",
            "100%|######################################| 100.0/100 [00:00<00:00, 2984.46%/s]\n",
            "100%|######################################| 100.0/100 [00:00<00:00, 2993.17%/s]\n",
            "100%|######################################| 100.0/100 [00:00<00:00, 3094.15%/s]\n",
            "100%|######################################| 100.0/100 [00:00<00:00, 2748.51%/s]\n",
            "100%|######################################| 100.0/100 [00:00<00:00, 2165.53%/s]\n",
            "100%|######################################| 100.0/100 [00:00<00:00, 1933.23%/s]\n",
            "100%|######################################| 100.0/100 [00:00<00:00, 2700.83%/s]\n",
            "100%|######################################| 100.0/100 [00:00<00:00, 2350.38%/s]\n",
            "100%|######################################| 100.0/100 [00:00<00:00, 2460.52%/s]\n",
            "100%|######################################| 100.0/100 [00:00<00:00, 2349.59%/s]\n",
            "100%|######################################| 100.0/100 [00:00<00:00, 2551.79%/s]\n",
            "100%|######################################| 100.0/100 [00:00<00:00, 2865.41%/s]\n",
            "100%|######################################| 100.0/100 [00:00<00:00, 3213.95%/s]\n",
            "100%|######################################| 100.0/100 [00:00<00:00, 2611.27%/s]\n",
            "100%|######################################| 100.0/100 [00:00<00:00, 3143.26%/s]\n",
            "100%|######################################| 100.0/100 [00:00<00:00, 2120.66%/s]\n",
            "100%|######################################| 100.0/100 [00:00<00:00, 2756.11%/s]\n",
            "100%|######################################| 100.0/100 [00:00<00:00, 2029.84%/s]\n",
            "100%|######################################| 100.0/100 [00:00<00:00, 3489.21%/s]\n",
            "100%|######################################| 100.0/100 [00:00<00:00, 3427.53%/s]\n",
            "100%|######################################| 100.0/100 [00:00<00:00, 2749.44%/s]\n",
            "100%|######################################| 100.0/100 [00:00<00:00, 3210.95%/s]\n",
            "100%|######################################| 100.0/100 [00:00<00:00, 3014.69%/s]\n",
            "100%|######################################| 100.0/100 [00:00<00:00, 2619.56%/s]\n",
            "100%|######################################| 100.0/100 [00:00<00:00, 2983.95%/s]\n",
            "100%|######################################| 100.0/100 [00:00<00:00, 3070.01%/s]\n",
            "100%|######################################| 100.0/100 [00:00<00:00, 2996.36%/s]\n",
            "100%|######################################| 100.0/100 [00:00<00:00, 2552.24%/s]\n",
            "100%|######################################| 100.0/100 [00:00<00:00, 2663.64%/s]\n",
            "100%|######################################| 100.0/100 [00:00<00:00, 2322.41%/s]\n",
            "100%|######################################| 100.0/100 [00:00<00:00, 2653.11%/s]\n",
            "100%|######################################| 100.0/100 [00:00<00:00, 2366.13%/s]\n",
            "100%|######################################| 100.0/100 [00:00<00:00, 2016.28%/s]\n",
            "100%|######################################| 100.0/100 [00:00<00:00, 3382.42%/s]\n",
            "100%|######################################| 100.0/100 [00:00<00:00, 3076.47%/s]\n",
            "100%|######################################| 100.0/100 [00:00<00:00, 2735.05%/s]\n",
            "100%|######################################| 100.0/100 [00:00<00:00, 2329.79%/s]\n",
            "100%|######################################| 100.0/100 [00:00<00:00, 2291.08%/s]\n",
            "100%|######################################| 100.0/100 [00:00<00:00, 2823.82%/s]\n",
            "100%|######################################| 100.0/100 [00:00<00:00, 2958.05%/s]\n",
            "100%|######################################| 100.0/100 [00:00<00:00, 3238.14%/s]\n",
            "100%|######################################| 100.0/100 [00:00<00:00, 2685.49%/s]\n",
            "100%|######################################| 100.0/100 [00:00<00:00, 3323.30%/s]\n",
            "100%|######################################| 100.0/100 [00:00<00:00, 3124.55%/s]\n",
            "100%|######################################| 100.0/100 [00:00<00:00, 2536.18%/s]\n",
            "100%|######################################| 100.0/100 [00:00<00:00, 2606.63%/s]\n",
            "100%|######################################| 100.0/100 [00:00<00:00, 2331.76%/s]\n",
            "100%|######################################| 100.0/100 [00:00<00:00, 3929.20%/s]\n",
            "100%|######################################| 100.0/100 [00:00<00:00, 3038.73%/s]\n",
            "100%|######################################| 100.0/100 [00:00<00:00, 3821.86%/s]\n",
            "100%|######################################| 100.0/100 [00:00<00:00, 4163.20%/s]\n",
            "100%|######################################| 100.0/100 [00:00<00:00, 3731.69%/s]\n",
            "100%|######################################| 100.0/100 [00:00<00:00, 2397.84%/s]\n",
            "100%|######################################| 100.0/100 [00:00<00:00, 3875.76%/s]\n",
            "100%|######################################| 100.0/100 [00:00<00:00, 2909.84%/s]\n",
            "100%|######################################| 100.0/100 [00:00<00:00, 2598.67%/s]\n",
            "100%|######################################| 100.0/100 [00:00<00:00, 2246.70%/s]\n",
            "100%|######################################| 100.0/100 [00:00<00:00, 3535.68%/s]\n",
            "100%|######################################| 100.0/100 [00:00<00:00, 3053.91%/s]\n",
            "100%|######################################| 100.0/100 [00:00<00:00, 3110.32%/s]\n",
            "100%|######################################| 100.0/100 [00:00<00:00, 3200.78%/s]\n",
            "100%|######################################| 100.0/100 [00:00<00:00, 2640.63%/s]\n",
            "100%|######################################| 100.0/100 [00:00<00:00, 2382.95%/s]\n",
            "100%|######################################| 100.0/100 [00:00<00:00, 2781.46%/s]\n",
            "100%|######################################| 100.0/100 [00:00<00:00, 3112.19%/s]\n",
            "100%|######################################| 100.0/100 [00:00<00:00, 2801.66%/s]\n",
            "100%|######################################| 100.0/100 [00:00<00:00, 2306.78%/s]\n",
            "100%|#######################################| 100.0/100 [00:00<00:00, 523.21%/s]\n",
            "100%|######################################| 100.0/100 [00:00<00:00, 2057.79%/s]\n",
            "100%|######################################| 100.0/100 [00:00<00:00, 2800.55%/s]\n",
            "100%|######################################| 100.0/100 [00:00<00:00, 3561.29%/s]\n",
            "100%|######################################| 100.0/100 [00:00<00:00, 3814.74%/s]\n",
            "100%|######################################| 100.0/100 [00:00<00:00, 3362.79%/s]\n",
            "100%|######################################| 100.0/100 [00:00<00:00, 3467.20%/s]\n",
            "100%|#######################################| 100.0/100 [00:00<00:00, 680.91%/s]\n",
            "100%|######################################| 100.0/100 [00:00<00:00, 2185.83%/s]\n",
            "100%|######################################| 100.0/100 [00:00<00:00, 3954.09%/s]\n",
            "100%|######################################| 100.0/100 [00:00<00:00, 4162.50%/s]\n",
            "100%|######################################| 100.0/100 [00:00<00:00, 3299.28%/s]\n",
            "100%|######################################| 100.0/100 [00:00<00:00, 2462.85%/s]\n",
            "100%|######################################| 100.0/100 [00:00<00:00, 2965.24%/s]\n",
            "100%|#######################################| 100.0/100 [00:00<00:00, 562.30%/s]\n",
            "100%|######################################| 100.0/100 [00:00<00:00, 1919.48%/s]\n",
            "100%|######################################| 100.0/100 [00:00<00:00, 3209.50%/s]\n",
            "100%|######################################| 100.0/100 [00:00<00:00, 3570.90%/s]\n",
            "100%|######################################| 100.0/100 [00:00<00:00, 2371.91%/s]\n",
            "100%|######################################| 100.0/100 [00:00<00:00, 3146.59%/s]\n",
            "100%|######################################| 100.0/100 [00:00<00:00, 2579.67%/s]\n",
            "100%|######################################| 100.0/100 [00:00<00:00, 2735.67%/s]\n",
            "100%|######################################| 100.0/100 [00:00<00:00, 2832.06%/s]\n",
            "100%|######################################| 100.0/100 [00:00<00:00, 2547.50%/s]\n",
            "100%|######################################| 100.0/100 [00:00<00:00, 3008.83%/s]\n",
            "100%|######################################| 100.0/100 [00:00<00:00, 2927.90%/s]\n",
            "100%|######################################| 100.0/100 [00:00<00:00, 3106.50%/s]\n",
            "100%|######################################| 100.0/100 [00:00<00:00, 3233.28%/s]\n",
            "100%|######################################| 100.0/100 [00:00<00:00, 2986.16%/s]\n",
            "100%|######################################| 100.0/100 [00:00<00:00, 1812.57%/s]\n",
            "100%|######################################| 100.0/100 [00:00<00:00, 3907.82%/s]\n",
            "100%|######################################| 100.0/100 [00:00<00:00, 3979.19%/s]\n",
            "100%|######################################| 100.0/100 [00:00<00:00, 4383.54%/s]\n",
            "100%|######################################| 100.0/100 [00:00<00:00, 2953.40%/s]\n",
            "100%|######################################| 100.0/100 [00:00<00:00, 4522.55%/s]\n",
            "100%|######################################| 100.0/100 [00:00<00:00, 4365.93%/s]\n",
            "100%|######################################| 100.0/100 [00:00<00:00, 4028.88%/s]\n",
            "100%|######################################| 100.0/100 [00:00<00:00, 4420.78%/s]\n",
            "100%|######################################| 100.0/100 [00:00<00:00, 3757.56%/s]\n",
            "100%|######################################| 100.0/100 [00:00<00:00, 1951.53%/s]\n",
            "100%|######################################| 100.0/100 [00:00<00:00, 1923.75%/s]\n",
            "100%|######################################| 100.0/100 [00:00<00:00, 2351.65%/s]\n",
            "100%|######################################| 100.0/100 [00:00<00:00, 2823.67%/s]\n",
            "100%|######################################| 100.0/100 [00:00<00:00, 2990.83%/s]\n",
            "100%|######################################| 100.0/100 [00:00<00:00, 3152.31%/s]\n",
            "100%|######################################| 100.0/100 [00:00<00:00, 3136.44%/s]\n",
            "100%|######################################| 100.0/100 [00:00<00:00, 2941.08%/s]\n",
            "100%|######################################| 100.0/100 [00:00<00:00, 3166.71%/s]\n",
            "100%|######################################| 100.0/100 [00:00<00:00, 2873.48%/s]\n",
            "100%|######################################| 100.0/100 [00:00<00:00, 3276.54%/s]\n",
            "100%|######################################| 100.0/100 [00:00<00:00, 2824.83%/s]\n",
            "100%|######################################| 100.0/100 [00:00<00:00, 2532.36%/s]\n",
            "100%|######################################| 100.0/100 [00:00<00:00, 1560.71%/s]\n",
            "100%|######################################| 100.0/100 [00:00<00:00, 1926.34%/s]\n",
            "100%|######################################| 100.0/100 [00:00<00:00, 1477.97%/s]\n",
            "100%|######################################| 100.0/100 [00:00<00:00, 1841.39%/s]\n",
            "100%|######################################| 100.0/100 [00:00<00:00, 3327.60%/s]\n",
            "100%|######################################| 100.0/100 [00:00<00:00, 3626.75%/s]\n",
            "100%|######################################| 100.0/100 [00:00<00:00, 3711.02%/s]\n",
            "100%|######################################| 100.0/100 [00:00<00:00, 3644.72%/s]\n",
            "100%|######################################| 100.0/100 [00:00<00:00, 3511.58%/s]\n",
            "100%|######################################| 100.0/100 [00:00<00:00, 3930.71%/s]\n",
            "100%|######################################| 100.0/100 [00:00<00:00, 3337.63%/s]\n",
            "100%|######################################| 100.0/100 [00:00<00:00, 2780.30%/s]\n",
            "100%|######################################| 100.0/100 [00:00<00:00, 2471.77%/s]\n",
            "100%|######################################| 100.0/100 [00:00<00:00, 1783.41%/s]\n",
            "100%|######################################| 100.0/100 [00:00<00:00, 1612.33%/s]\n",
            "100%|######################################| 100.0/100 [00:00<00:00, 1734.44%/s]\n",
            "100%|######################################| 100.0/100 [00:00<00:00, 2546.56%/s]\n",
            "100%|######################################| 100.0/100 [00:00<00:00, 2402.36%/s]\n",
            "100%|######################################| 100.0/100 [00:00<00:00, 3076.29%/s]\n",
            "100%|######################################| 100.0/100 [00:00<00:00, 2792.65%/s]\n",
            "100%|######################################| 100.0/100 [00:00<00:00, 2900.34%/s]\n",
            "100%|######################################| 100.0/100 [00:00<00:00, 2148.30%/s]\n",
            "100%|######################################| 100.0/100 [00:00<00:00, 2305.70%/s]\n",
            "100%|######################################| 100.0/100 [00:00<00:00, 2635.36%/s]\n",
            "100%|######################################| 100.0/100 [00:00<00:00, 2728.85%/s]\n",
            "100%|######################################| 100.0/100 [00:00<00:00, 2218.95%/s]\n",
            "100%|######################################| 100.0/100 [00:00<00:00, 2098.84%/s]\n",
            "100%|######################################| 100.0/100 [00:00<00:00, 2209.74%/s]\n",
            "100%|######################################| 100.0/100 [00:00<00:00, 2031.00%/s]\n",
            "100%|######################################| 100.0/100 [00:00<00:00, 2255.60%/s]\n",
            "100%|######################################| 100.0/100 [00:00<00:00, 1865.38%/s]\n",
            "100%|######################################| 100.0/100 [00:00<00:00, 1833.10%/s]\n",
            "100%|######################################| 100.0/100 [00:00<00:00, 4237.23%/s]\n",
            "100%|######################################| 100.0/100 [00:00<00:00, 4106.19%/s]\n",
            "100%|######################################| 100.0/100 [00:00<00:00, 3678.63%/s]\n",
            "100%|######################################| 100.0/100 [00:00<00:00, 4088.33%/s]\n",
            "100%|######################################| 100.0/100 [00:00<00:00, 3272.50%/s]\n",
            "100%|######################################| 100.0/100 [00:00<00:00, 3624.34%/s]\n",
            "100%|######################################| 100.0/100 [00:00<00:00, 3915.56%/s]\n",
            "100%|######################################| 100.0/100 [00:00<00:00, 1906.18%/s]\n",
            "100%|######################################| 100.0/100 [00:00<00:00, 1958.33%/s]\n",
            "100%|######################################| 100.0/100 [00:00<00:00, 2184.16%/s]\n",
            "100%|######################################| 100.0/100 [00:00<00:00, 2661.29%/s]\n",
            "100%|######################################| 100.0/100 [00:00<00:00, 3201.51%/s]\n",
            "100%|######################################| 100.0/100 [00:00<00:00, 3861.09%/s]\n",
            "100%|######################################| 100.0/100 [00:00<00:00, 3659.54%/s]\n",
            "100%|######################################| 100.0/100 [00:00<00:00, 3201.95%/s]\n",
            "100%|######################################| 100.0/100 [00:00<00:00, 2523.15%/s]\n",
            "100%|######################################| 100.0/100 [00:00<00:00, 2462.37%/s]\n",
            "100%|######################################| 100.0/100 [00:00<00:00, 2691.92%/s]\n",
            "100%|######################################| 100.0/100 [00:00<00:00, 2322.18%/s]\n",
            "100%|######################################| 100.0/100 [00:00<00:00, 1898.49%/s]\n",
            "100%|######################################| 100.0/100 [00:00<00:00, 2132.18%/s]\n",
            "100%|######################################| 100.0/100 [00:00<00:00, 1603.86%/s]\n",
            "100%|######################################| 100.0/100 [00:00<00:00, 1650.12%/s]\n",
            "100%|######################################| 100.0/100 [00:00<00:00, 1978.02%/s]\n",
            "100%|######################################| 100.0/100 [00:00<00:00, 3833.46%/s]\n",
            "100%|######################################| 100.0/100 [00:00<00:00, 3015.38%/s]\n",
            "100%|######################################| 100.0/100 [00:00<00:00, 3365.73%/s]\n",
            "100%|######################################| 100.0/100 [00:00<00:00, 4233.76%/s]\n",
            "100%|######################################| 100.0/100 [00:00<00:00, 3867.61%/s]\n",
            "100%|######################################| 100.0/100 [00:00<00:00, 3608.07%/s]\n",
            "100%|######################################| 100.0/100 [00:00<00:00, 4646.71%/s]\n",
            "100%|######################################| 100.0/100 [00:00<00:00, 4426.66%/s]\n",
            "100%|######################################| 100.0/100 [00:00<00:00, 4242.03%/s]\n",
            "100%|######################################| 100.0/100 [00:00<00:00, 3072.08%/s]\n",
            "100%|######################################| 100.0/100 [00:00<00:00, 1631.39%/s]\n",
            "100%|######################################| 100.0/100 [00:00<00:00, 2005.82%/s]\n",
            "100%|######################################| 100.0/100 [00:00<00:00, 1753.46%/s]\n",
            "100%|######################################| 100.0/100 [00:00<00:00, 2347.49%/s]\n",
            "100%|######################################| 100.0/100 [00:00<00:00, 3328.07%/s]\n",
            "100%|######################################| 100.0/100 [00:00<00:00, 3344.71%/s]\n",
            "100%|######################################| 100.0/100 [00:00<00:00, 2902.63%/s]\n",
            "100%|######################################| 100.0/100 [00:00<00:00, 2608.45%/s]\n",
            "100%|######################################| 100.0/100 [00:00<00:00, 2680.12%/s]\n",
            "100%|######################################| 100.0/100 [00:00<00:00, 2280.12%/s]\n",
            "100%|######################################| 100.0/100 [00:00<00:00, 2532.35%/s]\n",
            "100%|######################################| 100.0/100 [00:00<00:00, 2042.36%/s]\n",
            "100%|######################################| 100.0/100 [00:00<00:00, 2569.99%/s]\n",
            "100%|######################################| 100.0/100 [00:00<00:00, 4056.43%/s]\n",
            "100%|######################################| 100.0/100 [00:00<00:00, 3699.82%/s]\n",
            "100%|######################################| 100.0/100 [00:00<00:00, 4090.69%/s]\n",
            "100%|######################################| 100.0/100 [00:00<00:00, 3911.50%/s]\n",
            "100%|######################################| 100.0/100 [00:00<00:00, 4209.88%/s]\n",
            "100%|######################################| 100.0/100 [00:00<00:00, 3425.74%/s]\n",
            "100%|######################################| 100.0/100 [00:00<00:00, 3211.39%/s]\n",
            "100%|######################################| 100.0/100 [00:00<00:00, 3321.33%/s]\n",
            "100%|######################################| 100.0/100 [00:00<00:00, 3660.97%/s]\n",
            "100%|######################################| 100.0/100 [00:00<00:00, 3666.73%/s]\n",
            "100%|######################################| 100.0/100 [00:00<00:00, 3813.49%/s]\n",
            "100%|######################################| 100.0/100 [00:00<00:00, 3204.11%/s]\n",
            "100%|######################################| 100.0/100 [00:00<00:00, 2915.10%/s]\n",
            "100%|######################################| 100.0/100 [00:00<00:00, 2977.64%/s]\n",
            "100%|######################################| 100.0/100 [00:00<00:00, 3770.70%/s]\n",
            "100%|######################################| 100.0/100 [00:00<00:00, 3183.63%/s]\n",
            "100%|######################################| 100.0/100 [00:00<00:00, 2406.07%/s]\n",
            "100%|######################################| 100.0/100 [00:00<00:00, 2702.57%/s]\n",
            "100%|######################################| 100.0/100 [00:00<00:00, 2242.36%/s]\n",
            "100%|######################################| 100.0/100 [00:00<00:00, 2246.46%/s]\n",
            "100%|######################################| 100.0/100 [00:00<00:00, 2354.83%/s]\n",
            "100%|######################################| 100.0/100 [00:00<00:00, 4425.12%/s]\n",
            "100%|######################################| 100.0/100 [00:00<00:00, 4117.23%/s]\n",
            "100%|######################################| 100.0/100 [00:00<00:00, 4386.38%/s]\n",
            "100%|######################################| 100.0/100 [00:00<00:00, 4561.31%/s]\n",
            "100%|######################################| 100.0/100 [00:00<00:00, 4122.41%/s]\n",
            "100%|######################################| 100.0/100 [00:00<00:00, 4076.69%/s]\n",
            "100%|######################################| 100.0/100 [00:00<00:00, 3988.95%/s]\n",
            "100%|######################################| 100.0/100 [00:00<00:00, 4512.43%/s]\n",
            "100%|######################################| 100.0/100 [00:00<00:00, 3809.02%/s]\n",
            "100%|######################################| 100.0/100 [00:00<00:00, 3595.57%/s]\n",
            "100%|######################################| 100.0/100 [00:00<00:00, 3789.23%/s]\n",
            "100%|######################################| 100.0/100 [00:00<00:00, 4571.05%/s]\n",
            "100%|######################################| 100.0/100 [00:00<00:00, 4182.26%/s]\n",
            "100%|######################################| 100.0/100 [00:00<00:00, 3675.41%/s]\n",
            "100%|######################################| 100.0/100 [00:00<00:00, 3830.41%/s]\n",
            "100%|######################################| 100.0/100 [00:00<00:00, 3895.77%/s]\n",
            "100%|######################################| 100.0/100 [00:00<00:00, 2885.06%/s]\n",
            "100%|######################################| 100.0/100 [00:00<00:00, 3822.70%/s]\n",
            "100%|######################################| 100.0/100 [00:00<00:00, 3010.79%/s]\n",
            "100%|######################################| 100.0/100 [00:00<00:00, 1846.21%/s]\n",
            "100%|######################################| 100.0/100 [00:00<00:00, 2087.91%/s]\n",
            "100%|######################################| 100.0/100 [00:00<00:00, 2141.33%/s]\n",
            "100%|######################################| 100.0/100 [00:00<00:00, 1942.29%/s]\n",
            "100%|######################################| 100.0/100 [00:00<00:00, 2129.14%/s]\n",
            "100%|######################################| 100.0/100 [00:00<00:00, 2729.74%/s]\n",
            "100%|######################################| 100.0/100 [00:00<00:00, 2252.76%/s]\n",
            "100%|######################################| 100.0/100 [00:00<00:00, 1642.22%/s]\n",
            "100%|######################################| 100.0/100 [00:00<00:00, 1553.26%/s]\n",
            "100%|######################################| 100.0/100 [00:00<00:00, 1816.31%/s]\n",
            "100%|######################################| 100.0/100 [00:00<00:00, 1507.41%/s]\n",
            "100%|######################################| 100.0/100 [00:00<00:00, 1611.29%/s]\n",
            "100%|######################################| 100.0/100 [00:00<00:00, 3515.85%/s]\n",
            "100%|######################################| 100.0/100 [00:00<00:00, 4269.36%/s]\n",
            "100%|######################################| 100.0/100 [00:00<00:00, 4106.55%/s]\n",
            "100%|######################################| 100.0/100 [00:00<00:00, 3603.17%/s]\n",
            "100%|######################################| 100.0/100 [00:00<00:00, 3701.19%/s]\n",
            "100%|######################################| 100.0/100 [00:00<00:00, 4014.53%/s]\n",
            "100%|######################################| 100.0/100 [00:00<00:00, 4191.66%/s]\n",
            "100%|######################################| 100.0/100 [00:00<00:00, 3418.15%/s]\n",
            "100%|######################################| 100.0/100 [00:00<00:00, 2478.49%/s]\n",
            "100%|######################################| 100.0/100 [00:00<00:00, 2021.21%/s]\n",
            "100%|######################################| 100.0/100 [00:00<00:00, 1834.43%/s]\n",
            "100%|######################################| 100.0/100 [00:00<00:00, 1488.27%/s]\n",
            "100%|######################################| 100.0/100 [00:00<00:00, 1925.45%/s]\n",
            "100%|######################################| 100.0/100 [00:00<00:00, 1803.84%/s]\n",
            "100%|######################################| 100.0/100 [00:00<00:00, 1911.34%/s]\n",
            "100%|######################################| 100.0/100 [00:00<00:00, 1926.93%/s]\n",
            "100%|######################################| 100.0/100 [00:00<00:00, 1979.53%/s]\n",
            "100%|######################################| 100.0/100 [00:00<00:00, 2029.05%/s]\n",
            "100%|######################################| 100.0/100 [00:00<00:00, 2053.41%/s]\n",
            "100%|######################################| 100.0/100 [00:00<00:00, 1935.70%/s]\n",
            "100%|######################################| 100.0/100 [00:00<00:00, 1895.57%/s]\n",
            "100%|######################################| 100.0/100 [00:00<00:00, 1949.98%/s]\n",
            "100%|######################################| 100.0/100 [00:00<00:00, 1880.85%/s]\n",
            "100%|######################################| 100.0/100 [00:00<00:00, 1886.21%/s]\n",
            "100%|######################################| 100.0/100 [00:00<00:00, 1728.60%/s]\n",
            "100%|######################################| 100.0/100 [00:00<00:00, 1609.70%/s]\n",
            "100%|######################################| 100.0/100 [00:00<00:00, 1637.63%/s]\n",
            "100%|######################################| 100.0/100 [00:00<00:00, 1909.98%/s]\n",
            "100%|######################################| 100.0/100 [00:00<00:00, 1639.30%/s]\n",
            "100%|######################################| 100.0/100 [00:00<00:00, 1841.81%/s]\n",
            "100%|######################################| 100.0/100 [00:00<00:00, 1692.08%/s]\n",
            "100%|######################################| 100.0/100 [00:00<00:00, 1898.35%/s]\n",
            "100%|######################################| 100.0/100 [00:00<00:00, 1832.46%/s]\n",
            "100%|######################################| 100.0/100 [00:00<00:00, 1691.03%/s]\n",
            "100%|######################################| 100.0/100 [00:00<00:00, 2126.19%/s]\n",
            "100%|######################################| 100.0/100 [00:00<00:00, 1924.03%/s]\n",
            "100%|######################################| 100.0/100 [00:00<00:00, 2013.39%/s]\n",
            "100%|######################################| 100.0/100 [00:00<00:00, 1921.34%/s]\n",
            "100%|######################################| 100.0/100 [00:00<00:00, 2054.64%/s]\n",
            "100%|#######################################| 100.0/100 [00:00<00:00, 420.51%/s]\n",
            "100%|#######################################| 100.0/100 [00:00<00:00, 702.10%/s]\n",
            "100%|######################################| 100.0/100 [00:00<00:00, 2005.38%/s]\n",
            "100%|######################################| 100.0/100 [00:00<00:00, 2148.72%/s]\n",
            "100%|######################################| 100.0/100 [00:00<00:00, 2201.56%/s]\n",
            "100%|######################################| 100.0/100 [00:00<00:00, 2068.64%/s]\n",
            "100%|######################################| 100.0/100 [00:00<00:00, 1810.03%/s]\n",
            "100%|######################################| 100.0/100 [00:00<00:00, 1819.62%/s]\n",
            "100%|######################################| 100.0/100 [00:00<00:00, 1443.57%/s]\n",
            "100%|######################################| 100.0/100 [00:00<00:00, 1707.59%/s]\n",
            "100%|######################################| 100.0/100 [00:00<00:00, 1930.96%/s]\n",
            "100%|######################################| 100.0/100 [00:00<00:00, 2010.00%/s]\n",
            "100%|######################################| 100.0/100 [00:00<00:00, 2059.59%/s]\n",
            "100%|######################################| 100.0/100 [00:00<00:00, 1849.94%/s]\n",
            "100%|######################################| 100.0/100 [00:00<00:00, 2014.23%/s]\n",
            "100%|######################################| 100.0/100 [00:00<00:00, 1700.69%/s]\n",
            "100%|######################################| 100.0/100 [00:00<00:00, 1964.32%/s]\n",
            "100%|######################################| 100.0/100 [00:00<00:00, 2011.83%/s]\n",
            "100%|######################################| 100.0/100 [00:00<00:00, 1874.36%/s]\n",
            "100%|######################################| 100.0/100 [00:00<00:00, 1558.45%/s]\n",
            "100%|######################################| 100.0/100 [00:00<00:00, 1976.38%/s]\n",
            "100%|######################################| 100.0/100 [00:00<00:00, 1733.01%/s]\n",
            "100%|######################################| 100.0/100 [00:00<00:00, 2071.27%/s]\n",
            "100%|######################################| 100.0/100 [00:00<00:00, 1891.63%/s]\n",
            "100%|######################################| 100.0/100 [00:00<00:00, 1731.74%/s]\n",
            "100%|######################################| 100.0/100 [00:00<00:00, 1737.53%/s]\n",
            "100%|######################################| 100.0/100 [00:00<00:00, 1947.98%/s]\n",
            "100%|######################################| 100.0/100 [00:00<00:00, 3651.98%/s]\n",
            "100%|######################################| 100.0/100 [00:00<00:00, 4663.86%/s]\n",
            "100%|######################################| 100.0/100 [00:00<00:00, 2048.21%/s]\n",
            "100%|######################################| 100.0/100 [00:00<00:00, 3182.08%/s]\n",
            "100%|######################################| 100.0/100 [00:00<00:00, 3729.56%/s]\n",
            "100%|######################################| 100.0/100 [00:00<00:00, 4450.38%/s]\n",
            "100%|######################################| 100.0/100 [00:00<00:00, 3909.31%/s]\n",
            "100%|######################################| 100.0/100 [00:00<00:00, 3690.93%/s]\n",
            "100%|######################################| 100.0/100 [00:00<00:00, 3259.41%/s]\n",
            "100%|######################################| 100.0/100 [00:00<00:00, 3668.40%/s]\n",
            "100%|######################################| 100.0/100 [00:00<00:00, 4672.23%/s]\n",
            "100%|######################################| 100.0/100 [00:00<00:00, 3394.30%/s]\n",
            "100%|######################################| 100.0/100 [00:00<00:00, 3087.57%/s]\n",
            "100%|######################################| 100.0/100 [00:00<00:00, 3750.84%/s]\n",
            "100%|######################################| 100.0/100 [00:00<00:00, 3299.33%/s]\n",
            "100%|######################################| 100.0/100 [00:00<00:00, 3760.97%/s]\n",
            "100%|######################################| 100.0/100 [00:00<00:00, 3448.84%/s]\n",
            "100%|######################################| 100.0/100 [00:00<00:00, 3129.82%/s]\n",
            "100%|######################################| 100.0/100 [00:00<00:00, 1789.66%/s]\n",
            "100%|######################################| 100.0/100 [00:00<00:00, 1938.04%/s]\n",
            "100%|######################################| 100.0/100 [00:00<00:00, 2179.57%/s]\n",
            "100%|######################################| 100.0/100 [00:00<00:00, 2173.50%/s]\n",
            "100%|######################################| 100.0/100 [00:00<00:00, 2585.01%/s]\n",
            "100%|######################################| 100.0/100 [00:00<00:00, 1714.02%/s]\n",
            "100%|######################################| 100.0/100 [00:00<00:00, 2034.84%/s]\n",
            "100%|######################################| 100.0/100 [00:00<00:00, 1698.02%/s]\n",
            "100%|######################################| 100.0/100 [00:00<00:00, 1693.83%/s]\n",
            "100%|######################################| 100.0/100 [00:00<00:00, 1945.72%/s]\n",
            "100%|######################################| 100.0/100 [00:00<00:00, 1680.36%/s]\n",
            "100%|######################################| 100.0/100 [00:00<00:00, 1683.11%/s]\n",
            "100%|######################################| 100.0/100 [00:00<00:00, 1985.23%/s]\n",
            "100%|######################################| 100.0/100 [00:00<00:00, 1594.81%/s]\n",
            "100%|######################################| 100.0/100 [00:00<00:00, 1877.91%/s]\n",
            "100%|######################################| 100.0/100 [00:00<00:00, 1933.48%/s]\n",
            "100%|######################################| 100.0/100 [00:00<00:00, 1984.48%/s]\n",
            "100%|######################################| 100.0/100 [00:00<00:00, 2002.56%/s]\n",
            "100%|######################################| 100.0/100 [00:00<00:00, 1814.23%/s]\n",
            "100%|######################################| 100.0/100 [00:00<00:00, 1497.35%/s]\n",
            "100%|######################################| 100.0/100 [00:00<00:00, 1752.80%/s]\n",
            "100%|######################################| 100.0/100 [00:00<00:00, 1838.99%/s]\n",
            "100%|######################################| 100.0/100 [00:00<00:00, 1798.01%/s]\n",
            "100%|######################################| 100.0/100 [00:00<00:00, 1746.67%/s]\n",
            "100%|######################################| 100.0/100 [00:00<00:00, 1813.21%/s]\n",
            "100%|######################################| 100.0/100 [00:00<00:00, 1660.26%/s]\n",
            "100%|######################################| 100.0/100 [00:00<00:00, 1596.09%/s]\n",
            "100%|######################################| 100.0/100 [00:00<00:00, 1961.80%/s]\n",
            "100%|######################################| 100.0/100 [00:00<00:00, 1674.59%/s]\n",
            "100%|######################################| 100.0/100 [00:00<00:00, 1824.27%/s]\n",
            "100%|######################################| 100.0/100 [00:00<00:00, 1671.48%/s]\n",
            "100%|######################################| 100.0/100 [00:00<00:00, 1705.20%/s]\n",
            "100%|######################################| 100.0/100 [00:00<00:00, 1833.86%/s]\n",
            "100%|######################################| 100.0/100 [00:00<00:00, 2028.55%/s]\n",
            "100%|######################################| 100.0/100 [00:00<00:00, 1791.90%/s]\n",
            "100%|######################################| 100.0/100 [00:00<00:00, 1960.97%/s]\n",
            "100%|######################################| 100.0/100 [00:00<00:00, 2003.07%/s]\n",
            "100%|######################################| 100.0/100 [00:00<00:00, 1757.30%/s]\n",
            "100%|######################################| 100.0/100 [00:00<00:00, 1728.54%/s]\n",
            "100%|######################################| 100.0/100 [00:00<00:00, 1812.26%/s]\n",
            "100%|######################################| 100.0/100 [00:00<00:00, 1969.22%/s]\n",
            "100%|######################################| 100.0/100 [00:00<00:00, 1762.98%/s]\n",
            "100%|######################################| 100.0/100 [00:00<00:00, 1558.60%/s]\n",
            "100%|######################################| 100.0/100 [00:00<00:00, 1846.11%/s]\n",
            "100%|######################################| 100.0/100 [00:00<00:00, 2023.07%/s]\n",
            "100%|######################################| 100.0/100 [00:00<00:00, 1683.51%/s]\n",
            "100%|######################################| 100.0/100 [00:00<00:00, 1712.17%/s]\n",
            "100%|######################################| 100.0/100 [00:00<00:00, 1835.25%/s]\n",
            "100%|######################################| 100.0/100 [00:00<00:00, 1891.28%/s]\n",
            "100%|######################################| 100.0/100 [00:00<00:00, 1847.29%/s]\n",
            "100%|######################################| 100.0/100 [00:00<00:00, 2056.79%/s]\n",
            "100%|######################################| 100.0/100 [00:00<00:00, 1927.12%/s]\n",
            "100%|######################################| 100.0/100 [00:00<00:00, 1605.01%/s]\n",
            "100%|######################################| 100.0/100 [00:00<00:00, 1776.80%/s]\n",
            "100%|######################################| 100.0/100 [00:00<00:00, 1960.57%/s]\n",
            "100%|######################################| 100.0/100 [00:00<00:00, 2049.71%/s]\n",
            "100%|######################################| 100.0/100 [00:00<00:00, 1854.49%/s]\n",
            "100%|######################################| 100.0/100 [00:00<00:00, 1922.70%/s]\n",
            "100%|######################################| 100.0/100 [00:00<00:00, 1931.62%/s]\n",
            "100%|######################################| 100.0/100 [00:00<00:00, 1530.30%/s]\n",
            "100%|######################################| 100.0/100 [00:00<00:00, 1865.22%/s]\n",
            "100%|######################################| 100.0/100 [00:00<00:00, 1795.51%/s]\n",
            "100%|######################################| 100.0/100 [00:00<00:00, 1964.54%/s]\n",
            "100%|######################################| 100.0/100 [00:00<00:00, 2109.10%/s]\n",
            "100%|######################################| 100.0/100 [00:00<00:00, 1620.45%/s]\n",
            "100%|######################################| 100.0/100 [00:00<00:00, 1890.53%/s]\n",
            "100%|######################################| 100.0/100 [00:00<00:00, 1816.54%/s]\n",
            "100%|######################################| 100.0/100 [00:00<00:00, 1883.65%/s]\n",
            "100%|######################################| 100.0/100 [00:00<00:00, 1544.15%/s]\n",
            "100%|######################################| 100.0/100 [00:00<00:00, 1839.23%/s]\n",
            "100%|######################################| 100.0/100 [00:00<00:00, 1747.75%/s]\n",
            "100%|######################################| 100.0/100 [00:00<00:00, 1852.74%/s]\n",
            "100%|######################################| 100.0/100 [00:00<00:00, 2036.43%/s]\n",
            "100%|######################################| 100.0/100 [00:00<00:00, 2035.48%/s]\n",
            "100%|######################################| 100.0/100 [00:00<00:00, 2255.77%/s]\n",
            "100%|######################################| 100.0/100 [00:00<00:00, 4191.79%/s]\n",
            "100%|######################################| 100.0/100 [00:00<00:00, 3259.36%/s]\n",
            "100%|######################################| 100.0/100 [00:00<00:00, 4161.72%/s]\n",
            "100%|######################################| 100.0/100 [00:00<00:00, 3328.73%/s]\n",
            "100%|######################################| 100.0/100 [00:00<00:00, 3737.11%/s]\n",
            "100%|######################################| 100.0/100 [00:00<00:00, 3810.72%/s]\n",
            "100%|######################################| 100.0/100 [00:00<00:00, 4313.22%/s]\n",
            "100%|######################################| 100.0/100 [00:00<00:00, 4117.75%/s]\n",
            "100%|######################################| 100.0/100 [00:00<00:00, 4236.67%/s]\n",
            "100%|######################################| 100.0/100 [00:00<00:00, 3996.78%/s]\n",
            "100%|######################################| 100.0/100 [00:00<00:00, 4175.97%/s]\n",
            "100%|######################################| 100.0/100 [00:00<00:00, 4231.88%/s]\n",
            "100%|######################################| 100.0/100 [00:00<00:00, 4976.81%/s]\n",
            "100%|######################################| 100.0/100 [00:00<00:00, 4338.74%/s]\n",
            "100%|######################################| 100.0/100 [00:00<00:00, 3177.29%/s]\n",
            "100%|######################################| 100.0/100 [00:00<00:00, 3767.96%/s]\n",
            "100%|######################################| 100.0/100 [00:00<00:00, 4217.29%/s]\n",
            "100%|######################################| 100.0/100 [00:00<00:00, 1458.24%/s]\n",
            "100%|######################################| 100.0/100 [00:00<00:00, 2206.73%/s]\n",
            "100%|######################################| 100.0/100 [00:00<00:00, 2702.72%/s]\n",
            "100%|######################################| 100.0/100 [00:00<00:00, 2072.81%/s]\n",
            "100%|######################################| 100.0/100 [00:00<00:00, 2536.62%/s]\n",
            "100%|######################################| 100.0/100 [00:00<00:00, 2675.55%/s]\n",
            "100%|######################################| 100.0/100 [00:00<00:00, 2591.62%/s]\n",
            "100%|######################################| 100.0/100 [00:00<00:00, 4272.40%/s]\n",
            "100%|######################################| 100.0/100 [00:00<00:00, 3418.48%/s]\n",
            "100%|######################################| 100.0/100 [00:00<00:00, 4258.91%/s]\n",
            "100%|######################################| 100.0/100 [00:00<00:00, 3598.10%/s]\n",
            "100%|######################################| 100.0/100 [00:00<00:00, 4010.92%/s]\n",
            "100%|######################################| 100.0/100 [00:00<00:00, 4003.54%/s]\n",
            "100%|######################################| 100.0/100 [00:00<00:00, 3172.22%/s]\n",
            "100%|######################################| 100.0/100 [00:00<00:00, 3453.72%/s]\n",
            "100%|######################################| 100.0/100 [00:00<00:00, 3901.75%/s]\n",
            "100%|######################################| 100.0/100 [00:00<00:00, 3983.12%/s]\n",
            "100%|######################################| 100.0/100 [00:00<00:00, 3457.91%/s]\n",
            "100%|######################################| 100.0/100 [00:00<00:00, 3793.72%/s]\n",
            "100%|######################################| 100.0/100 [00:00<00:00, 2847.55%/s]\n",
            "100%|######################################| 100.0/100 [00:00<00:00, 3702.99%/s]\n",
            "100%|######################################| 100.0/100 [00:00<00:00, 3913.47%/s]\n",
            "100%|######################################| 100.0/100 [00:00<00:00, 4577.24%/s]\n",
            "100%|######################################| 100.0/100 [00:00<00:00, 5139.13%/s]\n",
            "100%|######################################| 100.0/100 [00:00<00:00, 4096.72%/s]\n",
            "100%|######################################| 100.0/100 [00:00<00:00, 4478.08%/s]\n",
            "100%|######################################| 100.0/100 [00:00<00:00, 3858.50%/s]\n",
            "100%|######################################| 100.0/100 [00:00<00:00, 4995.54%/s]\n",
            "100%|######################################| 100.0/100 [00:00<00:00, 5064.67%/s]\n",
            "100%|######################################| 100.0/100 [00:00<00:00, 3998.00%/s]\n",
            "100%|######################################| 100.0/100 [00:00<00:00, 3803.29%/s]\n",
            "100%|######################################| 100.0/100 [00:00<00:00, 3665.71%/s]\n",
            "100%|######################################| 100.0/100 [00:00<00:00, 2464.02%/s]\n",
            "100%|######################################| 100.0/100 [00:00<00:00, 1744.66%/s]\n",
            "100%|######################################| 100.0/100 [00:00<00:00, 1885.77%/s]\n",
            "100%|######################################| 100.0/100 [00:00<00:00, 1658.77%/s]\n",
            "100%|######################################| 100.0/100 [00:00<00:00, 1996.77%/s]\n",
            "100%|######################################| 100.0/100 [00:00<00:00, 1968.35%/s]\n",
            "100%|######################################| 100.0/100 [00:00<00:00, 1922.31%/s]\n",
            "100%|######################################| 100.0/100 [00:00<00:00, 1819.53%/s]\n",
            "100%|######################################| 100.0/100 [00:00<00:00, 1555.47%/s]\n",
            "100%|######################################| 100.0/100 [00:00<00:00, 1837.31%/s]\n",
            "100%|######################################| 100.0/100 [00:00<00:00, 1337.00%/s]\n",
            "100%|######################################| 100.0/100 [00:00<00:00, 1944.87%/s]\n",
            "100%|######################################| 100.0/100 [00:00<00:00, 1563.30%/s]\n",
            "100%|######################################| 100.0/100 [00:00<00:00, 1782.85%/s]\n",
            "100%|######################################| 100.0/100 [00:00<00:00, 1782.06%/s]\n",
            "100%|######################################| 100.0/100 [00:00<00:00, 1829.62%/s]\n",
            "100%|######################################| 100.0/100 [00:00<00:00, 1864.85%/s]\n",
            "100%|######################################| 100.0/100 [00:00<00:00, 2014.07%/s]\n"
          ]
        }
      ]
    },
    {
      "cell_type": "code",
      "source": [
        "if RecoverFlag:\n",
        "    tstart =fault_time+10\n",
        "    TimeLength = tstart+10\n",
        "    ss.PQ.Ppf.v[PQStepIdx] = PQInit\n",
        "\n",
        "    for t in np.arange(tstart, TimeLength, step_t):\n",
        "        ss.PVD1.pref0.v[idexs] = pref0_init[idexs]\\\n",
        "            -Action_RNN(w_plus_RNN, b_plus_RNN, w_minus_RNN, b_minus_RNN, pref0_init, idexs, max_action)\n",
        "        ss.TDS.config.tf = t\n",
        "        ss.TDS.run()"
      ],
      "metadata": {
        "id": "FQJsgc0mUysx"
      },
      "execution_count": null,
      "outputs": []
    },
    {
      "cell_type": "code",
      "source": [
        "ListTime = ss.dae.ts.t\n",
        "ListFreq = ss.dae.ts.y[:,ss.BusFreq.f.a]*60 #Hz\n",
        "ListOmega= ss.dae.ts.x[:,ss.GENROU.omega.a]*60 #Hz\n",
        "plt_idx = np.arange(0,10)\n",
        "TimeStep_start = 0\n",
        "TimeStep = np.size(ListTime)\n",
        "fig = plt.figure(figsize=(9, 3), dpi=100)\n",
        "\n",
        "plt.subplot(1,2,1)\n",
        "\n",
        "plt.plot(ListTime[TimeStep_start:TimeStep]-ListTime[TimeStep_start ], ListOmega[TimeStep_start:TimeStep, plt_idx], label='RotorFreq')\n",
        "plt.xlabel('t(s)')\n",
        "plt.ylabel('P(p.u.)')\n",
        "plt.title('omega')\n",
        "# plt.legend()\n",
        "\n",
        "plt.subplot(1,2,2)\n",
        "# TimeStep_start = 560\n",
        "# TimeStep = 800\n",
        "plt.plot(ListTime[TimeStep_start:TimeStep]-ListTime[TimeStep_start ], ListFreq[TimeStep_start:TimeStep, plt_idx], label='BusFreq')\n",
        "plt.xlabel('t(s)')\n",
        "plt.ylabel('P(p.u.)')\n",
        "plt.title('freq')\n",
        "\n",
        "# plt.legend()\n",
        "fig.tight_layout()"
      ],
      "metadata": {
        "colab": {
          "base_uri": "https://localhost:8080/",
          "height": 301
        },
        "id": "SgKunISXZrAt",
        "outputId": "534da4c0-3e91-4f37-eb6e-8bb2a60249f2"
      },
      "execution_count": null,
      "outputs": [
        {
          "output_type": "display_data",
          "data": {
            "text/plain": [
              "<Figure size 900x300 with 2 Axes>"
            ],
            "image/png": "[encoded data removed]"
          },
          "metadata": {
            "needs_background": "light"
          }
        }
      ]
    },
    {
      "cell_type": "markdown",
      "source": [
        "## compare power command and output power"
      ],
      "metadata": {
        "id": "APIHLav_yXif"
      }
    },
    {
      "cell_type": "code",
      "source": [
        "ss.TDS.plt.plot(ss.PVD1.v,\n",
        "                a=(0,1),\n",
        "                title='PVD1 $V$ (voltage)')\n"
      ],
      "metadata": {
        "colab": {
          "base_uri": "https://localhost:8080/",
          "height": 450
        },
        "outputId": "eaf7ba10-57c4-412b-801d-96fc894ddce5",
        "id": "uzlznHZLyXij"
      },
      "execution_count": null,
      "outputs": [
        {
          "output_type": "display_data",
          "data": {
            "text/plain": [
              "<Figure size 600x400 with 1 Axes>"
            ],
            "image/png": "[encoded data removed]"
          },
          "metadata": {
            "needs_background": "light"
          }
        },
        {
          "output_type": "execute_result",
          "data": {
            "text/plain": [
              "(<Figure size 600x400 with 1 Axes>,\n",
              " <matplotlib.axes._subplots.AxesSubplot at 0x7feab49ed350>)"
            ]
          },
          "metadata": {},
          "execution_count": 484
        }
      ]
    },
    {
      "cell_type": "code",
      "source": [
        "ListTime = ss.dae.ts.t\n",
        "ListPVDV = ss.dae.ts.y[:,ss.PVD1.v.a]\n",
        "ListPVDI = ss.dae.ts.x[:,ss.PVD1.Ipout_y.a]\n",
        "ListPVDPower = ListPVDV*ListPVDI\n",
        "ListPVDPowerCMD = ss.dae.ts.y[:,ss.PVD1.Psum.a]"
      ],
      "metadata": {
        "id": "vB2kew2LyXij"
      },
      "execution_count": null,
      "outputs": []
    },
    {
      "cell_type": "code",
      "source": [
        "np.size(ListTime )"
      ],
      "metadata": {
        "colab": {
          "base_uri": "https://localhost:8080/"
        },
        "outputId": "cc8c4185-de8e-4af6-8c04-332702f5b4f4",
        "id": "za7tPC-dyXij"
      },
      "execution_count": null,
      "outputs": [
        {
          "output_type": "execute_result",
          "data": {
            "text/plain": [
              "535"
            ]
          },
          "metadata": {},
          "execution_count": 486
        }
      ]
    },
    {
      "cell_type": "code",
      "source": [
        "plt_idx = [0]\n",
        "TimeStep_start = 0\n",
        "TimeStep = np.size(ListTime)\n",
        "fig = plt.figure(figsize=(9, 3), dpi=100)\n",
        "\n",
        "plt.subplot(1,2,1)\n",
        "\n",
        "plt.plot(ListTime[TimeStep_start:TimeStep]-ListTime[TimeStep_start ], ListPVDPower[TimeStep_start:TimeStep, plt_idx], label='ouput')\n",
        "plt.plot(ListTime[TimeStep_start:TimeStep]-ListTime[TimeStep_start ], ListPVDPowerCMD[TimeStep_start:TimeStep, plt_idx], label='command')\n",
        "plt.xlabel('t(s)')\n",
        "plt.ylabel('P(p.u.)')\n",
        "plt.legend()\n",
        "\n",
        "plt.subplot(1,2,2)\n",
        "# TimeStep_start = 560\n",
        "TimeStep = 800\n",
        "plt.plot(ListTime[TimeStep_start:TimeStep]-ListTime[TimeStep_start ], ListPVDPower[TimeStep_start:TimeStep, plt_idx], label='ouput')\n",
        "plt.plot(ListTime[TimeStep_start:TimeStep]-ListTime[TimeStep_start ], ListPVDPowerCMD[TimeStep_start:TimeStep, plt_idx], label='command')\n",
        "plt.xlabel('t(s)')\n",
        "plt.ylabel('P(p.u.)')\n",
        "plt.legend()\n",
        "fig.tight_layout()"
      ],
      "metadata": {
        "colab": {
          "base_uri": "https://localhost:8080/",
          "height": 301
        },
        "outputId": "c5a34e14-c9a7-4741-d49b-ecfd052001f7",
        "id": "g5s7wpcjyXij"
      },
      "execution_count": null,
      "outputs": [
        {
          "output_type": "display_data",
          "data": {
            "text/plain": [
              "<Figure size 900x300 with 2 Axes>"
            ],
            "image/png": "[encoded data removed]"
          },
          "metadata": {
            "needs_background": "light"
          }
        }
      ]
    },
    {
      "cell_type": "code",
      "source": [
        "plt_idx = np.arange(0, 10)\n",
        "TimeStep_start = 0\n",
        "TimeStep = np.size(ListTime)-200\n",
        "fig = plt.figure(figsize=(9, 3), dpi=100)\n",
        "\n",
        "plt.subplot(1,2,1)\n",
        "\n",
        "plt.plot(ListTime[TimeStep_start:TimeStep]-ListTime[TimeStep_start ], \\\n",
        "         ListPVDPower[TimeStep_start:TimeStep, plt_idx]-ListPVDPower[0, plt_idx], label='ouput')\n",
        "# plt.plot(ListTime[TimeStep_start:TimeStep], ListPVDPowerCMD[TimeStep_start:TimeStep, plt_idx], label='command')\n",
        "plt.xlabel('t(s)')\n",
        "plt.ylabel('P(p.u.)')\n",
        "# plt.legend()\n",
        "\n",
        "plt.subplot(1,2,2)\n",
        "# TimeStep_start = 0\n",
        "# TimeStep = 300\n",
        "# plt.plot(ListTime[TimeStep_start:TimeStep], ListPVDPower[TimeStep_start:TimeStep, plt_idx], label='ouput')\n",
        "plt.plot(ListTime[TimeStep_start:TimeStep]-ListTime[TimeStep_start ], \\\n",
        "         ListPVDPowerCMD[TimeStep_start:TimeStep, plt_idx]-ListPVDPower[0, plt_idx], label='command')\n",
        "plt.xlabel('t(s)')\n",
        "plt.ylabel('P(p.u.)')\n",
        "# plt.legend()\n",
        "fig.tight_layout()"
      ],
      "metadata": {
        "colab": {
          "base_uri": "https://localhost:8080/",
          "height": 301
        },
        "outputId": "a05abe0c-745c-4b90-f87b-de8482ef2a04",
        "id": "gwrl5W7-yXik"
      },
      "execution_count": null,
      "outputs": [
        {
          "output_type": "display_data",
          "data": {
            "text/plain": [
              "<Figure size 900x300 with 2 Axes>"
            ],
            "image/png": "[encoded data removed]"
          },
          "metadata": {
            "needs_background": "light"
          }
        }
      ]
    },
    {
      "cell_type": "code",
      "source": [],
      "metadata": {
        "id": "oEv2CZqWzbIG"
      },
      "execution_count": null,
      "outputs": []
    },
    {
      "cell_type": "markdown",
      "source": [
        "## Compare omega"
      ],
      "metadata": {
        "id": "qouGH_6BzbW_"
      }
    },
    {
      "cell_type": "code",
      "source": [
        "ss.BusFreq.f"
      ],
      "metadata": {
        "colab": {
          "base_uri": "https://localhost:8080/"
        },
        "outputId": "55f3e9b0-9b80-455d-a20b-05580377f6f2",
        "id": "S9UV1hnqzbW_"
      },
      "execution_count": null,
      "outputs": [
        {
          "output_type": "execute_result",
          "data": {
            "text/plain": [
              "Algeb: BusFreq.f, a=[481 482 483 484 485 486 487 488 489 490 491], v=[0.99825357 0.99825355 0.99825356 0.99825369 0.99825365 0.9982538\n",
              " 0.99825387 0.9982536  0.99825377 0.99825355 0.99825347], e=[ 0.00000000e+00  0.00000000e+00  0.00000000e+00  0.00000000e+00\n",
              "  0.00000000e+00  0.00000000e+00  0.00000000e+00  0.00000000e+00\n",
              "  0.00000000e+00 -2.22044605e-16  1.11022302e-16]"
            ]
          },
          "metadata": {},
          "execution_count": 489
        }
      ]
    },
    {
      "cell_type": "code",
      "source": [
        "ListTime = ss.dae.ts.t\n",
        "ListFreq = ss.dae.ts.y[:,ss.BusFreq.f.a]*60 #Hz\n",
        "ListOmega= ss.dae.ts.x[:,ss.GENROU.omega.a]*60 #Hz\n"
      ],
      "metadata": {
        "id": "FYQq9X9BzbW_"
      },
      "execution_count": null,
      "outputs": []
    },
    {
      "cell_type": "code",
      "source": [
        "plt_idx = [0]\n",
        "TimeStep_start = 0\n",
        "TimeStep = np.size(ListTime)\n",
        "fig = plt.figure(figsize=(9, 3), dpi=100)\n",
        "\n",
        "plt.subplot(1,2,1)\n",
        "\n",
        "plt.plot(ListTime[TimeStep_start:TimeStep]-ListTime[TimeStep_start ], ListFreq[TimeStep_start:TimeStep, plt_idx], label='BusFreq')\n",
        "plt.plot(ListTime[TimeStep_start:TimeStep]-ListTime[TimeStep_start ], ListOmega[TimeStep_start:TimeStep, plt_idx], label='RotorFreq')\n",
        "plt.xlabel('t(s)')\n",
        "plt.ylabel('P(p.u.)')\n",
        "plt.legend()\n",
        "\n",
        "plt.subplot(1,2,2)\n",
        "TimeStep_start = 0\n",
        "TimeStep = np.size(ListTime)\n",
        "plt.plot(ListTime[TimeStep_start:TimeStep]-ListTime[TimeStep_start ], ListFreq[TimeStep_start:TimeStep, plt_idx], label='BusFreq')\n",
        "plt.plot(ListTime[TimeStep_start:TimeStep]-ListTime[TimeStep_start ], ListOmega[TimeStep_start:TimeStep, plt_idx], label='RotorFreq')\n",
        "plt.xlabel('t(s)')\n",
        "plt.ylabel('P(p.u.)')\n",
        "plt.legend()\n",
        "fig.tight_layout()"
      ],
      "metadata": {
        "colab": {
          "base_uri": "https://localhost:8080/",
          "height": 301
        },
        "outputId": "86af39dc-c847-4c6a-af93-bf4b568f711c",
        "id": "1p-KiU9ezbW_"
      },
      "execution_count": null,
      "outputs": [
        {
          "output_type": "display_data",
          "data": {
            "text/plain": [
              "<Figure size 900x300 with 2 Axes>"
            ],
            "image/png": "[encoded data removed]"
          },
          "metadata": {
            "needs_background": "light"
          }
        }
      ]
    },
    {
      "cell_type": "code",
      "source": [],
      "metadata": {
        "id": "4rhqtAunzbXA"
      },
      "execution_count": null,
      "outputs": []
    }
  ],
  "metadata": {
    "interpreter": {
      "hash": "b2f979d891be15b14f4332b6eed75a0475160d17003978b44c1d0bc62ad71649"
    },
    "kernelspec": {
      "display_name": "Python 3 (ipykernel)",
      "language": "python",
      "name": "python3"
    },
    "language_info": {
      "codemirror_mode": {
        "name": "ipython",
        "version": 3
      },
      "file_extension": ".py",
      "mimetype": "text/x-python",
      "name": "python",
      "nbconvert_exporter": "python",
      "pygments_lexer": "ipython3",
      "version": "3.9.7"
    },
    "metadata": {
      "interpreter": {
        "hash": "7dcf7be8cc97f6f28812ee601415372b88ddefbec529c6a68a6def4717df442e"
      }
    },
    "colab": {
      "provenance": [],
      "toc_visible": true
    }
  },
  "nbformat": 4,
  "nbformat_minor": 0
}